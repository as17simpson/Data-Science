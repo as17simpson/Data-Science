{
 "cells": [
  {
   "cell_type": "markdown",
   "metadata": {},
   "source": [
    "# Twitter USA Airline Sentiment Analysis Using Keras and RNNs"
   ]
  },
  {
   "cell_type": "markdown",
   "metadata": {},
   "source": [
    "## Problem"
   ]
  },
  {
   "cell_type": "markdown",
   "metadata": {},
   "source": [
    "The problem explored through this implementation is related to sentiment analysis and Natural Language Processing (NLP) which is a field in AI where the machine processes and develops an understanding of the human language. One common modality used in this purpose, and for this project, is text. \n",
    "Sentiment analysis for this project involves classifying the meaning of that text into positive, negative or neutral classes. This project will tackle this problem using tweets about different US Airlines. "
   ]
  },
  {
   "cell_type": "markdown",
   "metadata": {},
   "source": [
    "## Purpose of this project"
   ]
  },
  {
   "cell_type": "markdown",
   "metadata": {},
   "source": [
    "Social Media such as Facebook or Twitter are now part of most people's lives and represent a primary medium through which they express their opinions regarding personal life, politics and experiences with businesses such as recent interactions or purchases. Working on solutions to understand customer feedback and sentiment can represent a valuable advantage in business strategy improvement. \n",
    "\n",
    "This project will explore and compare six different implementations of Recurrent Neural Networks (RNNs) and their performance in classifying negative, neutral and positive tweets. This will help us determining what implementation would be the most efficient and appropriate to the dataset on this classification task.\n",
    "\n",
    "RNNs are very popular in the field of NLP due to their ability to process sequential data and create state containing information about what the network has learned so far. Indeed, RNNs work by creating loops between each neuron in the network and this characteristic makes it specifically efficient for sequential data such as text. This is why we believe choosing this solution is efficient for this specific text classification task."
   ]
  },
  {
   "cell_type": "markdown",
   "metadata": {},
   "source": [
    "###### Libraries"
   ]
  },
  {
   "cell_type": "code",
   "execution_count": 1,
   "metadata": {},
   "outputs": [],
   "source": [
    "import pandas as pd\n",
    "import numpy as np\n",
    "import matplotlib.pyplot as plt\n",
    "import os\n",
    "from sklearn.model_selection import train_test_split\n",
    "from tensorflow.keras.utils import to_categorical\n",
    "import math\n",
    "%matplotlib inline"
   ]
  },
  {
   "cell_type": "markdown",
   "metadata": {},
   "source": [
    "## The Data"
   ]
  },
  {
   "cell_type": "markdown",
   "metadata": {},
   "source": [
    "The dataset used is from a CSV file downloaded from Kaggle, called “Twitter US Airline Sentiment” and will be sent along with this project. It contains 14,640 rows and 15 columns. The tweets, about several US airlines, were scraped in 2015 from Twitter. Each tweet was classified as positive, neutral or negative - called airline_sentiment - assigned with a confidence score label - called 'airline_sentiment_confidence' - and got a main reason as for the tweet was classify as negative - called 'negativereason' - . "
   ]
  },
  {
   "cell_type": "markdown",
   "metadata": {},
   "source": [
    "Import data from the CSV file 'Tweets.csv' provided with this Jupyter file:"
   ]
  },
  {
   "cell_type": "code",
   "execution_count": 2,
   "metadata": {},
   "outputs": [],
   "source": [
    "# Import twitter data\n",
    "df = pd.read_csv(\"/Users/Didie/Desktop/Tweets.csv\")"
   ]
  },
  {
   "cell_type": "code",
   "execution_count": 3,
   "metadata": {},
   "outputs": [
    {
     "data": {
      "text/html": [
       "<div>\n",
       "<style scoped>\n",
       "    .dataframe tbody tr th:only-of-type {\n",
       "        vertical-align: middle;\n",
       "    }\n",
       "\n",
       "    .dataframe tbody tr th {\n",
       "        vertical-align: top;\n",
       "    }\n",
       "\n",
       "    .dataframe thead th {\n",
       "        text-align: right;\n",
       "    }\n",
       "</style>\n",
       "<table border=\"1\" class=\"dataframe\">\n",
       "  <thead>\n",
       "    <tr style=\"text-align: right;\">\n",
       "      <th></th>\n",
       "      <th>tweet_id</th>\n",
       "      <th>airline_sentiment</th>\n",
       "      <th>airline_sentiment_confidence</th>\n",
       "      <th>negativereason</th>\n",
       "      <th>negativereason_confidence</th>\n",
       "      <th>airline</th>\n",
       "      <th>airline_sentiment_gold</th>\n",
       "      <th>name</th>\n",
       "      <th>negativereason_gold</th>\n",
       "      <th>retweet_count</th>\n",
       "      <th>text</th>\n",
       "      <th>tweet_coord</th>\n",
       "      <th>tweet_created</th>\n",
       "      <th>tweet_location</th>\n",
       "      <th>user_timezone</th>\n",
       "    </tr>\n",
       "  </thead>\n",
       "  <tbody>\n",
       "    <tr>\n",
       "      <th>0</th>\n",
       "      <td>570306133677760513</td>\n",
       "      <td>neutral</td>\n",
       "      <td>1.0000</td>\n",
       "      <td>NaN</td>\n",
       "      <td>NaN</td>\n",
       "      <td>Virgin America</td>\n",
       "      <td>NaN</td>\n",
       "      <td>cairdin</td>\n",
       "      <td>NaN</td>\n",
       "      <td>0</td>\n",
       "      <td>@VirginAmerica What @dhepburn said.</td>\n",
       "      <td>NaN</td>\n",
       "      <td>2015-02-24 11:35:52 -0800</td>\n",
       "      <td>NaN</td>\n",
       "      <td>Eastern Time (US &amp; Canada)</td>\n",
       "    </tr>\n",
       "    <tr>\n",
       "      <th>1</th>\n",
       "      <td>570301130888122368</td>\n",
       "      <td>positive</td>\n",
       "      <td>0.3486</td>\n",
       "      <td>NaN</td>\n",
       "      <td>0.0000</td>\n",
       "      <td>Virgin America</td>\n",
       "      <td>NaN</td>\n",
       "      <td>jnardino</td>\n",
       "      <td>NaN</td>\n",
       "      <td>0</td>\n",
       "      <td>@VirginAmerica plus you've added commercials t...</td>\n",
       "      <td>NaN</td>\n",
       "      <td>2015-02-24 11:15:59 -0800</td>\n",
       "      <td>NaN</td>\n",
       "      <td>Pacific Time (US &amp; Canada)</td>\n",
       "    </tr>\n",
       "    <tr>\n",
       "      <th>2</th>\n",
       "      <td>570301083672813571</td>\n",
       "      <td>neutral</td>\n",
       "      <td>0.6837</td>\n",
       "      <td>NaN</td>\n",
       "      <td>NaN</td>\n",
       "      <td>Virgin America</td>\n",
       "      <td>NaN</td>\n",
       "      <td>yvonnalynn</td>\n",
       "      <td>NaN</td>\n",
       "      <td>0</td>\n",
       "      <td>@VirginAmerica I didn't today... Must mean I n...</td>\n",
       "      <td>NaN</td>\n",
       "      <td>2015-02-24 11:15:48 -0800</td>\n",
       "      <td>Lets Play</td>\n",
       "      <td>Central Time (US &amp; Canada)</td>\n",
       "    </tr>\n",
       "    <tr>\n",
       "      <th>3</th>\n",
       "      <td>570301031407624196</td>\n",
       "      <td>negative</td>\n",
       "      <td>1.0000</td>\n",
       "      <td>Bad Flight</td>\n",
       "      <td>0.7033</td>\n",
       "      <td>Virgin America</td>\n",
       "      <td>NaN</td>\n",
       "      <td>jnardino</td>\n",
       "      <td>NaN</td>\n",
       "      <td>0</td>\n",
       "      <td>@VirginAmerica it's really aggressive to blast...</td>\n",
       "      <td>NaN</td>\n",
       "      <td>2015-02-24 11:15:36 -0800</td>\n",
       "      <td>NaN</td>\n",
       "      <td>Pacific Time (US &amp; Canada)</td>\n",
       "    </tr>\n",
       "    <tr>\n",
       "      <th>4</th>\n",
       "      <td>570300817074462722</td>\n",
       "      <td>negative</td>\n",
       "      <td>1.0000</td>\n",
       "      <td>Can't Tell</td>\n",
       "      <td>1.0000</td>\n",
       "      <td>Virgin America</td>\n",
       "      <td>NaN</td>\n",
       "      <td>jnardino</td>\n",
       "      <td>NaN</td>\n",
       "      <td>0</td>\n",
       "      <td>@VirginAmerica and it's a really big bad thing...</td>\n",
       "      <td>NaN</td>\n",
       "      <td>2015-02-24 11:14:45 -0800</td>\n",
       "      <td>NaN</td>\n",
       "      <td>Pacific Time (US &amp; Canada)</td>\n",
       "    </tr>\n",
       "  </tbody>\n",
       "</table>\n",
       "</div>"
      ],
      "text/plain": [
       "             tweet_id airline_sentiment  airline_sentiment_confidence  \\\n",
       "0  570306133677760513           neutral                        1.0000   \n",
       "1  570301130888122368          positive                        0.3486   \n",
       "2  570301083672813571           neutral                        0.6837   \n",
       "3  570301031407624196          negative                        1.0000   \n",
       "4  570300817074462722          negative                        1.0000   \n",
       "\n",
       "  negativereason  negativereason_confidence         airline  \\\n",
       "0            NaN                        NaN  Virgin America   \n",
       "1            NaN                     0.0000  Virgin America   \n",
       "2            NaN                        NaN  Virgin America   \n",
       "3     Bad Flight                     0.7033  Virgin America   \n",
       "4     Can't Tell                     1.0000  Virgin America   \n",
       "\n",
       "  airline_sentiment_gold        name negativereason_gold  retweet_count  \\\n",
       "0                    NaN     cairdin                 NaN              0   \n",
       "1                    NaN    jnardino                 NaN              0   \n",
       "2                    NaN  yvonnalynn                 NaN              0   \n",
       "3                    NaN    jnardino                 NaN              0   \n",
       "4                    NaN    jnardino                 NaN              0   \n",
       "\n",
       "                                                text tweet_coord  \\\n",
       "0                @VirginAmerica What @dhepburn said.         NaN   \n",
       "1  @VirginAmerica plus you've added commercials t...         NaN   \n",
       "2  @VirginAmerica I didn't today... Must mean I n...         NaN   \n",
       "3  @VirginAmerica it's really aggressive to blast...         NaN   \n",
       "4  @VirginAmerica and it's a really big bad thing...         NaN   \n",
       "\n",
       "               tweet_created tweet_location               user_timezone  \n",
       "0  2015-02-24 11:35:52 -0800            NaN  Eastern Time (US & Canada)  \n",
       "1  2015-02-24 11:15:59 -0800            NaN  Pacific Time (US & Canada)  \n",
       "2  2015-02-24 11:15:48 -0800      Lets Play  Central Time (US & Canada)  \n",
       "3  2015-02-24 11:15:36 -0800            NaN  Pacific Time (US & Canada)  \n",
       "4  2015-02-24 11:14:45 -0800            NaN  Pacific Time (US & Canada)  "
      ]
     },
     "execution_count": 3,
     "metadata": {},
     "output_type": "execute_result"
    }
   ],
   "source": [
    "# Look at first 5 rows\n",
    "df.head()"
   ]
  },
  {
   "cell_type": "code",
   "execution_count": 4,
   "metadata": {},
   "outputs": [
    {
     "data": {
      "text/plain": [
       "(14640, 15)"
      ]
     },
     "execution_count": 4,
     "metadata": {},
     "output_type": "execute_result"
    }
   ],
   "source": [
    "# Number of rows and columns of data\n",
    "df.shape"
   ]
  },
  {
   "cell_type": "markdown",
   "metadata": {},
   "source": [
    "## Data Analysis, Cleaning and Proccessing"
   ]
  },
  {
   "cell_type": "code",
   "execution_count": 5,
   "metadata": {},
   "outputs": [
    {
     "data": {
      "text/plain": [
       "tweet_id                            0\n",
       "airline_sentiment                   0\n",
       "airline_sentiment_confidence        0\n",
       "negativereason                   5462\n",
       "negativereason_confidence        4118\n",
       "airline                             0\n",
       "airline_sentiment_gold          14600\n",
       "name                                0\n",
       "negativereason_gold             14608\n",
       "retweet_count                       0\n",
       "text                                0\n",
       "tweet_coord                     13621\n",
       "tweet_created                       0\n",
       "tweet_location                   4733\n",
       "user_timezone                    4820\n",
       "dtype: int64"
      ]
     },
     "execution_count": 5,
     "metadata": {},
     "output_type": "execute_result"
    }
   ],
   "source": [
    "# Count number of missing values in each column\n",
    "# Note that only missing values in columns we will later drop\n",
    "df.isnull().sum()"
   ]
  },
  {
   "cell_type": "markdown",
   "metadata": {},
   "source": [
    "As part of the data cleaning, we only need the two columns that contains the tweet text and sentiment label. In the following steps, we will:\n",
    "- analyse the data further\n",
    "- convert values to integers to process the data \n",
    "- split the colmns we need, text and label and assign them to X and Y"
   ]
  },
  {
   "cell_type": "code",
   "execution_count": 6,
   "metadata": {},
   "outputs": [
    {
     "data": {
      "text/html": [
       "<div>\n",
       "<style scoped>\n",
       "    .dataframe tbody tr th:only-of-type {\n",
       "        vertical-align: middle;\n",
       "    }\n",
       "\n",
       "    .dataframe tbody tr th {\n",
       "        vertical-align: top;\n",
       "    }\n",
       "\n",
       "    .dataframe thead th {\n",
       "        text-align: right;\n",
       "    }\n",
       "</style>\n",
       "<table border=\"1\" class=\"dataframe\">\n",
       "  <thead>\n",
       "    <tr style=\"text-align: right;\">\n",
       "      <th></th>\n",
       "      <th>text</th>\n",
       "      <th>airline_sentiment</th>\n",
       "    </tr>\n",
       "  </thead>\n",
       "  <tbody>\n",
       "    <tr>\n",
       "      <th>0</th>\n",
       "      <td>@VirginAmerica What @dhepburn said.</td>\n",
       "      <td>neutral</td>\n",
       "    </tr>\n",
       "    <tr>\n",
       "      <th>1</th>\n",
       "      <td>@VirginAmerica plus you've added commercials t...</td>\n",
       "      <td>positive</td>\n",
       "    </tr>\n",
       "    <tr>\n",
       "      <th>2</th>\n",
       "      <td>@VirginAmerica I didn't today... Must mean I n...</td>\n",
       "      <td>neutral</td>\n",
       "    </tr>\n",
       "    <tr>\n",
       "      <th>3</th>\n",
       "      <td>@VirginAmerica it's really aggressive to blast...</td>\n",
       "      <td>negative</td>\n",
       "    </tr>\n",
       "    <tr>\n",
       "      <th>4</th>\n",
       "      <td>@VirginAmerica and it's a really big bad thing...</td>\n",
       "      <td>negative</td>\n",
       "    </tr>\n",
       "  </tbody>\n",
       "</table>\n",
       "</div>"
      ],
      "text/plain": [
       "                                                text airline_sentiment\n",
       "0                @VirginAmerica What @dhepburn said.           neutral\n",
       "1  @VirginAmerica plus you've added commercials t...          positive\n",
       "2  @VirginAmerica I didn't today... Must mean I n...           neutral\n",
       "3  @VirginAmerica it's really aggressive to blast...          negative\n",
       "4  @VirginAmerica and it's a really big bad thing...          negative"
      ]
     },
     "execution_count": 6,
     "metadata": {},
     "output_type": "execute_result"
    }
   ],
   "source": [
    "# Showing the 2 columns we need, that contains the tweet text and sentiment label\n",
    "df[['text', 'airline_sentiment']].head()"
   ]
  },
  {
   "cell_type": "code",
   "execution_count": 7,
   "metadata": {},
   "outputs": [
    {
     "data": {
      "text/plain": [
       "negative    9178\n",
       "neutral     3099\n",
       "positive    2363\n",
       "Name: airline_sentiment, dtype: int64"
      ]
     },
     "execution_count": 7,
     "metadata": {},
     "output_type": "execute_result"
    }
   ],
   "source": [
    "# Count number of each type of tweet\n",
    "df['airline_sentiment'].value_counts()"
   ]
  },
  {
   "cell_type": "markdown",
   "metadata": {},
   "source": [
    "From this result, we can see there are almost three times as many negative tweets than neutral or positive. From this, we could first assume that people are more keen on being vocal if something is wrong."
   ]
  },
  {
   "cell_type": "code",
   "execution_count": 8,
   "metadata": {},
   "outputs": [],
   "source": [
    "# Convert to integers values\n",
    "df['airline_sentiment'] = df['airline_sentiment'].replace('neutral', 1)\n",
    "df['airline_sentiment'] = df['airline_sentiment'].replace('negative', 0)\n",
    "df['airline_sentiment'] = df['airline_sentiment'].replace('positive', 2)"
   ]
  },
  {
   "cell_type": "code",
   "execution_count": 37,
   "metadata": {},
   "outputs": [],
   "source": [
    "# Split into text and label\n",
    "X = df['text'] # data\n",
    "y = df['airline_sentiment'] # labels"
   ]
  },
  {
   "cell_type": "markdown",
   "metadata": {},
   "source": [
    "Please note that the tweets themselves are not being cleaned. So, any twitter handles, special characters, and punctuation are not removed. The reason for that is because the RNN that will follow would automatically learn these variations and patterns."
   ]
  },
  {
   "cell_type": "markdown",
   "metadata": {},
   "source": [
    "### Preprocess data¶\n"
   ]
  },
  {
   "cell_type": "markdown",
   "metadata": {},
   "source": [
    "An important part of the process is tokenizing and vectorising the text.\n",
    "- Tokenization is the process of converting sentences into words.\n",
    "- Vectorization is converting the words into a vector of integers. Each unique word in the dataset would have its own integer representation and each tweet would then be represented as a vector with each element containing an integer that can be mapped to a specific word.\n",
    "\n",
    "To do this work, we use Keras' Tokenizer and text_to_word_sequence."
   ]
  },
  {
   "cell_type": "code",
   "execution_count": 10,
   "metadata": {},
   "outputs": [],
   "source": [
    "from tensorflow.keras.preprocessing.text import Tokenizer\n",
    "from tensorflow.keras.preprocessing.text import text_to_word_sequence"
   ]
  },
  {
   "cell_type": "code",
   "execution_count": 11,
   "metadata": {},
   "outputs": [],
   "source": [
    "# Convert training data into tensors to feed into neural net\n",
    "# create tokenizer\n",
    "t = Tokenizer()\n",
    "t.fit_on_texts(X)"
   ]
  },
  {
   "cell_type": "code",
   "execution_count": 12,
   "metadata": {},
   "outputs": [],
   "source": [
    "# Find number of unique words in our tweets\n",
    "vocab_size = len(t.word_index) + 1"
   ]
  },
  {
   "cell_type": "code",
   "execution_count": 13,
   "metadata": {},
   "outputs": [],
   "source": [
    "# integer encode everything\n",
    "sequences = t.texts_to_sequences(X)"
   ]
  },
  {
   "cell_type": "code",
   "execution_count": 14,
   "metadata": {},
   "outputs": [],
   "source": [
    "# Find longest tweet in sequences\n",
    "def max_tweet():\n",
    "    for i in range(1, len(sequences)):\n",
    "        max_length = len(sequences[0])\n",
    "        if len(sequences[i]) > max_length:\n",
    "            max_length = len(sequences[i])\n",
    "    return max_length"
   ]
  },
  {
   "cell_type": "markdown",
   "metadata": {},
   "source": [
    "Let's see how many words are contained within the longest tweet:"
   ]
  },
  {
   "cell_type": "code",
   "execution_count": 15,
   "metadata": {},
   "outputs": [
    {
     "data": {
      "text/plain": [
       "30"
      ]
     },
     "execution_count": 15,
     "metadata": {},
     "output_type": "execute_result"
    }
   ],
   "source": [
    "tweet_num = max_tweet()\n",
    "tweet_num"
   ]
  },
  {
   "cell_type": "markdown",
   "metadata": {},
   "source": [
    "The longest tweet has 30 words."
   ]
  },
  {
   "cell_type": "markdown",
   "metadata": {},
   "source": [
    "Because tweets can have different lengths this can result in the vector lengths to be also mismatched.\n",
    "As a solution, now that we know that the longest tweet has a length of 30 words, then we can pad each vector with 0’s such that they all have the same dimensions:"
   ]
  },
  {
   "cell_type": "code",
   "execution_count": 16,
   "metadata": {},
   "outputs": [],
   "source": [
    "# each review has a different number of words, so pad sequence with 0's\n",
    "from tensorflow.keras.preprocessing.sequence import pad_sequences\n",
    "maxlen = tweet_num\n",
    "padded_X = pad_sequences(sequences, padding='post', maxlen=maxlen)"
   ]
  },
  {
   "cell_type": "markdown",
   "metadata": {},
   "source": [
    "This step is to convert the sentiment labels to be one-hot encoded. Meaning that our response for each tweet is now a row vector with three elements. It contains a 1 in the column corresponding to its sentiment label and 0’s elsewhere."
   ]
  },
  {
   "cell_type": "code",
   "execution_count": 17,
   "metadata": {},
   "outputs": [],
   "source": [
    "# Convert labels\n",
    "labels = to_categorical(np.asarray(y))"
   ]
  },
  {
   "cell_type": "markdown",
   "metadata": {},
   "source": [
    "Lastly, we create a training and test set, giving 20% to the test set and the remaining 80% to the training set:"
   ]
  },
  {
   "cell_type": "code",
   "execution_count": 18,
   "metadata": {},
   "outputs": [],
   "source": [
    "# Train test split\n",
    "from sklearn.model_selection import train_test_split\n",
    "\n",
    "X_train, X_test, y_train, y_test = train_test_split(padded_X, labels, test_size = 0.2, random_state = 0)"
   ]
  },
  {
   "cell_type": "code",
   "execution_count": 19,
   "metadata": {},
   "outputs": [
    {
     "name": "stdout",
     "output_type": "stream",
     "text": [
      "X_train size: (11712, 30)\n",
      "y_train size: (11712, 3)\n",
      "X_test size: (2928, 30)\n",
      "y_test size: (2928, 3)\n"
     ]
    }
   ],
   "source": [
    "# Size of train and test datasets\n",
    "print('X_train size:', X_train.shape)\n",
    "print('y_train size:', y_train.shape)\n",
    "print('X_test size:', X_test.shape)\n",
    "print('y_test size:', y_test.shape)"
   ]
  },
  {
   "cell_type": "markdown",
   "metadata": {},
   "source": [
    "### Pre-trained word embedding¶\n"
   ]
  },
  {
   "cell_type": "markdown",
   "metadata": {},
   "source": [
    "In that part, we use GloVe. \n",
    "The appropriate file, the 100 dimensional version (embedding dimension), was sent with the data set, so it's easy to put it directly on your machine.\n",
    "\n",
    "Global Vectors for Word Representation(GloVe) is a model used for word embedding and is an extension of the popular word2vec. This model creates a word-context matrix or a measure to indicate that some specific words are more likely to be seen than others for a certain context. \n",
    "\n",
    "For this project, we used the pre-trained words vector 100 to give us a large set of 400k words vocabulary."
   ]
  },
  {
   "cell_type": "code",
   "execution_count": 20,
   "metadata": {},
   "outputs": [
    {
     "name": "stdout",
     "output_type": "stream",
     "text": [
      "Loaded 400000 word vectors.\n"
     ]
    }
   ],
   "source": [
    "# load the whole embedding into memory\n",
    "# Using 100 dimensional version (embedding dimension)\n",
    "embeddings_index = dict()\n",
    "f = open('/Users/Didie/Desktop/glove.6B.100d.txt')\n",
    "for line in f:\n",
    "    values = line.split()\n",
    "    word = values[0]\n",
    "    coefs = np.asarray(values[1:], dtype='float32')\n",
    "    embeddings_index[word] = coefs\n",
    "f.close()\n",
    "print('Loaded %s word vectors.' % len(embeddings_index))"
   ]
  },
  {
   "cell_type": "code",
   "execution_count": 21,
   "metadata": {},
   "outputs": [],
   "source": [
    "# Because we're using GloVE, need to create a word embedding/word context matrix\n",
    "# Create a matrix of weights for words in the training set\n",
    "# One embedding for each word in the training set\n",
    "\n",
    "# Get all unique words in our training set: Tokenizer index\n",
    "# Find the corresponding weight vector in GloVe embedding\n",
    "\n",
    "# Define size of embedding matrix: number of unique words x embedding dim (100)\n",
    "embedding_matrix = np.zeros((vocab_size, 100))\n",
    "\n",
    "# fill in matrix\n",
    "for word, i in t.word_index.items():  # dictionary\n",
    "    embedding_vector = embeddings_index.get(word) # gets embedded vector of word from GloVe\n",
    "    if embedding_vector is not None:\n",
    "        # add to matrix\n",
    "        embedding_matrix[i] = embedding_vector # each row of matrix"
   ]
  },
  {
   "cell_type": "code",
   "execution_count": 22,
   "metadata": {},
   "outputs": [],
   "source": [
    "# Create embedding layer using embedding matrix\n",
    "from tensorflow.keras.layers import Embedding\n",
    "\n",
    "# input is vocab_size, output is 100\n",
    "# weights from embedding matrix, set trainable = False because we already used a pre-trained word embedding, \n",
    "#input lengh is the lengh of the longest tweet, 30 in the variable tweet_num\n",
    "embedding_layer = Embedding(input_dim=vocab_size, output_dim=100, weights=[embedding_matrix],\n",
    "                           input_length = tweet_num, trainable=False)"
   ]
  },
  {
   "cell_type": "markdown",
   "metadata": {},
   "source": [
    "# Neural Networks Implementation"
   ]
  },
  {
   "cell_type": "markdown",
   "metadata": {},
   "source": [
    "In this part of the work, we will build and compare six different Recurrent Neural Networks."
   ]
  },
  {
   "cell_type": "markdown",
   "metadata": {},
   "source": [
    "For each of the following models, the inputs are the training data. There are 30 features in each observation, corresponding to each word in the tweet. If a word is missing, it will be replaced with a 0.\n",
    "\n",
    "A dense layer finishes each model with three nodes because there are three possible labels: positive, neutral or negative. \n",
    "Because it’s a classification problem, we use accuracy as a metric.\n",
    "Each model is compiled with an Adam optimizer and a categorical crossentropy.\n",
    "\n",
    "As part of the metrics and obervations, we also implemented a clock to see and compare how long each model training takes."
   ]
  },
  {
   "cell_type": "code",
   "execution_count": 38,
   "metadata": {},
   "outputs": [],
   "source": [
    "from tensorflow.keras.models import Sequential\n",
    "from tensorflow.keras.layers import Dense\n",
    "from tensorflow.keras.layers import Flatten\n",
    "from tensorflow.keras.layers import LSTM\n",
    "from tensorflow.keras.layers import GRU\n",
    "from tensorflow.keras.layers import BatchNormalization\n",
    "import time"
   ]
  },
  {
   "cell_type": "markdown",
   "metadata": {},
   "source": [
    "## Model 1: Simple RNN LSTM Model with regularization, increase dimensionality¶\n"
   ]
  },
  {
   "cell_type": "markdown",
   "metadata": {},
   "source": [
    "For this first model, in addition to the specified embedding and dense softmax layer, we also use one single LSTM layer of an output dimension of 156. We then increase the dimensionality from the embedding layer that is 100.\n",
    "\n",
    "A regularization with dropout, at 0.2, and recurrent dropout, at 0.5, is added.\n",
    "\n",
    "Following that step, the model is trained on 100 epochs and a 256 batch size."
   ]
  },
  {
   "cell_type": "code",
   "execution_count": 24,
   "metadata": {},
   "outputs": [
    {
     "name": "stdout",
     "output_type": "stream",
     "text": [
      "Model: \"sequential\"\n",
      "_________________________________________________________________\n",
      "Layer (type)                 Output Shape              Param #   \n",
      "=================================================================\n",
      "embedding (Embedding)        (None, 30, 100)           1576900   \n",
      "_________________________________________________________________\n",
      "lstm (LSTM)                  (None, 156)               160368    \n",
      "_________________________________________________________________\n",
      "dense (Dense)                (None, 3)                 471       \n",
      "=================================================================\n",
      "Total params: 1,737,739\n",
      "Trainable params: 160,839\n",
      "Non-trainable params: 1,576,900\n",
      "_________________________________________________________________\n"
     ]
    }
   ],
   "source": [
    "lstm_mod1 = Sequential()\n",
    "lstm_mod1.add(embedding_layer)\n",
    "lstm_mod1.add(LSTM(156, \n",
    "               dropout = 0.2, \n",
    "               recurrent_dropout = 0.5))\n",
    "lstm_mod1.add(Dense(3, activation='softmax'))\n",
    "lstm_mod1.compile(optimizer='adam', loss='categorical_crossentropy', metrics=['acc'])\n",
    "lstm_mod1.summary()"
   ]
  },
  {
   "cell_type": "code",
   "execution_count": 25,
   "metadata": {},
   "outputs": [],
   "source": [
    "start = time.time()"
   ]
  },
  {
   "cell_type": "code",
   "execution_count": 26,
   "metadata": {},
   "outputs": [
    {
     "name": "stdout",
     "output_type": "stream",
     "text": [
      "Epoch 1/100\n",
      "37/37 [==============================] - 12s 250ms/step - loss: 0.9085 - acc: 0.5833 - val_loss: 0.8293 - val_acc: 0.6300\n",
      "Epoch 2/100\n",
      "37/37 [==============================] - 12s 333ms/step - loss: 0.7936 - acc: 0.6610 - val_loss: 0.7236 - val_acc: 0.7315\n",
      "Epoch 3/100\n",
      "37/37 [==============================] - 12s 336ms/step - loss: 0.6791 - acc: 0.7287 - val_loss: 0.6517 - val_acc: 0.7324\n",
      "Epoch 4/100\n",
      "37/37 [==============================] - 11s 287ms/step - loss: 0.6345 - acc: 0.7429 - val_loss: 0.5920 - val_acc: 0.7618\n",
      "Epoch 5/100\n",
      "37/37 [==============================] - 8s 205ms/step - loss: 0.6123 - acc: 0.7463 - val_loss: 0.5877 - val_acc: 0.7631\n",
      "Epoch 6/100\n",
      "37/37 [==============================] - 7s 200ms/step - loss: 0.5852 - acc: 0.7652 - val_loss: 0.5629 - val_acc: 0.7708\n",
      "Epoch 7/100\n",
      "37/37 [==============================] - 7s 201ms/step - loss: 0.5691 - acc: 0.7677 - val_loss: 0.5515 - val_acc: 0.7746\n",
      "Epoch 8/100\n",
      "37/37 [==============================] - 7s 199ms/step - loss: 0.5743 - acc: 0.7690 - val_loss: 0.5520 - val_acc: 0.7832\n",
      "Epoch 9/100\n",
      "37/37 [==============================] - 7s 195ms/step - loss: 0.5374 - acc: 0.7913 - val_loss: 0.5452 - val_acc: 0.7836\n",
      "Epoch 10/100\n",
      "37/37 [==============================] - 7s 189ms/step - loss: 0.5277 - acc: 0.7868 - val_loss: 0.5599 - val_acc: 0.7870\n",
      "Epoch 11/100\n",
      "37/37 [==============================] - 7s 195ms/step - loss: 0.5219 - acc: 0.7924 - val_loss: 0.5403 - val_acc: 0.7943\n",
      "Epoch 12/100\n",
      "37/37 [==============================] - 7s 196ms/step - loss: 0.5425 - acc: 0.7761 - val_loss: 0.5267 - val_acc: 0.7896\n",
      "Epoch 13/100\n",
      "37/37 [==============================] - 7s 192ms/step - loss: 0.5145 - acc: 0.7871 - val_loss: 0.5235 - val_acc: 0.7870\n",
      "Epoch 14/100\n",
      "37/37 [==============================] - 7s 194ms/step - loss: 0.4901 - acc: 0.7992 - val_loss: 0.5194 - val_acc: 0.7887\n",
      "Epoch 15/100\n",
      "37/37 [==============================] - 7s 189ms/step - loss: 0.4979 - acc: 0.8021 - val_loss: 0.5120 - val_acc: 0.7977\n",
      "Epoch 16/100\n",
      "37/37 [==============================] - 7s 194ms/step - loss: 0.4931 - acc: 0.8024 - val_loss: 0.5350 - val_acc: 0.7951\n",
      "Epoch 17/100\n",
      "37/37 [==============================] - 7s 189ms/step - loss: 0.4857 - acc: 0.7991 - val_loss: 0.5193 - val_acc: 0.8007\n",
      "Epoch 18/100\n",
      "37/37 [==============================] - 7s 197ms/step - loss: 0.4700 - acc: 0.8096 - val_loss: 0.5139 - val_acc: 0.7998\n",
      "Epoch 19/100\n",
      "37/37 [==============================] - 7s 192ms/step - loss: 0.4584 - acc: 0.8155 - val_loss: 0.5430 - val_acc: 0.7729\n",
      "Epoch 20/100\n",
      "37/37 [==============================] - 7s 196ms/step - loss: 0.4443 - acc: 0.8265 - val_loss: 0.5086 - val_acc: 0.7981\n",
      "Epoch 21/100\n",
      "37/37 [==============================] - 7s 195ms/step - loss: 0.4302 - acc: 0.8331 - val_loss: 0.5246 - val_acc: 0.7947\n",
      "Epoch 22/100\n",
      "37/37 [==============================] - 7s 195ms/step - loss: 0.4251 - acc: 0.8343 - val_loss: 0.5204 - val_acc: 0.8062\n",
      "Epoch 23/100\n",
      "37/37 [==============================] - 7s 195ms/step - loss: 0.4255 - acc: 0.8300 - val_loss: 0.5319 - val_acc: 0.7883\n",
      "Epoch 24/100\n",
      "37/37 [==============================] - 7s 196ms/step - loss: 0.4192 - acc: 0.8373 - val_loss: 0.5204 - val_acc: 0.7939\n",
      "Epoch 25/100\n",
      "37/37 [==============================] - 7s 199ms/step - loss: 0.4219 - acc: 0.8380 - val_loss: 0.5283 - val_acc: 0.8032\n",
      "Epoch 26/100\n",
      "37/37 [==============================] - 7s 195ms/step - loss: 0.4116 - acc: 0.8423 - val_loss: 0.5084 - val_acc: 0.7985\n",
      "Epoch 27/100\n",
      "37/37 [==============================] - 7s 197ms/step - loss: 0.3880 - acc: 0.8472 - val_loss: 0.5225 - val_acc: 0.8045\n",
      "Epoch 28/100\n",
      "37/37 [==============================] - 7s 196ms/step - loss: 0.3883 - acc: 0.8416 - val_loss: 0.5682 - val_acc: 0.7994\n",
      "Epoch 29/100\n",
      "37/37 [==============================] - 7s 197ms/step - loss: 0.4043 - acc: 0.8404 - val_loss: 0.5176 - val_acc: 0.8020\n",
      "Epoch 30/100\n",
      "37/37 [==============================] - 7s 195ms/step - loss: 0.3733 - acc: 0.8558 - val_loss: 0.5468 - val_acc: 0.8011\n",
      "Epoch 31/100\n",
      "37/37 [==============================] - 7s 196ms/step - loss: 0.3707 - acc: 0.8502 - val_loss: 0.5287 - val_acc: 0.8041\n",
      "Epoch 32/100\n",
      "37/37 [==============================] - 7s 197ms/step - loss: 0.3779 - acc: 0.8531 - val_loss: 0.5400 - val_acc: 0.8054\n",
      "Epoch 33/100\n",
      "37/37 [==============================] - 7s 197ms/step - loss: 0.3644 - acc: 0.8564 - val_loss: 0.5288 - val_acc: 0.8028\n",
      "Epoch 34/100\n",
      "37/37 [==============================] - 7s 199ms/step - loss: 0.3572 - acc: 0.8621 - val_loss: 0.5263 - val_acc: 0.7870\n",
      "Epoch 35/100\n",
      "37/37 [==============================] - 7s 194ms/step - loss: 0.3499 - acc: 0.8725 - val_loss: 0.5524 - val_acc: 0.8024\n",
      "Epoch 36/100\n",
      "37/37 [==============================] - 7s 200ms/step - loss: 0.3483 - acc: 0.8627 - val_loss: 0.5414 - val_acc: 0.8062\n",
      "Epoch 37/100\n",
      "37/37 [==============================] - 7s 198ms/step - loss: 0.3338 - acc: 0.8691 - val_loss: 0.5636 - val_acc: 0.8007\n",
      "Epoch 38/100\n",
      "37/37 [==============================] - 7s 198ms/step - loss: 0.3333 - acc: 0.8699 - val_loss: 0.5705 - val_acc: 0.8105\n",
      "Epoch 39/100\n",
      "37/37 [==============================] - 7s 194ms/step - loss: 0.3170 - acc: 0.8756 - val_loss: 0.5689 - val_acc: 0.7964\n",
      "Epoch 40/100\n",
      "37/37 [==============================] - 7s 197ms/step - loss: 0.3106 - acc: 0.8771 - val_loss: 0.5806 - val_acc: 0.8118\n",
      "Epoch 41/100\n",
      "37/37 [==============================] - 7s 199ms/step - loss: 0.3172 - acc: 0.8804 - val_loss: 0.5548 - val_acc: 0.7973\n",
      "Epoch 42/100\n",
      "37/37 [==============================] - 7s 196ms/step - loss: 0.3111 - acc: 0.8740 - val_loss: 0.5908 - val_acc: 0.8032\n",
      "Epoch 43/100\n",
      "37/37 [==============================] - 7s 196ms/step - loss: 0.2963 - acc: 0.8887 - val_loss: 0.5784 - val_acc: 0.8032\n",
      "Epoch 44/100\n",
      "37/37 [==============================] - 7s 194ms/step - loss: 0.2935 - acc: 0.8916 - val_loss: 0.5754 - val_acc: 0.8003\n",
      "Epoch 45/100\n",
      "37/37 [==============================] - 7s 202ms/step - loss: 0.2895 - acc: 0.8879 - val_loss: 0.6162 - val_acc: 0.8105\n",
      "Epoch 46/100\n",
      "37/37 [==============================] - 7s 197ms/step - loss: 0.2790 - acc: 0.8930 - val_loss: 0.6137 - val_acc: 0.8007\n",
      "Epoch 47/100\n",
      "37/37 [==============================] - 7s 200ms/step - loss: 0.2778 - acc: 0.8887 - val_loss: 0.6177 - val_acc: 0.8084\n",
      "Epoch 48/100\n",
      "37/37 [==============================] - 7s 203ms/step - loss: 0.2777 - acc: 0.8961 - val_loss: 0.5767 - val_acc: 0.8062\n",
      "Epoch 49/100\n",
      "37/37 [==============================] - 8s 212ms/step - loss: 0.2686 - acc: 0.8983 - val_loss: 0.6232 - val_acc: 0.7674\n",
      "Epoch 50/100\n",
      "37/37 [==============================] - 7s 203ms/step - loss: 0.3006 - acc: 0.8745 - val_loss: 0.6754 - val_acc: 0.8037\n",
      "Epoch 51/100\n",
      "37/37 [==============================] - 8s 211ms/step - loss: 0.2560 - acc: 0.8995 - val_loss: 0.6555 - val_acc: 0.7977\n",
      "Epoch 52/100\n",
      "37/37 [==============================] - 7s 198ms/step - loss: 0.2605 - acc: 0.9019 - val_loss: 0.6783 - val_acc: 0.8028\n",
      "Epoch 53/100\n",
      "37/37 [==============================] - 8s 204ms/step - loss: 0.2379 - acc: 0.9097 - val_loss: 0.6081 - val_acc: 0.8024\n",
      "Epoch 54/100\n",
      "37/37 [==============================] - 7s 198ms/step - loss: 0.2423 - acc: 0.9069 - val_loss: 0.6080 - val_acc: 0.8037\n",
      "Epoch 55/100\n",
      "37/37 [==============================] - 7s 201ms/step - loss: 0.2486 - acc: 0.9085 - val_loss: 0.6217 - val_acc: 0.7973\n",
      "Epoch 56/100\n",
      "37/37 [==============================] - 7s 198ms/step - loss: 0.2522 - acc: 0.9041 - val_loss: 0.6847 - val_acc: 0.7994\n",
      "Epoch 57/100\n",
      "37/37 [==============================] - 7s 203ms/step - loss: 0.2348 - acc: 0.9159 - val_loss: 0.6721 - val_acc: 0.8024\n",
      "Epoch 58/100\n",
      "37/37 [==============================] - 7s 200ms/step - loss: 0.2343 - acc: 0.9147 - val_loss: 0.6122 - val_acc: 0.7934\n",
      "Epoch 59/100\n",
      "37/37 [==============================] - 7s 201ms/step - loss: 0.2269 - acc: 0.9176 - val_loss: 0.6687 - val_acc: 0.8045\n",
      "Epoch 60/100\n",
      "37/37 [==============================] - 7s 203ms/step - loss: 0.2151 - acc: 0.9202 - val_loss: 0.7235 - val_acc: 0.7964\n",
      "Epoch 61/100\n",
      "37/37 [==============================] - 7s 201ms/step - loss: 0.2224 - acc: 0.9182 - val_loss: 0.6843 - val_acc: 0.7964\n",
      "Epoch 62/100\n",
      "37/37 [==============================] - 7s 199ms/step - loss: 0.2070 - acc: 0.9214 - val_loss: 0.6959 - val_acc: 0.8024\n",
      "Epoch 63/100\n",
      "37/37 [==============================] - 7s 196ms/step - loss: 0.2004 - acc: 0.9247 - val_loss: 0.7100 - val_acc: 0.8003\n",
      "Epoch 64/100\n",
      "37/37 [==============================] - 7s 199ms/step - loss: 0.2187 - acc: 0.9159 - val_loss: 0.7590 - val_acc: 0.8020\n",
      "Epoch 65/100\n",
      "37/37 [==============================] - 7s 197ms/step - loss: 0.1936 - acc: 0.9248 - val_loss: 0.7252 - val_acc: 0.7998\n",
      "Epoch 66/100\n",
      "37/37 [==============================] - 7s 198ms/step - loss: 0.1889 - acc: 0.9282 - val_loss: 0.7202 - val_acc: 0.7956\n",
      "Epoch 67/100\n",
      "37/37 [==============================] - 7s 196ms/step - loss: 0.1981 - acc: 0.9243 - val_loss: 0.7739 - val_acc: 0.8041\n",
      "Epoch 68/100\n",
      "37/37 [==============================] - 7s 196ms/step - loss: 0.1946 - acc: 0.9265 - val_loss: 0.8138 - val_acc: 0.7968\n",
      "Epoch 69/100\n",
      "37/37 [==============================] - 7s 200ms/step - loss: 0.1816 - acc: 0.9346 - val_loss: 0.7800 - val_acc: 0.7857\n",
      "Epoch 70/100\n",
      "37/37 [==============================] - 7s 199ms/step - loss: 0.1996 - acc: 0.9275 - val_loss: 0.7236 - val_acc: 0.7960\n",
      "Epoch 71/100\n",
      "37/37 [==============================] - 7s 200ms/step - loss: 0.1762 - acc: 0.9339 - val_loss: 0.8007 - val_acc: 0.7875\n",
      "Epoch 72/100\n",
      "37/37 [==============================] - 7s 197ms/step - loss: 0.1941 - acc: 0.9268 - val_loss: 0.7658 - val_acc: 0.7956\n",
      "Epoch 73/100\n",
      "37/37 [==============================] - 8s 205ms/step - loss: 0.1770 - acc: 0.9350 - val_loss: 0.8231 - val_acc: 0.8054\n",
      "Epoch 74/100\n",
      "37/37 [==============================] - 7s 199ms/step - loss: 0.1650 - acc: 0.9421 - val_loss: 0.7859 - val_acc: 0.7913\n",
      "Epoch 75/100\n",
      "37/37 [==============================] - 7s 201ms/step - loss: 0.1635 - acc: 0.9409 - val_loss: 0.7769 - val_acc: 0.8011\n",
      "Epoch 76/100\n",
      "37/37 [==============================] - 7s 197ms/step - loss: 0.1695 - acc: 0.9366 - val_loss: 0.8043 - val_acc: 0.7964\n",
      "Epoch 77/100\n",
      "37/37 [==============================] - 8s 204ms/step - loss: 0.1637 - acc: 0.9390 - val_loss: 0.7706 - val_acc: 0.7998\n",
      "Epoch 78/100\n",
      "37/37 [==============================] - 7s 197ms/step - loss: 0.1612 - acc: 0.9388 - val_loss: 0.8186 - val_acc: 0.7875\n",
      "Epoch 79/100\n",
      "37/37 [==============================] - 7s 202ms/step - loss: 0.1667 - acc: 0.9414 - val_loss: 0.8017 - val_acc: 0.8045\n",
      "Epoch 80/100\n",
      "37/37 [==============================] - 7s 197ms/step - loss: 0.1576 - acc: 0.9394 - val_loss: 0.8633 - val_acc: 0.7947\n",
      "Epoch 81/100\n",
      "37/37 [==============================] - 7s 201ms/step - loss: 0.1534 - acc: 0.9405 - val_loss: 0.8573 - val_acc: 0.8007\n",
      "Epoch 82/100\n",
      "37/37 [==============================] - 7s 196ms/step - loss: 0.1551 - acc: 0.9408 - val_loss: 0.8836 - val_acc: 0.8003\n",
      "Epoch 83/100\n",
      "37/37 [==============================] - 7s 199ms/step - loss: 0.1548 - acc: 0.9440 - val_loss: 0.8585 - val_acc: 0.7759\n",
      "Epoch 84/100\n",
      "37/37 [==============================] - 7s 199ms/step - loss: 0.1405 - acc: 0.9488 - val_loss: 0.8716 - val_acc: 0.8003\n",
      "Epoch 85/100\n",
      "37/37 [==============================] - 7s 201ms/step - loss: 0.1497 - acc: 0.9444 - val_loss: 0.8524 - val_acc: 0.7994\n",
      "Epoch 86/100\n",
      "37/37 [==============================] - 8s 215ms/step - loss: 0.1471 - acc: 0.9488 - val_loss: 0.8748 - val_acc: 0.8071\n",
      "Epoch 87/100\n",
      "37/37 [==============================] - 7s 197ms/step - loss: 0.1381 - acc: 0.9513 - val_loss: 0.8487 - val_acc: 0.8020\n",
      "Epoch 88/100\n",
      "37/37 [==============================] - 7s 198ms/step - loss: 0.1316 - acc: 0.9503 - val_loss: 0.8344 - val_acc: 0.7973\n",
      "Epoch 89/100\n",
      "37/37 [==============================] - 7s 197ms/step - loss: 0.1401 - acc: 0.9526 - val_loss: 0.8812 - val_acc: 0.7943\n",
      "Epoch 90/100\n",
      "37/37 [==============================] - 7s 200ms/step - loss: 0.1304 - acc: 0.9536 - val_loss: 0.8355 - val_acc: 0.8003\n",
      "Epoch 91/100\n",
      "37/37 [==============================] - 7s 194ms/step - loss: 0.1305 - acc: 0.9535 - val_loss: 0.8326 - val_acc: 0.7960\n",
      "Epoch 92/100\n",
      "37/37 [==============================] - 7s 193ms/step - loss: 0.1337 - acc: 0.9532 - val_loss: 0.9175 - val_acc: 0.8071\n",
      "Epoch 93/100\n",
      "37/37 [==============================] - 7s 194ms/step - loss: 0.1351 - acc: 0.9504 - val_loss: 0.9190 - val_acc: 0.7840\n",
      "Epoch 94/100\n",
      "37/37 [==============================] - 7s 199ms/step - loss: 0.1271 - acc: 0.9515 - val_loss: 0.8902 - val_acc: 0.7968\n",
      "Epoch 95/100\n",
      "37/37 [==============================] - 7s 194ms/step - loss: 0.1289 - acc: 0.9535 - val_loss: 0.9350 - val_acc: 0.8041\n",
      "Epoch 96/100\n",
      "37/37 [==============================] - 8s 227ms/step - loss: 0.1313 - acc: 0.9521 - val_loss: 0.8620 - val_acc: 0.8024\n",
      "Epoch 97/100\n",
      "37/37 [==============================] - 12s 317ms/step - loss: 0.1224 - acc: 0.9517 - val_loss: 0.8683 - val_acc: 0.7934\n",
      "Epoch 98/100\n",
      "37/37 [==============================] - 13s 344ms/step - loss: 0.1216 - acc: 0.9548 - val_loss: 0.9215 - val_acc: 0.7990\n",
      "Epoch 99/100\n",
      "37/37 [==============================] - 11s 303ms/step - loss: 0.1318 - acc: 0.9485 - val_loss: 0.8586 - val_acc: 0.7887\n",
      "Epoch 100/100\n",
      "37/37 [==============================] - 8s 218ms/step - loss: 0.1184 - acc: 0.9569 - val_loss: 1.0286 - val_acc: 0.8007\n"
     ]
    }
   ],
   "source": [
    "hist_1 = lstm_mod1.fit(X_train, y_train,\n",
    "                    validation_split = 0.2,\n",
    "                    epochs=100, batch_size=256)"
   ]
  },
  {
   "cell_type": "code",
   "execution_count": 27,
   "metadata": {},
   "outputs": [],
   "source": [
    "FirsttModelTimeOfExecution = time.time()-start"
   ]
  },
  {
   "cell_type": "code",
   "execution_count": 28,
   "metadata": {},
   "outputs": [],
   "source": [
    "def convert(seconds): \n",
    "    seconds = seconds % (24 * 3600) \n",
    "    hour = seconds // 3600\n",
    "    seconds %= 3600\n",
    "    minutes = seconds // 60\n",
    "    seconds %= 60\n",
    "      \n",
    "    return \"%d:%d:%d\" % (hour, minutes, seconds) "
   ]
  },
  {
   "cell_type": "code",
   "execution_count": 29,
   "metadata": {},
   "outputs": [
    {
     "name": "stdout",
     "output_type": "stream",
     "text": [
      "\n",
      "Time of execution =  0:12:46\n"
     ]
    }
   ],
   "source": [
    "print(\"\\nTime of execution = \", convert(FirsttModelTimeOfExecution)) "
   ]
  },
  {
   "cell_type": "code",
   "execution_count": 30,
   "metadata": {},
   "outputs": [
    {
     "name": "stdout",
     "output_type": "stream",
     "text": [
      "Training Accuracy: 0.9462\n",
      "Testing Accuracy:  0.7920\n"
     ]
    }
   ],
   "source": [
    "# Find train and test accuracy\n",
    "loss, accuracy = lstm_mod1.evaluate(X_train, y_train, verbose=False)\n",
    "print(\"Training Accuracy: {:.4f}\".format(accuracy))\n",
    "loss, accuracy = lstm_mod1.evaluate(X_test, y_test, verbose=False)\n",
    "print(\"Testing Accuracy:  {:.4f}\".format(accuracy))"
   ]
  },
  {
   "cell_type": "code",
   "execution_count": 31,
   "metadata": {},
   "outputs": [
    {
     "data": {
      "image/png": "[encoded data removed]",
      "text/plain": [
       "<Figure size 432x288 with 1 Axes>"
      ]
     },
     "metadata": {
      "needs_background": "light"
     },
     "output_type": "display_data"
    },
    {
     "data": {
      "image/png": "[encoded data removed]",
      "text/plain": [
       "<Figure size 432x288 with 1 Axes>"
      ]
     },
     "metadata": {
      "needs_background": "light"
     },
     "output_type": "display_data"
    }
   ],
   "source": [
    "# Plot train/test loss and accuracy\n",
    "acc = hist_1.history['acc']\n",
    "val_acc = hist_1.history['val_acc']\n",
    "loss = hist_1.history['loss']\n",
    "val_loss = hist_1.history['val_loss']\n",
    "\n",
    "epochs = range(len(acc))\n",
    "\n",
    "plt.plot(epochs, acc, 'g', label='Training acc')\n",
    "plt.plot(epochs, val_acc, 'b', label='Validation acc')\n",
    "plt.title('Training and validation accuracy')\n",
    "plt.legend()\n",
    "\n",
    "plt.figure()\n",
    "\n",
    "plt.plot(epochs, loss, 'g', label='Training loss')\n",
    "plt.plot(epochs, val_loss, 'b', label='Validation loss')\n",
    "plt.title('Training and validation loss')\n",
    "plt.legend()\n",
    "\n",
    "plt.show()\n"
   ]
  },
  {
   "cell_type": "code",
   "execution_count": 32,
   "metadata": {},
   "outputs": [],
   "source": [
    "# Confusion matrix\n",
    "from sklearn.metrics import confusion_matrix\n",
    "from sklearn.utils.multiclass import unique_labels"
   ]
  },
  {
   "cell_type": "code",
   "execution_count": 33,
   "metadata": {},
   "outputs": [],
   "source": [
    "# Get predicted values\n",
    "y_pred = lstm_mod1.predict(X_test)  # outputs probabilities of each sentiment\n",
    "# Create empty numpy array to match length of training observations\n",
    "y_pred_array = np.zeros(X_test.shape[0])\n",
    "\n",
    "# Find class with highest probability\n",
    "for i in range(0, y_pred.shape[0]):\n",
    "    label_predict = np.argmax(y_pred[i]) # column with max probability\n",
    "    y_pred_array[i] = label_predict\n",
    "\n",
    "# convert to integers\n",
    "y_pred_array = y_pred_array.astype(int)"
   ]
  },
  {
   "cell_type": "code",
   "execution_count": 34,
   "metadata": {},
   "outputs": [],
   "source": [
    "# Convert y_test to 1d numpy array\n",
    "y_test_array = np.zeros(X_test.shape[0])\n",
    "\n",
    "# Find class with 1\n",
    "for i in range(0, y_test.shape[0]):\n",
    "    label_predict = np.argmax(y_test[i])\n",
    "    y_test_array[i] = label_predict\n",
    "\n",
    "y_test_array = y_test_array.astype(int)"
   ]
  },
  {
   "cell_type": "code",
   "execution_count": 35,
   "metadata": {},
   "outputs": [],
   "source": [
    "class_names = np.array(['Negative', 'Neutral', 'Positive'])"
   ]
  },
  {
   "cell_type": "code",
   "execution_count": 36,
   "metadata": {},
   "outputs": [
    {
     "name": "stdout",
     "output_type": "stream",
     "text": [
      "Confusion matrix, without normalization\n",
      "[[1711  126   33]\n",
      " [ 248  332   34]\n",
      " [ 117   51  276]]\n",
      "Normalized confusion matrix\n",
      "[[0.91 0.07 0.02]\n",
      " [0.4  0.54 0.06]\n",
      " [0.26 0.11 0.62]]\n"
     ]
    },
    {
     "data": {
      "image/png": "[encoded data removed]",
      "text/plain": [
       "<Figure size 432x288 with 2 Axes>"
      ]
     },
     "metadata": {
      "needs_background": "light"
     },
     "output_type": "display_data"
    },
    {
     "data": {
      "image/png": "[encoded data removed]",
      "text/plain": [
       "<Figure size 432x288 with 2 Axes>"
      ]
     },
     "metadata": {
      "needs_background": "light"
     },
     "output_type": "display_data"
    }
   ],
   "source": [
    "def plot_confusion_matrix(y_true, y_pred, classes,\n",
    "                          normalize=False,\n",
    "                          title=None,\n",
    "                          cmap=plt.cm.Blues):\n",
    "    \"\"\"\n",
    "    This function prints and plots the confusion matrix.\n",
    "    Normalization can be applied by setting `normalize=True`.\n",
    "    \"\"\"\n",
    "    if not title:\n",
    "        if normalize:\n",
    "            title = 'Normalized confusion matrix'\n",
    "        else:\n",
    "            title = 'Confusion matrix, without normalization'\n",
    "\n",
    "    # Compute confusion matrix\n",
    "    cm = confusion_matrix(y_true, y_pred)\n",
    "    # Only use the labels that appear in the data\n",
    "    classes = classes[unique_labels(y_true, y_pred)]\n",
    "    if normalize:\n",
    "        cm = cm.astype('float') / cm.sum(axis=1)[:, np.newaxis]\n",
    "        print(\"Normalized confusion matrix\")\n",
    "    else:\n",
    "        print('Confusion matrix, without normalization')\n",
    "\n",
    "    print(cm)\n",
    "\n",
    "    fig, ax = plt.subplots()\n",
    "    im = ax.imshow(cm, interpolation='nearest', cmap=cmap)\n",
    "    ax.figure.colorbar(im, ax=ax)\n",
    "    # We want to show all ticks...\n",
    "    ax.set(xticks=np.arange(cm.shape[1]),\n",
    "           yticks=np.arange(cm.shape[0]),\n",
    "           # ... and label them with the respective list entries\n",
    "           xticklabels=classes, yticklabels=classes,\n",
    "           title=title,\n",
    "           ylabel='True label',\n",
    "           xlabel='Predicted label')\n",
    "\n",
    "    # Rotate the tick labels and set their alignment.\n",
    "    plt.setp(ax.get_xticklabels(), rotation=45, ha=\"right\",\n",
    "             rotation_mode=\"anchor\")\n",
    "\n",
    "    # Loop over data dimensions and create text annotations.\n",
    "    fmt = '.2f' if normalize else 'd'\n",
    "    thresh = cm.max() / 2.\n",
    "    for i in range(cm.shape[0]):\n",
    "        for j in range(cm.shape[1]):\n",
    "            ax.text(j, i, format(cm[i, j], fmt),\n",
    "                    ha=\"center\", va=\"center\",\n",
    "                    color=\"white\" if cm[i, j] > thresh else \"black\")\n",
    "    fig.tight_layout()\n",
    "    return ax\n",
    "\n",
    "\n",
    "np.set_printoptions(precision=2)\n",
    "\n",
    "# Plot non-normalized confusion matrix\n",
    "plot_confusion_matrix(y_test_array, y_pred_array, classes=class_names,\n",
    "                      title='Confusion matrix, without normalization')\n",
    "\n",
    "# Plot normalized confusion matrix\n",
    "plot_confusion_matrix(y_test_array, y_pred_array, classes=class_names, normalize=True,\n",
    "                      title='Normalized confusion matrix')\n",
    "\n",
    "plt.show()"
   ]
  },
  {
   "cell_type": "markdown",
   "metadata": {},
   "source": [
    "\n",
    "\n",
    "\n",
    "##### Because the model demonstrated clearly an overfit , in the following models, we experiment with modifying the LSTM, dropout and recurrent_dropout.\n",
    "\n",
    "\n"
   ]
  },
  {
   "cell_type": "markdown",
   "metadata": {},
   "source": [
    "#### Second setting for model 1 to rectify overfit:"
   ]
  },
  {
   "cell_type": "code",
   "execution_count": 442,
   "metadata": {},
   "outputs": [
    {
     "name": "stdout",
     "output_type": "stream",
     "text": [
      "Model: \"sequential_46\"\n",
      "_________________________________________________________________\n",
      "Layer (type)                 Output Shape              Param #   \n",
      "=================================================================\n",
      "embedding (Embedding)        (None, 30, 100)           1576900   \n",
      "_________________________________________________________________\n",
      "lstm_50 (LSTM)               (None, 50)                30200     \n",
      "_________________________________________________________________\n",
      "dense_46 (Dense)             (None, 3)                 153       \n",
      "=================================================================\n",
      "Total params: 1,607,253\n",
      "Trainable params: 30,353\n",
      "Non-trainable params: 1,576,900\n",
      "_________________________________________________________________\n"
     ]
    }
   ],
   "source": [
    "lstm_mod1 = Sequential()\n",
    "lstm_mod1.add(embedding_layer)\n",
    "lstm_mod1.add(LSTM(50, \n",
    "               dropout = 0.2, \n",
    "               recurrent_dropout = 0.5))\n",
    "lstm_mod1.add(Dense(3, activation='softmax'))\n",
    "lstm_mod1.compile(optimizer='adam', loss='categorical_crossentropy', metrics=['acc'])\n",
    "lstm_mod1.summary()"
   ]
  },
  {
   "cell_type": "code",
   "execution_count": 443,
   "metadata": {},
   "outputs": [],
   "source": [
    "startbis = time.time()"
   ]
  },
  {
   "cell_type": "code",
   "execution_count": 444,
   "metadata": {},
   "outputs": [
    {
     "name": "stdout",
     "output_type": "stream",
     "text": [
      "Epoch 1/100\n",
      "37/37 [==============================] - 6s 96ms/step - loss: 0.9459 - acc: 0.5946 - val_loss: 0.8443 - val_acc: 0.6176\n",
      "Epoch 2/100\n",
      "37/37 [==============================] - 3s 85ms/step - loss: 0.8248 - acc: 0.6321 - val_loss: 0.7903 - val_acc: 0.6709\n",
      "Epoch 3/100\n",
      "37/37 [==============================] - 3s 93ms/step - loss: 0.7525 - acc: 0.6821 - val_loss: 0.6861 - val_acc: 0.7209\n",
      "Epoch 4/100\n",
      "37/37 [==============================] - 4s 102ms/step - loss: 0.6741 - acc: 0.7184 - val_loss: 0.6232 - val_acc: 0.7482\n",
      "Epoch 5/100\n",
      "37/37 [==============================] - 3s 77ms/step - loss: 0.6450 - acc: 0.7375 - val_loss: 0.5950 - val_acc: 0.7606\n",
      "Epoch 6/100\n",
      "37/37 [==============================] - 3s 71ms/step - loss: 0.6107 - acc: 0.7488 - val_loss: 0.5926 - val_acc: 0.7559\n",
      "Epoch 7/100\n",
      "37/37 [==============================] - 3s 74ms/step - loss: 0.5822 - acc: 0.7586 - val_loss: 0.5867 - val_acc: 0.7657\n",
      "Epoch 8/100\n",
      "37/37 [==============================] - 3s 71ms/step - loss: 0.5889 - acc: 0.7555 - val_loss: 0.5593 - val_acc: 0.7793\n",
      "Epoch 9/100\n",
      "37/37 [==============================] - 3s 75ms/step - loss: 0.5633 - acc: 0.7730 - val_loss: 0.5679 - val_acc: 0.7704\n",
      "Epoch 10/100\n",
      "37/37 [==============================] - 3s 82ms/step - loss: 0.5671 - acc: 0.7729 - val_loss: 0.5445 - val_acc: 0.7849\n",
      "Epoch 11/100\n",
      "37/37 [==============================] - 3s 78ms/step - loss: 0.5547 - acc: 0.7733 - val_loss: 0.5479 - val_acc: 0.7845\n",
      "Epoch 12/100\n",
      "37/37 [==============================] - 3s 87ms/step - loss: 0.5395 - acc: 0.7807 - val_loss: 0.5457 - val_acc: 0.7845\n",
      "Epoch 13/100\n",
      "37/37 [==============================] - 3s 80ms/step - loss: 0.5432 - acc: 0.7852 - val_loss: 0.5326 - val_acc: 0.7896\n",
      "Epoch 14/100\n",
      "37/37 [==============================] - 3s 80ms/step - loss: 0.5295 - acc: 0.7868 - val_loss: 0.5302 - val_acc: 0.7900\n",
      "Epoch 15/100\n",
      "37/37 [==============================] - 4s 103ms/step - loss: 0.5216 - acc: 0.7889 - val_loss: 0.5340 - val_acc: 0.7883\n",
      "Epoch 16/100\n",
      "37/37 [==============================] - 3s 81ms/step - loss: 0.5174 - acc: 0.7927 - val_loss: 0.5257 - val_acc: 0.7956\n",
      "Epoch 17/100\n",
      "37/37 [==============================] - 3s 92ms/step - loss: 0.5048 - acc: 0.7959 - val_loss: 0.5207 - val_acc: 0.7977\n",
      "Epoch 18/100\n",
      "37/37 [==============================] - 3s 91ms/step - loss: 0.5073 - acc: 0.7944 - val_loss: 0.5232 - val_acc: 0.7964\n",
      "Epoch 19/100\n",
      "37/37 [==============================] - 3s 79ms/step - loss: 0.5088 - acc: 0.7988 - val_loss: 0.5163 - val_acc: 0.8041\n",
      "Epoch 20/100\n",
      "37/37 [==============================] - 3s 81ms/step - loss: 0.4898 - acc: 0.8022 - val_loss: 0.5140 - val_acc: 0.7909\n",
      "Epoch 21/100\n",
      "37/37 [==============================] - 3s 80ms/step - loss: 0.4864 - acc: 0.8099 - val_loss: 0.5204 - val_acc: 0.7892\n",
      "Epoch 22/100\n",
      "37/37 [==============================] - 3s 80ms/step - loss: 0.4977 - acc: 0.7992 - val_loss: 0.5455 - val_acc: 0.8024\n",
      "Epoch 23/100\n",
      "37/37 [==============================] - 3s 83ms/step - loss: 0.4857 - acc: 0.8066 - val_loss: 0.5121 - val_acc: 0.8045\n",
      "Epoch 24/100\n",
      "37/37 [==============================] - 3s 81ms/step - loss: 0.4770 - acc: 0.8151 - val_loss: 0.5120 - val_acc: 0.8054\n",
      "Epoch 25/100\n",
      "37/37 [==============================] - 3s 85ms/step - loss: 0.4671 - acc: 0.8163 - val_loss: 0.5061 - val_acc: 0.8032\n",
      "Epoch 26/100\n",
      "37/37 [==============================] - 3s 86ms/step - loss: 0.4626 - acc: 0.8166 - val_loss: 0.5092 - val_acc: 0.8075\n",
      "Epoch 27/100\n",
      "37/37 [==============================] - 3s 84ms/step - loss: 0.4682 - acc: 0.8146 - val_loss: 0.5031 - val_acc: 0.8126\n",
      "Epoch 28/100\n",
      "37/37 [==============================] - 3s 86ms/step - loss: 0.4479 - acc: 0.8219 - val_loss: 0.5110 - val_acc: 0.8092\n",
      "Epoch 29/100\n",
      "37/37 [==============================] - 3s 86ms/step - loss: 0.4756 - acc: 0.8082 - val_loss: 0.5116 - val_acc: 0.8105\n",
      "Epoch 30/100\n",
      "37/37 [==============================] - 3s 88ms/step - loss: 0.4531 - acc: 0.8197 - val_loss: 0.5143 - val_acc: 0.8054\n",
      "Epoch 31/100\n",
      "37/37 [==============================] - 3s 85ms/step - loss: 0.4524 - acc: 0.8162 - val_loss: 0.5007 - val_acc: 0.8118\n",
      "Epoch 32/100\n",
      "37/37 [==============================] - 3s 87ms/step - loss: 0.4432 - acc: 0.8236 - val_loss: 0.5051 - val_acc: 0.8075\n",
      "Epoch 33/100\n",
      "37/37 [==============================] - 3s 88ms/step - loss: 0.4530 - acc: 0.8150 - val_loss: 0.5228 - val_acc: 0.8109\n",
      "Epoch 34/100\n",
      "37/37 [==============================] - 3s 89ms/step - loss: 0.4438 - acc: 0.8237 - val_loss: 0.5133 - val_acc: 0.8096\n",
      "Epoch 35/100\n",
      "37/37 [==============================] - 3s 89ms/step - loss: 0.4420 - acc: 0.8267 - val_loss: 0.5139 - val_acc: 0.8109\n",
      "Epoch 36/100\n",
      "37/37 [==============================] - 3s 88ms/step - loss: 0.4310 - acc: 0.8319 - val_loss: 0.5067 - val_acc: 0.8126\n",
      "Epoch 37/100\n",
      "37/37 [==============================] - 3s 91ms/step - loss: 0.4366 - acc: 0.8258 - val_loss: 0.5186 - val_acc: 0.8105\n",
      "Epoch 38/100\n",
      "37/37 [==============================] - 4s 97ms/step - loss: 0.4284 - acc: 0.8354 - val_loss: 0.5011 - val_acc: 0.8182\n",
      "Epoch 39/100\n",
      "37/37 [==============================] - 3s 89ms/step - loss: 0.4179 - acc: 0.8355 - val_loss: 0.5052 - val_acc: 0.8156\n",
      "Epoch 40/100\n",
      "37/37 [==============================] - 3s 89ms/step - loss: 0.4259 - acc: 0.8280 - val_loss: 0.5041 - val_acc: 0.8143\n",
      "Epoch 41/100\n",
      "37/37 [==============================] - 3s 89ms/step - loss: 0.4276 - acc: 0.8329 - val_loss: 0.5149 - val_acc: 0.8148\n",
      "Epoch 42/100\n",
      "37/37 [==============================] - 3s 89ms/step - loss: 0.4233 - acc: 0.8320 - val_loss: 0.5153 - val_acc: 0.8105\n",
      "Epoch 43/100\n",
      "37/37 [==============================] - 3s 90ms/step - loss: 0.4179 - acc: 0.8348 - val_loss: 0.5043 - val_acc: 0.8105\n",
      "Epoch 44/100\n",
      "37/37 [==============================] - 3s 92ms/step - loss: 0.4104 - acc: 0.8376 - val_loss: 0.5281 - val_acc: 0.8096\n",
      "Epoch 45/100\n",
      "37/37 [==============================] - 3s 91ms/step - loss: 0.4074 - acc: 0.8402 - val_loss: 0.5185 - val_acc: 0.8126\n",
      "Epoch 46/100\n",
      "37/37 [==============================] - 3s 90ms/step - loss: 0.4087 - acc: 0.8404 - val_loss: 0.5204 - val_acc: 0.8075\n",
      "Epoch 47/100\n",
      "37/37 [==============================] - 3s 90ms/step - loss: 0.4009 - acc: 0.8404 - val_loss: 0.5465 - val_acc: 0.8092\n",
      "Epoch 48/100\n",
      "37/37 [==============================] - 3s 91ms/step - loss: 0.4054 - acc: 0.8369 - val_loss: 0.5105 - val_acc: 0.8109\n",
      "Epoch 49/100\n",
      "37/37 [==============================] - 3s 91ms/step - loss: 0.4055 - acc: 0.8396 - val_loss: 0.5356 - val_acc: 0.8096\n",
      "Epoch 50/100\n",
      "37/37 [==============================] - 3s 92ms/step - loss: 0.3907 - acc: 0.8506 - val_loss: 0.5170 - val_acc: 0.8160\n",
      "Epoch 51/100\n",
      "37/37 [==============================] - 3s 93ms/step - loss: 0.3770 - acc: 0.8524 - val_loss: 0.5377 - val_acc: 0.8143\n",
      "Epoch 52/100\n",
      "37/37 [==============================] - 3s 92ms/step - loss: 0.3920 - acc: 0.8383 - val_loss: 0.5133 - val_acc: 0.8088\n",
      "Epoch 53/100\n",
      "37/37 [==============================] - 4s 99ms/step - loss: 0.3868 - acc: 0.8503 - val_loss: 0.5288 - val_acc: 0.8024\n",
      "Epoch 54/100\n",
      "37/37 [==============================] - 4s 108ms/step - loss: 0.3997 - acc: 0.8426 - val_loss: 0.5447 - val_acc: 0.8045\n",
      "Epoch 55/100\n",
      "37/37 [==============================] - 6s 164ms/step - loss: 0.3825 - acc: 0.8529 - val_loss: 0.5163 - val_acc: 0.8067\n",
      "Epoch 56/100\n",
      "37/37 [==============================] - 5s 121ms/step - loss: 0.3757 - acc: 0.8530 - val_loss: 0.5324 - val_acc: 0.8092\n",
      "Epoch 57/100\n",
      "37/37 [==============================] - 4s 96ms/step - loss: 0.3792 - acc: 0.8527 - val_loss: 0.5288 - val_acc: 0.8131\n",
      "Epoch 58/100\n",
      "37/37 [==============================] - 3s 93ms/step - loss: 0.3732 - acc: 0.8533 - val_loss: 0.5164 - val_acc: 0.8109\n",
      "Epoch 59/100\n",
      "37/37 [==============================] - 3s 94ms/step - loss: 0.3644 - acc: 0.8589 - val_loss: 0.5168 - val_acc: 0.8092\n",
      "Epoch 60/100\n",
      "37/37 [==============================] - 4s 97ms/step - loss: 0.3636 - acc: 0.8578 - val_loss: 0.5196 - val_acc: 0.8118\n",
      "Epoch 61/100\n",
      "37/37 [==============================] - 4s 98ms/step - loss: 0.3868 - acc: 0.8525 - val_loss: 0.5289 - val_acc: 0.8105\n",
      "Epoch 62/100\n",
      "37/37 [==============================] - 3s 91ms/step - loss: 0.3698 - acc: 0.8551 - val_loss: 0.5188 - val_acc: 0.8041\n",
      "Epoch 63/100\n",
      "37/37 [==============================] - 3s 88ms/step - loss: 0.3588 - acc: 0.8556 - val_loss: 0.5151 - val_acc: 0.8118\n",
      "Epoch 64/100\n",
      "37/37 [==============================] - 3s 90ms/step - loss: 0.3655 - acc: 0.8519 - val_loss: 0.5339 - val_acc: 0.8088\n",
      "Epoch 65/100\n",
      "37/37 [==============================] - 3s 89ms/step - loss: 0.3650 - acc: 0.8548 - val_loss: 0.5419 - val_acc: 0.8139\n",
      "Epoch 66/100\n",
      "37/37 [==============================] - 3s 89ms/step - loss: 0.3557 - acc: 0.8589 - val_loss: 0.5162 - val_acc: 0.8122\n",
      "Epoch 67/100\n",
      "37/37 [==============================] - 3s 88ms/step - loss: 0.3526 - acc: 0.8672 - val_loss: 0.5126 - val_acc: 0.8152\n",
      "Epoch 68/100\n",
      "37/37 [==============================] - 3s 91ms/step - loss: 0.3643 - acc: 0.8571 - val_loss: 0.5550 - val_acc: 0.8101\n",
      "Epoch 69/100\n",
      "37/37 [==============================] - 3s 90ms/step - loss: 0.3542 - acc: 0.8602 - val_loss: 0.5335 - val_acc: 0.8075\n",
      "Epoch 70/100\n",
      "37/37 [==============================] - 3s 89ms/step - loss: 0.3388 - acc: 0.8671 - val_loss: 0.5257 - val_acc: 0.8096\n",
      "Epoch 71/100\n",
      "37/37 [==============================] - 3s 91ms/step - loss: 0.3578 - acc: 0.8638 - val_loss: 0.5520 - val_acc: 0.8148\n",
      "Epoch 72/100\n",
      "37/37 [==============================] - 3s 91ms/step - loss: 0.3399 - acc: 0.8652 - val_loss: 0.5592 - val_acc: 0.8122\n",
      "Epoch 73/100\n",
      "37/37 [==============================] - 3s 91ms/step - loss: 0.3308 - acc: 0.8730 - val_loss: 0.5526 - val_acc: 0.8105\n",
      "Epoch 74/100\n",
      "37/37 [==============================] - 3s 91ms/step - loss: 0.3319 - acc: 0.8703 - val_loss: 0.5700 - val_acc: 0.8067\n",
      "Epoch 75/100\n",
      "37/37 [==============================] - 3s 91ms/step - loss: 0.3386 - acc: 0.8643 - val_loss: 0.5457 - val_acc: 0.8062\n",
      "Epoch 76/100\n",
      "37/37 [==============================] - 3s 89ms/step - loss: 0.3404 - acc: 0.8666 - val_loss: 0.5474 - val_acc: 0.8101\n",
      "Epoch 77/100\n",
      "37/37 [==============================] - 3s 91ms/step - loss: 0.3298 - acc: 0.8694 - val_loss: 0.5424 - val_acc: 0.8084\n",
      "Epoch 78/100\n",
      "37/37 [==============================] - 3s 91ms/step - loss: 0.3255 - acc: 0.8697 - val_loss: 0.5789 - val_acc: 0.8114\n",
      "Epoch 79/100\n",
      "37/37 [==============================] - 3s 92ms/step - loss: 0.3513 - acc: 0.8646 - val_loss: 0.5708 - val_acc: 0.8122\n",
      "Epoch 80/100\n",
      "37/37 [==============================] - 3s 90ms/step - loss: 0.3307 - acc: 0.8674 - val_loss: 0.5304 - val_acc: 0.8062\n",
      "Epoch 81/100\n",
      "37/37 [==============================] - 3s 89ms/step - loss: 0.3238 - acc: 0.8711 - val_loss: 0.5697 - val_acc: 0.8092\n",
      "Epoch 82/100\n",
      "37/37 [==============================] - 4s 95ms/step - loss: 0.3287 - acc: 0.8754 - val_loss: 0.6025 - val_acc: 0.8109\n",
      "Epoch 83/100\n",
      "37/37 [==============================] - 3s 92ms/step - loss: 0.3176 - acc: 0.8798 - val_loss: 0.5508 - val_acc: 0.8101\n",
      "Epoch 84/100\n",
      "37/37 [==============================] - 3s 90ms/step - loss: 0.3299 - acc: 0.8668 - val_loss: 0.5781 - val_acc: 0.8096\n",
      "Epoch 85/100\n",
      "37/37 [==============================] - 3s 89ms/step - loss: 0.3254 - acc: 0.8751 - val_loss: 0.5677 - val_acc: 0.8054\n",
      "Epoch 86/100\n",
      "37/37 [==============================] - 3s 94ms/step - loss: 0.3104 - acc: 0.8826 - val_loss: 0.5801 - val_acc: 0.8075\n",
      "Epoch 87/100\n",
      "37/37 [==============================] - 3s 93ms/step - loss: 0.3153 - acc: 0.8763 - val_loss: 0.5495 - val_acc: 0.8109\n",
      "Epoch 88/100\n",
      "37/37 [==============================] - 3s 91ms/step - loss: 0.3289 - acc: 0.8749 - val_loss: 0.5467 - val_acc: 0.8054\n",
      "Epoch 89/100\n",
      "37/37 [==============================] - 3s 93ms/step - loss: 0.3122 - acc: 0.8774 - val_loss: 0.5827 - val_acc: 0.8101\n",
      "Epoch 90/100\n",
      "37/37 [==============================] - 3s 93ms/step - loss: 0.2973 - acc: 0.8831 - val_loss: 0.5614 - val_acc: 0.8045\n",
      "Epoch 91/100\n",
      "37/37 [==============================] - 3s 90ms/step - loss: 0.3190 - acc: 0.8720 - val_loss: 0.5625 - val_acc: 0.8084\n",
      "Epoch 92/100\n",
      "37/37 [==============================] - 3s 91ms/step - loss: 0.3167 - acc: 0.8759 - val_loss: 0.5727 - val_acc: 0.8071\n",
      "Epoch 93/100\n",
      "37/37 [==============================] - 3s 94ms/step - loss: 0.3024 - acc: 0.8845 - val_loss: 0.6164 - val_acc: 0.8092\n",
      "Epoch 94/100\n",
      "37/37 [==============================] - 3s 93ms/step - loss: 0.3110 - acc: 0.8783 - val_loss: 0.5793 - val_acc: 0.8011\n",
      "Epoch 95/100\n",
      "37/37 [==============================] - 3s 91ms/step - loss: 0.3074 - acc: 0.8825 - val_loss: 0.6150 - val_acc: 0.8105\n",
      "Epoch 96/100\n",
      "37/37 [==============================] - 4s 96ms/step - loss: 0.3035 - acc: 0.8786 - val_loss: 0.5552 - val_acc: 0.8058\n",
      "Epoch 97/100\n",
      "37/37 [==============================] - 3s 94ms/step - loss: 0.3033 - acc: 0.8788 - val_loss: 0.5828 - val_acc: 0.8050\n",
      "Epoch 98/100\n",
      "37/37 [==============================] - 3s 92ms/step - loss: 0.3000 - acc: 0.8814 - val_loss: 0.5913 - val_acc: 0.8109\n",
      "Epoch 99/100\n",
      "37/37 [==============================] - 4s 98ms/step - loss: 0.3062 - acc: 0.8819 - val_loss: 0.6038 - val_acc: 0.8032\n",
      "Epoch 100/100\n",
      "37/37 [==============================] - 3s 94ms/step - loss: 0.2956 - acc: 0.8857 - val_loss: 0.6208 - val_acc: 0.8143\n"
     ]
    }
   ],
   "source": [
    "hist_1 = lstm_mod1.fit(X_train, y_train,\n",
    "                    validation_split = 0.2,\n",
    "                    epochs=100, batch_size=256)"
   ]
  },
  {
   "cell_type": "code",
   "execution_count": 445,
   "metadata": {},
   "outputs": [],
   "source": [
    "BisFirsttModelTimeOfExecution = time.time()-startbis"
   ]
  },
  {
   "cell_type": "code",
   "execution_count": 446,
   "metadata": {},
   "outputs": [
    {
     "name": "stdout",
     "output_type": "stream",
     "text": [
      "\n",
      "Time of execution =  0:5:37\n"
     ]
    }
   ],
   "source": [
    "print(\"\\nTime of execution = \", convert(BisFirsttModelTimeOfExecution)) "
   ]
  },
  {
   "cell_type": "code",
   "execution_count": 447,
   "metadata": {},
   "outputs": [
    {
     "name": "stdout",
     "output_type": "stream",
     "text": [
      "Training Accuracy: 0.8958\n",
      "Testing Accuracy:  0.7982\n"
     ]
    }
   ],
   "source": [
    "# Find train and test accuracy\n",
    "loss, accuracy = lstm_mod1.evaluate(X_train, y_train, verbose=False)\n",
    "print(\"Training Accuracy: {:.4f}\".format(accuracy))\n",
    "loss, accuracy = lstm_mod1.evaluate(X_test, y_test, verbose=False)\n",
    "print(\"Testing Accuracy:  {:.4f}\".format(accuracy))"
   ]
  },
  {
   "cell_type": "code",
   "execution_count": 448,
   "metadata": {},
   "outputs": [
    {
     "data": {
      "image/png": "[encoded data removed]",
      "text/plain": [
       "<Figure size 432x288 with 1 Axes>"
      ]
     },
     "metadata": {
      "needs_background": "light"
     },
     "output_type": "display_data"
    },
    {
     "data": {
      "image/png": "[encoded data removed]",
      "text/plain": [
       "<Figure size 432x288 with 1 Axes>"
      ]
     },
     "metadata": {
      "needs_background": "light"
     },
     "output_type": "display_data"
    }
   ],
   "source": [
    "# Plot train/test loss and accuracy\n",
    "acc = hist_1.history['acc']\n",
    "val_acc = hist_1.history['val_acc']\n",
    "loss = hist_1.history['loss']\n",
    "val_loss = hist_1.history['val_loss']\n",
    "\n",
    "epochs = range(len(acc))\n",
    "\n",
    "plt.plot(epochs, acc, 'g', label='Training acc')\n",
    "plt.plot(epochs, val_acc, 'b', label='Validation acc')\n",
    "plt.title('Training and validation accuracy')\n",
    "plt.legend()\n",
    "\n",
    "plt.figure()\n",
    "\n",
    "plt.plot(epochs, loss, 'g', label='Training loss')\n",
    "plt.plot(epochs, val_loss, 'b', label='Validation loss')\n",
    "plt.title('Training and validation loss')\n",
    "plt.legend()\n",
    "\n",
    "plt.show()"
   ]
  },
  {
   "cell_type": "markdown",
   "metadata": {},
   "source": [
    "### Obervation for model 1:"
   ]
  },
  {
   "cell_type": "markdown",
   "metadata": {},
   "source": [
    "We experiemented with two different settings for this model. When we realise the first setting made the model overfit by a lot when the number of LSTM units was high, we modified the setting decreasing the LSTM. This helped with reducing the overfit and improved the accuracy. However, the overfit is still important and seems to start a little before the 20th epoch without reaching a plateau.\n",
    "\n",
    "The model achieves an accuracy of around 79% and does its best job at classifying negative tweets."
   ]
  },
  {
   "cell_type": "markdown",
   "metadata": {},
   "source": [
    "# Model 2: LSTM with different regularization, reduce dimensionality¶\n"
   ]
  },
  {
   "cell_type": "code",
   "execution_count": 433,
   "metadata": {},
   "outputs": [
    {
     "name": "stdout",
     "output_type": "stream",
     "text": [
      "Model: \"sequential_45\"\n",
      "_________________________________________________________________\n",
      "Layer (type)                 Output Shape              Param #   \n",
      "=================================================================\n",
      "embedding (Embedding)        (None, 30, 100)           1576900   \n",
      "_________________________________________________________________\n",
      "lstm_49 (LSTM)               (None, 15)                6960      \n",
      "_________________________________________________________________\n",
      "dense_45 (Dense)             (None, 3)                 48        \n",
      "=================================================================\n",
      "Total params: 1,583,908\n",
      "Trainable params: 7,008\n",
      "Non-trainable params: 1,576,900\n",
      "_________________________________________________________________\n"
     ]
    }
   ],
   "source": [
    "lstm_mod2 = Sequential()\n",
    "lstm_mod2.add(embedding_layer)\n",
    "lstm_mod2.add(LSTM(15, \n",
    "               dropout = 0.2, \n",
    "               recurrent_dropout = 0.8))\n",
    "lstm_mod2.add(Dense(3, activation='softmax'))\n",
    "lstm_mod2.compile(optimizer='adam', loss='categorical_crossentropy', metrics=['acc'])\n",
    "lstm_mod2.summary()"
   ]
  },
  {
   "cell_type": "code",
   "execution_count": 434,
   "metadata": {},
   "outputs": [],
   "source": [
    "start2 = time.time()"
   ]
  },
  {
   "cell_type": "code",
   "execution_count": 435,
   "metadata": {},
   "outputs": [
    {
     "name": "stdout",
     "output_type": "stream",
     "text": [
      "Epoch 1/100\n",
      "37/37 [==============================] - 5s 70ms/step - loss: 1.0692 - acc: 0.4255 - val_loss: 0.9079 - val_acc: 0.6176\n",
      "Epoch 2/100\n",
      "37/37 [==============================] - 2s 46ms/step - loss: 0.8988 - acc: 0.6176 - val_loss: 0.8695 - val_acc: 0.6176\n",
      "Epoch 3/100\n",
      "37/37 [==============================] - 2s 46ms/step - loss: 0.8528 - acc: 0.6236 - val_loss: 0.8532 - val_acc: 0.6176\n",
      "Epoch 4/100\n",
      "37/37 [==============================] - 2s 46ms/step - loss: 0.8483 - acc: 0.6232 - val_loss: 0.8437 - val_acc: 0.6176\n",
      "Epoch 5/100\n",
      "37/37 [==============================] - 2s 45ms/step - loss: 0.8270 - acc: 0.6360 - val_loss: 0.8204 - val_acc: 0.6462\n",
      "Epoch 6/100\n",
      "37/37 [==============================] - 2s 45ms/step - loss: 0.8269 - acc: 0.6409 - val_loss: 0.8110 - val_acc: 0.6594\n",
      "Epoch 7/100\n",
      "37/37 [==============================] - 2s 45ms/step - loss: 0.7728 - acc: 0.6675 - val_loss: 0.7470 - val_acc: 0.7017\n",
      "Epoch 8/100\n",
      "37/37 [==============================] - 2s 46ms/step - loss: 0.7592 - acc: 0.6677 - val_loss: 0.7247 - val_acc: 0.7140\n",
      "Epoch 9/100\n",
      "37/37 [==============================] - 2s 46ms/step - loss: 0.7446 - acc: 0.6900 - val_loss: 0.7122 - val_acc: 0.7226\n",
      "Epoch 10/100\n",
      "37/37 [==============================] - 2s 45ms/step - loss: 0.7208 - acc: 0.6983 - val_loss: 0.6840 - val_acc: 0.7315\n",
      "Epoch 11/100\n",
      "37/37 [==============================] - 2s 45ms/step - loss: 0.7018 - acc: 0.7130 - val_loss: 0.6839 - val_acc: 0.7422\n",
      "Epoch 12/100\n",
      "37/37 [==============================] - 2s 45ms/step - loss: 0.6953 - acc: 0.7226 - val_loss: 0.6461 - val_acc: 0.7482\n",
      "Epoch 13/100\n",
      "37/37 [==============================] - 2s 46ms/step - loss: 0.6823 - acc: 0.7269 - val_loss: 0.6434 - val_acc: 0.7516\n",
      "Epoch 14/100\n",
      "37/37 [==============================] - 2s 49ms/step - loss: 0.6586 - acc: 0.7370 - val_loss: 0.6285 - val_acc: 0.7567\n",
      "Epoch 15/100\n",
      "37/37 [==============================] - 2s 50ms/step - loss: 0.6604 - acc: 0.7323 - val_loss: 0.6423 - val_acc: 0.7525\n",
      "Epoch 16/100\n",
      "37/37 [==============================] - 2s 47ms/step - loss: 0.6373 - acc: 0.7410 - val_loss: 0.6101 - val_acc: 0.7653\n",
      "Epoch 17/100\n",
      "37/37 [==============================] - 2s 51ms/step - loss: 0.6366 - acc: 0.7448 - val_loss: 0.6165 - val_acc: 0.7661\n",
      "Epoch 18/100\n",
      "37/37 [==============================] - 2s 52ms/step - loss: 0.6328 - acc: 0.7489 - val_loss: 0.6234 - val_acc: 0.7614\n",
      "Epoch 19/100\n",
      "37/37 [==============================] - 2s 51ms/step - loss: 0.6299 - acc: 0.7487 - val_loss: 0.6000 - val_acc: 0.7670\n",
      "Epoch 20/100\n",
      "37/37 [==============================] - 2s 50ms/step - loss: 0.6203 - acc: 0.7462 - val_loss: 0.5881 - val_acc: 0.7751\n",
      "Epoch 21/100\n",
      "37/37 [==============================] - 2s 53ms/step - loss: 0.6040 - acc: 0.7634 - val_loss: 0.5864 - val_acc: 0.7759\n",
      "Epoch 22/100\n",
      "37/37 [==============================] - 2s 52ms/step - loss: 0.5991 - acc: 0.7642 - val_loss: 0.5870 - val_acc: 0.7734\n",
      "Epoch 23/100\n",
      "37/37 [==============================] - 2s 53ms/step - loss: 0.6050 - acc: 0.7588 - val_loss: 0.5810 - val_acc: 0.7802\n",
      "Epoch 24/100\n",
      "37/37 [==============================] - 2s 54ms/step - loss: 0.5950 - acc: 0.7678 - val_loss: 0.5878 - val_acc: 0.7746\n",
      "Epoch 25/100\n",
      "37/37 [==============================] - 2s 56ms/step - loss: 0.5965 - acc: 0.7596 - val_loss: 0.5780 - val_acc: 0.7776\n",
      "Epoch 26/100\n",
      "37/37 [==============================] - 2s 57ms/step - loss: 0.6004 - acc: 0.7628 - val_loss: 0.5687 - val_acc: 0.7828\n",
      "Epoch 27/100\n",
      "37/37 [==============================] - 2s 56ms/step - loss: 0.5883 - acc: 0.7667 - val_loss: 0.5745 - val_acc: 0.7819\n",
      "Epoch 28/100\n",
      "37/37 [==============================] - 2s 58ms/step - loss: 0.5886 - acc: 0.7663 - val_loss: 0.5714 - val_acc: 0.7819\n",
      "Epoch 29/100\n",
      "37/37 [==============================] - 2s 59ms/step - loss: 0.5824 - acc: 0.7699 - val_loss: 0.5673 - val_acc: 0.7828\n",
      "Epoch 30/100\n",
      "37/37 [==============================] - 2s 58ms/step - loss: 0.5719 - acc: 0.7723 - val_loss: 0.5628 - val_acc: 0.7845\n",
      "Epoch 31/100\n",
      "37/37 [==============================] - 2s 58ms/step - loss: 0.5759 - acc: 0.7733 - val_loss: 0.5634 - val_acc: 0.7828\n",
      "Epoch 32/100\n",
      "37/37 [==============================] - 2s 62ms/step - loss: 0.5669 - acc: 0.7760 - val_loss: 0.5685 - val_acc: 0.7832\n",
      "Epoch 33/100\n",
      "37/37 [==============================] - 2s 61ms/step - loss: 0.5677 - acc: 0.7790 - val_loss: 0.5528 - val_acc: 0.7853\n",
      "Epoch 34/100\n",
      "37/37 [==============================] - 2s 61ms/step - loss: 0.5737 - acc: 0.7751 - val_loss: 0.5552 - val_acc: 0.7866\n",
      "Epoch 35/100\n",
      "37/37 [==============================] - 2s 62ms/step - loss: 0.5663 - acc: 0.7786 - val_loss: 0.5571 - val_acc: 0.7892\n",
      "Epoch 36/100\n",
      "37/37 [==============================] - 2s 62ms/step - loss: 0.5592 - acc: 0.7803 - val_loss: 0.5505 - val_acc: 0.7849\n",
      "Epoch 37/100\n",
      "37/37 [==============================] - 2s 60ms/step - loss: 0.5487 - acc: 0.7803 - val_loss: 0.5616 - val_acc: 0.7828\n",
      "Epoch 38/100\n",
      "37/37 [==============================] - 2s 59ms/step - loss: 0.5632 - acc: 0.7812 - val_loss: 0.5506 - val_acc: 0.7896\n",
      "Epoch 39/100\n",
      "37/37 [==============================] - 2s 54ms/step - loss: 0.5498 - acc: 0.7913 - val_loss: 0.5493 - val_acc: 0.7900\n",
      "Epoch 40/100\n",
      "37/37 [==============================] - 2s 56ms/step - loss: 0.5553 - acc: 0.7770 - val_loss: 0.5517 - val_acc: 0.7913\n",
      "Epoch 41/100\n",
      "37/37 [==============================] - 2s 57ms/step - loss: 0.5498 - acc: 0.7794 - val_loss: 0.5478 - val_acc: 0.7900\n",
      "Epoch 42/100\n",
      "37/37 [==============================] - 2s 59ms/step - loss: 0.5558 - acc: 0.7787 - val_loss: 0.5405 - val_acc: 0.7909\n",
      "Epoch 43/100\n",
      "37/37 [==============================] - 2s 58ms/step - loss: 0.5417 - acc: 0.7832 - val_loss: 0.5461 - val_acc: 0.7917\n",
      "Epoch 44/100\n",
      "37/37 [==============================] - 2s 57ms/step - loss: 0.5375 - acc: 0.7915 - val_loss: 0.5415 - val_acc: 0.7909\n",
      "Epoch 45/100\n",
      "37/37 [==============================] - 2s 57ms/step - loss: 0.5286 - acc: 0.7903 - val_loss: 0.5375 - val_acc: 0.7926\n",
      "Epoch 46/100\n",
      "37/37 [==============================] - 2s 60ms/step - loss: 0.5331 - acc: 0.7887 - val_loss: 0.5386 - val_acc: 0.7943\n",
      "Epoch 47/100\n",
      "37/37 [==============================] - 2s 57ms/step - loss: 0.5343 - acc: 0.7872 - val_loss: 0.5396 - val_acc: 0.7909\n",
      "Epoch 48/100\n",
      "37/37 [==============================] - 2s 58ms/step - loss: 0.5352 - acc: 0.7852 - val_loss: 0.5398 - val_acc: 0.7883\n",
      "Epoch 49/100\n",
      "37/37 [==============================] - 2s 59ms/step - loss: 0.5347 - acc: 0.7898 - val_loss: 0.5290 - val_acc: 0.7900\n",
      "Epoch 50/100\n",
      "37/37 [==============================] - 2s 60ms/step - loss: 0.5294 - acc: 0.7933 - val_loss: 0.5297 - val_acc: 0.7900\n",
      "Epoch 51/100\n",
      "37/37 [==============================] - 2s 58ms/step - loss: 0.5255 - acc: 0.7883 - val_loss: 0.5295 - val_acc: 0.7917\n",
      "Epoch 52/100\n",
      "37/37 [==============================] - 2s 60ms/step - loss: 0.5164 - acc: 0.7975 - val_loss: 0.5377 - val_acc: 0.7934\n",
      "Epoch 53/100\n",
      "37/37 [==============================] - 2s 59ms/step - loss: 0.5263 - acc: 0.7920 - val_loss: 0.5272 - val_acc: 0.7934\n",
      "Epoch 54/100\n",
      "37/37 [==============================] - 2s 59ms/step - loss: 0.5242 - acc: 0.7942 - val_loss: 0.5302 - val_acc: 0.7900\n",
      "Epoch 55/100\n",
      "37/37 [==============================] - 2s 58ms/step - loss: 0.5293 - acc: 0.7899 - val_loss: 0.5269 - val_acc: 0.7892\n",
      "Epoch 56/100\n",
      "37/37 [==============================] - 2s 58ms/step - loss: 0.5190 - acc: 0.7898 - val_loss: 0.5255 - val_acc: 0.7917\n",
      "Epoch 57/100\n",
      "37/37 [==============================] - 2s 61ms/step - loss: 0.5185 - acc: 0.7947 - val_loss: 0.5267 - val_acc: 0.7939\n",
      "Epoch 58/100\n",
      "37/37 [==============================] - 2s 61ms/step - loss: 0.5154 - acc: 0.7972 - val_loss: 0.5352 - val_acc: 0.7943\n",
      "Epoch 59/100\n",
      "37/37 [==============================] - 2s 59ms/step - loss: 0.5135 - acc: 0.7915 - val_loss: 0.5387 - val_acc: 0.7973\n",
      "Epoch 60/100\n",
      "37/37 [==============================] - 2s 59ms/step - loss: 0.5080 - acc: 0.7982 - val_loss: 0.5229 - val_acc: 0.7956\n",
      "Epoch 61/100\n",
      "37/37 [==============================] - 2s 59ms/step - loss: 0.5076 - acc: 0.8015 - val_loss: 0.5324 - val_acc: 0.7960\n",
      "Epoch 62/100\n",
      "37/37 [==============================] - 2s 59ms/step - loss: 0.5177 - acc: 0.7941 - val_loss: 0.5256 - val_acc: 0.7977\n",
      "Epoch 63/100\n",
      "37/37 [==============================] - 2s 62ms/step - loss: 0.5116 - acc: 0.7908 - val_loss: 0.5263 - val_acc: 0.7990\n",
      "Epoch 64/100\n",
      "37/37 [==============================] - 2s 58ms/step - loss: 0.5097 - acc: 0.7969 - val_loss: 0.5271 - val_acc: 0.7973\n",
      "Epoch 65/100\n",
      "37/37 [==============================] - 2s 57ms/step - loss: 0.4998 - acc: 0.8028 - val_loss: 0.5211 - val_acc: 0.7994\n",
      "Epoch 66/100\n",
      "37/37 [==============================] - 2s 58ms/step - loss: 0.5093 - acc: 0.7978 - val_loss: 0.5343 - val_acc: 0.7951\n",
      "Epoch 67/100\n",
      "37/37 [==============================] - 2s 58ms/step - loss: 0.4909 - acc: 0.8073 - val_loss: 0.5282 - val_acc: 0.7968\n",
      "Epoch 68/100\n",
      "37/37 [==============================] - 2s 60ms/step - loss: 0.4975 - acc: 0.8077 - val_loss: 0.5402 - val_acc: 0.7917\n",
      "Epoch 69/100\n",
      "37/37 [==============================] - 2s 60ms/step - loss: 0.5052 - acc: 0.7983 - val_loss: 0.5243 - val_acc: 0.8011\n",
      "Epoch 70/100\n",
      "37/37 [==============================] - 2s 57ms/step - loss: 0.4971 - acc: 0.8077 - val_loss: 0.5298 - val_acc: 0.7998\n",
      "Epoch 71/100\n",
      "37/37 [==============================] - 2s 57ms/step - loss: 0.5073 - acc: 0.7982 - val_loss: 0.5231 - val_acc: 0.7990\n",
      "Epoch 72/100\n",
      "37/37 [==============================] - 2s 59ms/step - loss: 0.4953 - acc: 0.8042 - val_loss: 0.5178 - val_acc: 0.8015\n",
      "Epoch 73/100\n",
      "37/37 [==============================] - 2s 59ms/step - loss: 0.5015 - acc: 0.7988 - val_loss: 0.5254 - val_acc: 0.7998\n",
      "Epoch 74/100\n",
      "37/37 [==============================] - 2s 59ms/step - loss: 0.4787 - acc: 0.8135 - val_loss: 0.5240 - val_acc: 0.7964\n",
      "Epoch 75/100\n",
      "37/37 [==============================] - 2s 61ms/step - loss: 0.4951 - acc: 0.8052 - val_loss: 0.5132 - val_acc: 0.8003\n",
      "Epoch 76/100\n",
      "37/37 [==============================] - 2s 58ms/step - loss: 0.4747 - acc: 0.8108 - val_loss: 0.5156 - val_acc: 0.8015\n",
      "Epoch 77/100\n",
      "37/37 [==============================] - 2s 58ms/step - loss: 0.4911 - acc: 0.8078 - val_loss: 0.5225 - val_acc: 0.7990\n",
      "Epoch 78/100\n",
      "37/37 [==============================] - 2s 55ms/step - loss: 0.4885 - acc: 0.8089 - val_loss: 0.5212 - val_acc: 0.8015\n",
      "Epoch 79/100\n",
      "37/37 [==============================] - 2s 57ms/step - loss: 0.4999 - acc: 0.7978 - val_loss: 0.5253 - val_acc: 0.7968\n",
      "Epoch 80/100\n",
      "37/37 [==============================] - 2s 58ms/step - loss: 0.4787 - acc: 0.8117 - val_loss: 0.5165 - val_acc: 0.8011\n",
      "Epoch 81/100\n",
      "37/37 [==============================] - 2s 59ms/step - loss: 0.4850 - acc: 0.8084 - val_loss: 0.5201 - val_acc: 0.8007\n",
      "Epoch 82/100\n",
      "37/37 [==============================] - 2s 61ms/step - loss: 0.4871 - acc: 0.8058 - val_loss: 0.5155 - val_acc: 0.8015\n",
      "Epoch 83/100\n",
      "37/37 [==============================] - 2s 59ms/step - loss: 0.4884 - acc: 0.8050 - val_loss: 0.5188 - val_acc: 0.8003\n",
      "Epoch 84/100\n",
      "37/37 [==============================] - 2s 59ms/step - loss: 0.4707 - acc: 0.8179 - val_loss: 0.5148 - val_acc: 0.7998\n",
      "Epoch 85/100\n",
      "37/37 [==============================] - 2s 59ms/step - loss: 0.4630 - acc: 0.8243 - val_loss: 0.5263 - val_acc: 0.8020\n",
      "Epoch 86/100\n",
      "37/37 [==============================] - 2s 58ms/step - loss: 0.4716 - acc: 0.8118 - val_loss: 0.5169 - val_acc: 0.7968\n",
      "Epoch 87/100\n",
      "37/37 [==============================] - 2s 58ms/step - loss: 0.4742 - acc: 0.8140 - val_loss: 0.5172 - val_acc: 0.7994\n",
      "Epoch 88/100\n",
      "37/37 [==============================] - 2s 59ms/step - loss: 0.4728 - acc: 0.8136 - val_loss: 0.5238 - val_acc: 0.7990\n",
      "Epoch 89/100\n",
      "37/37 [==============================] - 2s 60ms/step - loss: 0.4795 - acc: 0.8109 - val_loss: 0.5162 - val_acc: 0.8041\n",
      "Epoch 90/100\n",
      "37/37 [==============================] - 2s 59ms/step - loss: 0.4767 - acc: 0.8133 - val_loss: 0.5277 - val_acc: 0.8011\n",
      "Epoch 91/100\n",
      "37/37 [==============================] - 2s 59ms/step - loss: 0.4749 - acc: 0.8109 - val_loss: 0.5158 - val_acc: 0.8003\n",
      "Epoch 92/100\n",
      "37/37 [==============================] - 2s 58ms/step - loss: 0.4715 - acc: 0.8146 - val_loss: 0.5194 - val_acc: 0.8020\n",
      "Epoch 93/100\n",
      "37/37 [==============================] - 2s 60ms/step - loss: 0.4729 - acc: 0.8158 - val_loss: 0.5205 - val_acc: 0.8028\n",
      "Epoch 94/100\n",
      "37/37 [==============================] - 2s 59ms/step - loss: 0.4633 - acc: 0.8160 - val_loss: 0.5129 - val_acc: 0.8058\n",
      "Epoch 95/100\n",
      "37/37 [==============================] - 2s 61ms/step - loss: 0.4797 - acc: 0.8080 - val_loss: 0.5220 - val_acc: 0.7990\n",
      "Epoch 96/100\n",
      "37/37 [==============================] - 2s 59ms/step - loss: 0.4771 - acc: 0.8119 - val_loss: 0.5188 - val_acc: 0.8032\n",
      "Epoch 97/100\n",
      "37/37 [==============================] - 2s 58ms/step - loss: 0.4564 - acc: 0.8187 - val_loss: 0.5211 - val_acc: 0.8037\n",
      "Epoch 98/100\n",
      "37/37 [==============================] - 2s 60ms/step - loss: 0.4758 - acc: 0.8093 - val_loss: 0.5150 - val_acc: 0.8020\n",
      "Epoch 99/100\n",
      "37/37 [==============================] - 2s 64ms/step - loss: 0.4668 - acc: 0.8133 - val_loss: 0.5280 - val_acc: 0.8032\n",
      "Epoch 100/100\n",
      "37/37 [==============================] - 2s 60ms/step - loss: 0.4631 - acc: 0.8214 - val_loss: 0.5137 - val_acc: 0.8045\n"
     ]
    }
   ],
   "source": [
    "hist_2 = lstm_mod2.fit(X_train, y_train,\n",
    "                    validation_split = 0.2,\n",
    "                    epochs=100, batch_size=256)"
   ]
  },
  {
   "cell_type": "code",
   "execution_count": 436,
   "metadata": {},
   "outputs": [],
   "source": [
    "SecondtModelTimeOfExecution = time.time()-start2"
   ]
  },
  {
   "cell_type": "code",
   "execution_count": 437,
   "metadata": {},
   "outputs": [
    {
     "name": "stdout",
     "output_type": "stream",
     "text": [
      "Time of execution =  0:3:32\n"
     ]
    }
   ],
   "source": [
    "print(\"Time of execution = \", convert(SecondtModelTimeOfExecution)) "
   ]
  },
  {
   "cell_type": "code",
   "execution_count": 438,
   "metadata": {},
   "outputs": [
    {
     "name": "stdout",
     "output_type": "stream",
     "text": [
      "Training Accuracy: 0.8388\n",
      "Testing Accuracy:  0.7958\n"
     ]
    }
   ],
   "source": [
    "# Find train and test accuracy\n",
    "loss, accuracy = lstm_mod2.evaluate(X_train, y_train, verbose=False)\n",
    "print(\"Training Accuracy: {:.4f}\".format(accuracy))\n",
    "loss, accuracy = lstm_mod2.evaluate(X_test, y_test, verbose=False)\n",
    "print(\"Testing Accuracy:  {:.4f}\".format(accuracy))"
   ]
  },
  {
   "cell_type": "code",
   "execution_count": 439,
   "metadata": {},
   "outputs": [
    {
     "data": {
      "image/png": "[encoded data removed]",
      "text/plain": [
       "<Figure size 432x288 with 1 Axes>"
      ]
     },
     "metadata": {
      "needs_background": "light"
     },
     "output_type": "display_data"
    },
    {
     "data": {
      "image/png": "[encoded data removed]",
      "text/plain": [
       "<Figure size 432x288 with 1 Axes>"
      ]
     },
     "metadata": {
      "needs_background": "light"
     },
     "output_type": "display_data"
    }
   ],
   "source": [
    "# Plot train/test loss and accuracy\n",
    "acc = hist_2.history['acc']\n",
    "val_acc = hist_2.history['val_acc']\n",
    "loss = hist_2.history['loss']\n",
    "val_loss = hist_2.history['val_loss']\n",
    "\n",
    "epochs = range(len(acc))\n",
    "\n",
    "plt.plot(epochs, acc, 'g', label='Training acc')\n",
    "plt.plot(epochs, val_acc, 'b', label='Validation acc')\n",
    "plt.title('Training and validation accuracy')\n",
    "plt.legend()\n",
    "\n",
    "plt.figure()\n",
    "\n",
    "plt.plot(epochs, loss, 'g', label='Training loss')\n",
    "plt.plot(epochs, val_loss, 'b', label='Validation loss')\n",
    "plt.title('Training and validation loss')\n",
    "plt.legend()\n",
    "\n",
    "plt.show()"
   ]
  },
  {
   "cell_type": "code",
   "execution_count": 440,
   "metadata": {},
   "outputs": [],
   "source": [
    "# Get predicted values\n",
    "y_pred = lstm_mod2.predict(X_test)  # outputs probabilities of each sentiment\n",
    "# Create empty numpy array to match length of training observations\n",
    "y_pred_array = np.zeros(X_test.shape[0])\n",
    "\n",
    "# Find class with highest probability\n",
    "for i in range(0, y_pred.shape[0]):\n",
    "    label_predict = np.argmax(y_pred[i]) # column with max probability\n",
    "    y_pred_array[i] = label_predict\n",
    "\n",
    "# convert to integers\n",
    "y_pred_array = y_pred_array.astype(int)"
   ]
  },
  {
   "cell_type": "code",
   "execution_count": 441,
   "metadata": {},
   "outputs": [
    {
     "name": "stdout",
     "output_type": "stream",
     "text": [
      "Confusion matrix, without normalization\n",
      "[[1671  143   56]\n",
      " [ 216  343   55]\n",
      " [  74   54  316]]\n",
      "Normalized confusion matrix\n",
      "[[0.89 0.08 0.03]\n",
      " [0.35 0.56 0.09]\n",
      " [0.17 0.12 0.71]]\n"
     ]
    },
    {
     "data": {
      "image/png": "[encoded data removed]",
      "text/plain": [
       "<Figure size 432x288 with 2 Axes>"
      ]
     },
     "metadata": {
      "needs_background": "light"
     },
     "output_type": "display_data"
    },
    {
     "data": {
      "image/png": "[encoded data removed]",
      "text/plain": [
       "<Figure size 432x288 with 2 Axes>"
      ]
     },
     "metadata": {
      "needs_background": "light"
     },
     "output_type": "display_data"
    }
   ],
   "source": [
    "np.set_printoptions(precision=2)\n",
    "\n",
    "# Plot non-normalized confusion matrix\n",
    "plot_confusion_matrix(y_test_array, y_pred_array, classes=class_names,\n",
    "                      title='Confusion matrix, without normalization')\n",
    "\n",
    "# Plot normalized confusion matrix\n",
    "plot_confusion_matrix(y_test_array, y_pred_array, classes=class_names, normalize=True,\n",
    "                      title='Normalized confusion matrix')\n",
    "\n",
    "plt.show()"
   ]
  },
  {
   "cell_type": "markdown",
   "metadata": {},
   "source": [
    "### Obervation for model 2:"
   ]
  },
  {
   "cell_type": "markdown",
   "metadata": {},
   "source": [
    "This model is very similar to model 1. However, in order to observe how the model performs in comparison with the last one, we decrease the LSTM and increase the recurrent_dropout. \n",
    "It was observed that decreasing the LSTM helps with overfitting. However, keeping the LSTM to a certain high (not below 13 in that case) was important to maintain an accuracy of higher than 79% while reducing overfitting (the model seems to start overfitting arounf the 50th epoch), which can be considered as an improvement in comparison with the last model 1.\n",
    "\n",
    "Regarding the performance on prediction, we can see that the model does its best job at classifying negative tweets, as did model 1 and, with normalization, the model also performs well at classifying positive tweets. In that matter, model 1 and model 2 provide rather similar results."
   ]
  },
  {
   "cell_type": "markdown",
   "metadata": {},
   "source": [
    "# Model 3: LSTM Layer Stacking\n"
   ]
  },
  {
   "cell_type": "markdown",
   "metadata": {},
   "source": [
    "Increasing the complexity, this third model adds a second LSTM layer. The first layer has 50 units, the second 30. The dropout in increases to 0.5 as the recurrent_dropout is increased to 0.9."
   ]
  },
  {
   "cell_type": "code",
   "execution_count": 499,
   "metadata": {},
   "outputs": [],
   "source": [
    "# LSTM Model\n",
    "model_3 = Sequential()\n",
    "model_3.add(embedding_layer)\n",
    "model_3.add(LSTM(50, \n",
    "               dropout = 0.5, \n",
    "               recurrent_dropout = 0.9,\n",
    "                 return_sequences = True))\n",
    "model_3.add(LSTM(30,\n",
    "                dropout = 0.5,\n",
    "                recurrent_dropout = 0.9))\n",
    "model_3.add(Dense(3, activation='softmax'))\n",
    "model_3.compile(optimizer='adam', loss='categorical_crossentropy', metrics=['acc'])"
   ]
  },
  {
   "cell_type": "code",
   "execution_count": 500,
   "metadata": {},
   "outputs": [
    {
     "name": "stdout",
     "output_type": "stream",
     "text": [
      "Model: \"sequential_52\"\n",
      "_________________________________________________________________\n",
      "Layer (type)                 Output Shape              Param #   \n",
      "=================================================================\n",
      "embedding (Embedding)        (None, 30, 100)           1576900   \n",
      "_________________________________________________________________\n",
      "lstm_61 (LSTM)               (None, 30, 50)            30200     \n",
      "_________________________________________________________________\n",
      "lstm_62 (LSTM)               (None, 30)                9720      \n",
      "_________________________________________________________________\n",
      "dense_52 (Dense)             (None, 3)                 93        \n",
      "=================================================================\n",
      "Total params: 1,616,913\n",
      "Trainable params: 40,013\n",
      "Non-trainable params: 1,576,900\n",
      "_________________________________________________________________\n"
     ]
    }
   ],
   "source": [
    "model_3.summary()\n"
   ]
  },
  {
   "cell_type": "markdown",
   "metadata": {},
   "source": [
    "We observe that by using layer stacking, we were able to increase the number of trainable parameters."
   ]
  },
  {
   "cell_type": "code",
   "execution_count": 501,
   "metadata": {},
   "outputs": [],
   "source": [
    "start3 = time.time()"
   ]
  },
  {
   "cell_type": "code",
   "execution_count": 502,
   "metadata": {},
   "outputs": [
    {
     "name": "stdout",
     "output_type": "stream",
     "text": [
      "Epoch 1/100\n",
      "37/37 [==============================] - 11s 148ms/step - loss: 0.9428 - acc: 0.5809 - val_loss: 0.8532 - val_acc: 0.6329\n",
      "Epoch 2/100\n",
      "37/37 [==============================] - 4s 113ms/step - loss: 0.8360 - acc: 0.6445 - val_loss: 0.8447 - val_acc: 0.6522\n",
      "Epoch 3/100\n",
      "37/37 [==============================] - 4s 115ms/step - loss: 0.8137 - acc: 0.6599 - val_loss: 0.7668 - val_acc: 0.6936\n",
      "Epoch 4/100\n",
      "37/37 [==============================] - 5s 125ms/step - loss: 0.7836 - acc: 0.6751 - val_loss: 0.7667 - val_acc: 0.7034\n",
      "Epoch 5/100\n",
      "37/37 [==============================] - 5s 130ms/step - loss: 0.7592 - acc: 0.6915 - val_loss: 0.7514 - val_acc: 0.7273\n",
      "Epoch 6/100\n",
      "37/37 [==============================] - 5s 138ms/step - loss: 0.7468 - acc: 0.6961 - val_loss: 0.6963 - val_acc: 0.7307\n",
      "Epoch 7/100\n",
      "37/37 [==============================] - 5s 131ms/step - loss: 0.7257 - acc: 0.7010 - val_loss: 0.6640 - val_acc: 0.7465\n",
      "Epoch 8/100\n",
      "37/37 [==============================] - 6s 151ms/step - loss: 0.6870 - acc: 0.7175 - val_loss: 0.6483 - val_acc: 0.7529\n",
      "Epoch 9/100\n",
      "37/37 [==============================] - 6s 173ms/step - loss: 0.6936 - acc: 0.7190 - val_loss: 0.6609 - val_acc: 0.7520\n",
      "Epoch 10/100\n",
      "37/37 [==============================] - 5s 147ms/step - loss: 0.6702 - acc: 0.7314 - val_loss: 0.6333 - val_acc: 0.7537\n",
      "Epoch 11/100\n",
      "37/37 [==============================] - 5s 145ms/step - loss: 0.6553 - acc: 0.7371 - val_loss: 0.6200 - val_acc: 0.7648\n",
      "Epoch 12/100\n",
      "37/37 [==============================] - 6s 160ms/step - loss: 0.6540 - acc: 0.7331 - val_loss: 0.6126 - val_acc: 0.7657\n",
      "Epoch 13/100\n",
      "37/37 [==============================] - 5s 143ms/step - loss: 0.6457 - acc: 0.7378 - val_loss: 0.6042 - val_acc: 0.7670\n",
      "Epoch 14/100\n",
      "37/37 [==============================] - 6s 169ms/step - loss: 0.6624 - acc: 0.7268 - val_loss: 0.5982 - val_acc: 0.7708\n",
      "Epoch 15/100\n",
      "37/37 [==============================] - 7s 190ms/step - loss: 0.6324 - acc: 0.7368 - val_loss: 0.5921 - val_acc: 0.7721\n",
      "Epoch 16/100\n",
      "37/37 [==============================] - 6s 174ms/step - loss: 0.6332 - acc: 0.7414 - val_loss: 0.6129 - val_acc: 0.7653\n",
      "Epoch 17/100\n",
      "37/37 [==============================] - 6s 153ms/step - loss: 0.6271 - acc: 0.7444 - val_loss: 0.6156 - val_acc: 0.7687\n",
      "Epoch 18/100\n",
      "37/37 [==============================] - 6s 150ms/step - loss: 0.6214 - acc: 0.7458 - val_loss: 0.5881 - val_acc: 0.7734\n",
      "Epoch 19/100\n",
      "37/37 [==============================] - 5s 143ms/step - loss: 0.6062 - acc: 0.7571 - val_loss: 0.5819 - val_acc: 0.7742\n",
      "Epoch 20/100\n",
      "37/37 [==============================] - 6s 149ms/step - loss: 0.6150 - acc: 0.7514 - val_loss: 0.5842 - val_acc: 0.7717\n",
      "Epoch 21/100\n",
      "37/37 [==============================] - 5s 147ms/step - loss: 0.6106 - acc: 0.7497 - val_loss: 0.5935 - val_acc: 0.7670\n",
      "Epoch 22/100\n",
      "37/37 [==============================] - 6s 153ms/step - loss: 0.6037 - acc: 0.7530 - val_loss: 0.5871 - val_acc: 0.7729\n",
      "Epoch 23/100\n",
      "37/37 [==============================] - 6s 151ms/step - loss: 0.5868 - acc: 0.7617 - val_loss: 0.5662 - val_acc: 0.7759\n",
      "Epoch 24/100\n",
      "37/37 [==============================] - 6s 153ms/step - loss: 0.5938 - acc: 0.7575 - val_loss: 0.5801 - val_acc: 0.7742\n",
      "Epoch 25/100\n",
      "37/37 [==============================] - 6s 152ms/step - loss: 0.5865 - acc: 0.7660 - val_loss: 0.5496 - val_acc: 0.7853\n",
      "Epoch 26/100\n",
      "37/37 [==============================] - 6s 161ms/step - loss: 0.5830 - acc: 0.7617 - val_loss: 0.5805 - val_acc: 0.7742\n",
      "Epoch 27/100\n",
      "37/37 [==============================] - 6s 156ms/step - loss: 0.5814 - acc: 0.7697 - val_loss: 0.5503 - val_acc: 0.7793\n",
      "Epoch 28/100\n",
      "37/37 [==============================] - 6s 151ms/step - loss: 0.5785 - acc: 0.7681 - val_loss: 0.5496 - val_acc: 0.7828\n",
      "Epoch 29/100\n",
      "37/37 [==============================] - 6s 154ms/step - loss: 0.5703 - acc: 0.7644 - val_loss: 0.5536 - val_acc: 0.7793\n",
      "Epoch 30/100\n",
      "37/37 [==============================] - 8s 212ms/step - loss: 0.5735 - acc: 0.7703 - val_loss: 0.5684 - val_acc: 0.7755\n",
      "Epoch 31/100\n",
      "37/37 [==============================] - 7s 192ms/step - loss: 0.5639 - acc: 0.7739 - val_loss: 0.5422 - val_acc: 0.7857\n",
      "Epoch 32/100\n",
      "37/37 [==============================] - 6s 171ms/step - loss: 0.5766 - acc: 0.7734 - val_loss: 0.5965 - val_acc: 0.7708\n",
      "Epoch 33/100\n",
      "37/37 [==============================] - 5s 148ms/step - loss: 0.5741 - acc: 0.7693 - val_loss: 0.5599 - val_acc: 0.7849\n",
      "Epoch 34/100\n",
      "37/37 [==============================] - 5s 139ms/step - loss: 0.5553 - acc: 0.7782 - val_loss: 0.5396 - val_acc: 0.7806\n",
      "Epoch 35/100\n",
      "37/37 [==============================] - 5s 144ms/step - loss: 0.5537 - acc: 0.7743 - val_loss: 0.5398 - val_acc: 0.7883\n",
      "Epoch 36/100\n",
      "37/37 [==============================] - 5s 140ms/step - loss: 0.5517 - acc: 0.7807 - val_loss: 0.5342 - val_acc: 0.7883\n",
      "Epoch 37/100\n",
      "37/37 [==============================] - 5s 143ms/step - loss: 0.5438 - acc: 0.7826 - val_loss: 0.5330 - val_acc: 0.7939\n",
      "Epoch 38/100\n",
      "37/37 [==============================] - 5s 143ms/step - loss: 0.5734 - acc: 0.7623 - val_loss: 0.5373 - val_acc: 0.7926\n",
      "Epoch 39/100\n",
      "37/37 [==============================] - 6s 149ms/step - loss: 0.5423 - acc: 0.7838 - val_loss: 0.5334 - val_acc: 0.7913\n",
      "Epoch 40/100\n",
      "37/37 [==============================] - 6s 149ms/step - loss: 0.5501 - acc: 0.7808 - val_loss: 0.5381 - val_acc: 0.7904\n",
      "Epoch 41/100\n",
      "37/37 [==============================] - 5s 144ms/step - loss: 0.5503 - acc: 0.7743 - val_loss: 0.5454 - val_acc: 0.7887\n",
      "Epoch 42/100\n",
      "37/37 [==============================] - 5s 139ms/step - loss: 0.5428 - acc: 0.7813 - val_loss: 0.5241 - val_acc: 0.7921\n",
      "Epoch 43/100\n",
      "37/37 [==============================] - 5s 142ms/step - loss: 0.5450 - acc: 0.7778 - val_loss: 0.5303 - val_acc: 0.7943\n",
      "Epoch 44/100\n",
      "37/37 [==============================] - 5s 140ms/step - loss: 0.5180 - acc: 0.7849 - val_loss: 0.5213 - val_acc: 0.7934\n",
      "Epoch 45/100\n",
      "37/37 [==============================] - 5s 143ms/step - loss: 0.5321 - acc: 0.7845 - val_loss: 0.5221 - val_acc: 0.7968\n",
      "Epoch 46/100\n",
      "37/37 [==============================] - 5s 141ms/step - loss: 0.5343 - acc: 0.7817 - val_loss: 0.5513 - val_acc: 0.7883\n",
      "Epoch 47/100\n",
      "37/37 [==============================] - 5s 140ms/step - loss: 0.5458 - acc: 0.7801 - val_loss: 0.5270 - val_acc: 0.7964\n",
      "Epoch 48/100\n",
      "37/37 [==============================] - 5s 139ms/step - loss: 0.5430 - acc: 0.7786 - val_loss: 0.5272 - val_acc: 0.7964\n",
      "Epoch 49/100\n",
      "37/37 [==============================] - 5s 144ms/step - loss: 0.5321 - acc: 0.7863 - val_loss: 0.5195 - val_acc: 0.7960\n",
      "Epoch 50/100\n",
      "37/37 [==============================] - 5s 138ms/step - loss: 0.5281 - acc: 0.7872 - val_loss: 0.5290 - val_acc: 0.7964\n",
      "Epoch 51/100\n",
      "37/37 [==============================] - 5s 141ms/step - loss: 0.5292 - acc: 0.7826 - val_loss: 0.5148 - val_acc: 0.7985\n",
      "Epoch 52/100\n",
      "37/37 [==============================] - 5s 141ms/step - loss: 0.5070 - acc: 0.7996 - val_loss: 0.5286 - val_acc: 0.7977\n",
      "Epoch 53/100\n",
      "37/37 [==============================] - 5s 139ms/step - loss: 0.5295 - acc: 0.7826 - val_loss: 0.5105 - val_acc: 0.8007\n",
      "Epoch 54/100\n",
      "37/37 [==============================] - 5s 139ms/step - loss: 0.5189 - acc: 0.7970 - val_loss: 0.5271 - val_acc: 0.7960\n",
      "Epoch 55/100\n",
      "37/37 [==============================] - 5s 141ms/step - loss: 0.5110 - acc: 0.7997 - val_loss: 0.5358 - val_acc: 0.7943\n",
      "Epoch 56/100\n",
      "37/37 [==============================] - 5s 141ms/step - loss: 0.5090 - acc: 0.7987 - val_loss: 0.5156 - val_acc: 0.7998\n",
      "Epoch 57/100\n",
      "37/37 [==============================] - 6s 151ms/step - loss: 0.5013 - acc: 0.8043 - val_loss: 0.5115 - val_acc: 0.7998\n",
      "Epoch 58/100\n",
      "37/37 [==============================] - 7s 180ms/step - loss: 0.5309 - acc: 0.7888 - val_loss: 0.5293 - val_acc: 0.7939\n",
      "Epoch 59/100\n",
      "37/37 [==============================] - 6s 172ms/step - loss: 0.5169 - acc: 0.7921 - val_loss: 0.5319 - val_acc: 0.7870\n",
      "Epoch 60/100\n",
      "37/37 [==============================] - 6s 160ms/step - loss: 0.5186 - acc: 0.7883 - val_loss: 0.5179 - val_acc: 0.7960\n",
      "Epoch 61/100\n",
      "37/37 [==============================] - 6s 156ms/step - loss: 0.4984 - acc: 0.8034 - val_loss: 0.5247 - val_acc: 0.8007\n",
      "Epoch 62/100\n",
      "37/37 [==============================] - 5s 148ms/step - loss: 0.5016 - acc: 0.8012 - val_loss: 0.5095 - val_acc: 0.7998\n",
      "Epoch 63/100\n",
      "37/37 [==============================] - 6s 161ms/step - loss: 0.5058 - acc: 0.7987 - val_loss: 0.5200 - val_acc: 0.7998\n",
      "Epoch 64/100\n",
      "37/37 [==============================] - 7s 204ms/step - loss: 0.5035 - acc: 0.7971 - val_loss: 0.5251 - val_acc: 0.7998\n",
      "Epoch 65/100\n",
      "37/37 [==============================] - 7s 197ms/step - loss: 0.5092 - acc: 0.7946 - val_loss: 0.5230 - val_acc: 0.7960\n",
      "Epoch 66/100\n",
      "37/37 [==============================] - 7s 200ms/step - loss: 0.5026 - acc: 0.7978 - val_loss: 0.5231 - val_acc: 0.7960\n",
      "Epoch 67/100\n",
      "37/37 [==============================] - 7s 177ms/step - loss: 0.4914 - acc: 0.8062 - val_loss: 0.5135 - val_acc: 0.8007\n",
      "Epoch 68/100\n",
      "37/37 [==============================] - 6s 174ms/step - loss: 0.5039 - acc: 0.7906 - val_loss: 0.5266 - val_acc: 0.7994\n",
      "Epoch 69/100\n",
      "37/37 [==============================] - 6s 159ms/step - loss: 0.5099 - acc: 0.7922 - val_loss: 0.5113 - val_acc: 0.8011\n",
      "Epoch 70/100\n",
      "37/37 [==============================] - 6s 169ms/step - loss: 0.4960 - acc: 0.7979 - val_loss: 0.5157 - val_acc: 0.8032\n",
      "Epoch 71/100\n",
      "37/37 [==============================] - 6s 155ms/step - loss: 0.5120 - acc: 0.7905 - val_loss: 0.5147 - val_acc: 0.8007\n",
      "Epoch 72/100\n",
      "37/37 [==============================] - 6s 159ms/step - loss: 0.4946 - acc: 0.8018 - val_loss: 0.5054 - val_acc: 0.7998\n",
      "Epoch 73/100\n",
      "37/37 [==============================] - 5s 145ms/step - loss: 0.5010 - acc: 0.8003 - val_loss: 0.5028 - val_acc: 0.8109\n",
      "Epoch 74/100\n",
      "37/37 [==============================] - 6s 149ms/step - loss: 0.4897 - acc: 0.8041 - val_loss: 0.5030 - val_acc: 0.7985\n",
      "Epoch 75/100\n",
      "37/37 [==============================] - 6s 149ms/step - loss: 0.4823 - acc: 0.8025 - val_loss: 0.5146 - val_acc: 0.8041\n",
      "Epoch 76/100\n",
      "37/37 [==============================] - 6s 166ms/step - loss: 0.4799 - acc: 0.8054 - val_loss: 0.5080 - val_acc: 0.8037\n",
      "Epoch 77/100\n",
      "37/37 [==============================] - 6s 152ms/step - loss: 0.4944 - acc: 0.8007 - val_loss: 0.5161 - val_acc: 0.8003\n",
      "Epoch 78/100\n",
      "37/37 [==============================] - 7s 184ms/step - loss: 0.4824 - acc: 0.8048 - val_loss: 0.5065 - val_acc: 0.8092\n",
      "Epoch 79/100\n",
      "37/37 [==============================] - 5s 146ms/step - loss: 0.4969 - acc: 0.7982 - val_loss: 0.5125 - val_acc: 0.8015\n",
      "Epoch 80/100\n",
      "37/37 [==============================] - 5s 141ms/step - loss: 0.4930 - acc: 0.7997 - val_loss: 0.5222 - val_acc: 0.8045\n",
      "Epoch 81/100\n",
      "37/37 [==============================] - 5s 147ms/step - loss: 0.4791 - acc: 0.8019 - val_loss: 0.5246 - val_acc: 0.8024\n",
      "Epoch 82/100\n",
      "37/37 [==============================] - 6s 152ms/step - loss: 0.4893 - acc: 0.8036 - val_loss: 0.5054 - val_acc: 0.8088\n",
      "Epoch 83/100\n",
      "37/37 [==============================] - 6s 166ms/step - loss: 0.4766 - acc: 0.8139 - val_loss: 0.5053 - val_acc: 0.8092\n",
      "Epoch 84/100\n",
      "37/37 [==============================] - 7s 189ms/step - loss: 0.4823 - acc: 0.8102 - val_loss: 0.5012 - val_acc: 0.8101\n",
      "Epoch 85/100\n",
      "37/37 [==============================] - 7s 179ms/step - loss: 0.4747 - acc: 0.8117 - val_loss: 0.5073 - val_acc: 0.8071\n",
      "Epoch 86/100\n",
      "37/37 [==============================] - 6s 152ms/step - loss: 0.4780 - acc: 0.8104 - val_loss: 0.5156 - val_acc: 0.8088\n",
      "Epoch 87/100\n",
      "37/37 [==============================] - 6s 151ms/step - loss: 0.4791 - acc: 0.8055 - val_loss: 0.5035 - val_acc: 0.8114\n",
      "Epoch 88/100\n",
      "37/37 [==============================] - 6s 156ms/step - loss: 0.4763 - acc: 0.8121 - val_loss: 0.5007 - val_acc: 0.8101\n",
      "Epoch 89/100\n",
      "37/37 [==============================] - 6s 150ms/step - loss: 0.4692 - acc: 0.8121 - val_loss: 0.5162 - val_acc: 0.8032\n",
      "Epoch 90/100\n",
      "37/37 [==============================] - 6s 156ms/step - loss: 0.4691 - acc: 0.8134 - val_loss: 0.5048 - val_acc: 0.8071\n",
      "Epoch 91/100\n",
      "37/37 [==============================] - 6s 155ms/step - loss: 0.4746 - acc: 0.8071 - val_loss: 0.5016 - val_acc: 0.8101\n",
      "Epoch 92/100\n",
      "37/37 [==============================] - 6s 156ms/step - loss: 0.4701 - acc: 0.8094 - val_loss: 0.5004 - val_acc: 0.8079\n",
      "Epoch 93/100\n",
      "37/37 [==============================] - 6s 157ms/step - loss: 0.4728 - acc: 0.8094 - val_loss: 0.5007 - val_acc: 0.8101\n",
      "Epoch 94/100\n",
      "37/37 [==============================] - 6s 155ms/step - loss: 0.4723 - acc: 0.8119 - val_loss: 0.5031 - val_acc: 0.8067\n",
      "Epoch 95/100\n",
      "37/37 [==============================] - 6s 163ms/step - loss: 0.4690 - acc: 0.8103 - val_loss: 0.5015 - val_acc: 0.8143\n",
      "Epoch 96/100\n",
      "37/37 [==============================] - 6s 156ms/step - loss: 0.4659 - acc: 0.8156 - val_loss: 0.5009 - val_acc: 0.8084\n",
      "Epoch 97/100\n",
      "37/37 [==============================] - 6s 156ms/step - loss: 0.4597 - acc: 0.8138 - val_loss: 0.5066 - val_acc: 0.8096\n",
      "Epoch 98/100\n",
      "37/37 [==============================] - 6s 155ms/step - loss: 0.4768 - acc: 0.8117 - val_loss: 0.4962 - val_acc: 0.8126\n",
      "Epoch 99/100\n",
      "37/37 [==============================] - 6s 153ms/step - loss: 0.4545 - acc: 0.8158 - val_loss: 0.5142 - val_acc: 0.8054\n",
      "Epoch 100/100\n",
      "37/37 [==============================] - 6s 157ms/step - loss: 0.4749 - acc: 0.8048 - val_loss: 0.5101 - val_acc: 0.8135\n"
     ]
    }
   ],
   "source": [
    "history_3 = model_3.fit(X_train, y_train,\n",
    "                    validation_split = 0.2,\n",
    "                    epochs=100, batch_size=256)"
   ]
  },
  {
   "cell_type": "code",
   "execution_count": 503,
   "metadata": {},
   "outputs": [],
   "source": [
    "ThirdtModelTimeOfExecution = time.time()-start3"
   ]
  },
  {
   "cell_type": "code",
   "execution_count": 504,
   "metadata": {},
   "outputs": [
    {
     "name": "stdout",
     "output_type": "stream",
     "text": [
      "Time of execution =  0:9:36\n"
     ]
    }
   ],
   "source": [
    "print(\"Time of execution = \", convert(ThirdtModelTimeOfExecution)) "
   ]
  },
  {
   "cell_type": "code",
   "execution_count": 505,
   "metadata": {},
   "outputs": [
    {
     "name": "stdout",
     "output_type": "stream",
     "text": [
      "Training Accuracy: 0.8438\n",
      "Testing Accuracy:  0.8067\n"
     ]
    }
   ],
   "source": [
    "# Find train and test accuracy\n",
    "loss, accuracy = model_3.evaluate(X_train, y_train, verbose=False)\n",
    "print(\"Training Accuracy: {:.4f}\".format(accuracy))\n",
    "loss, accuracy = model_3.evaluate(X_test, y_test, verbose=False)\n",
    "print(\"Testing Accuracy:  {:.4f}\".format(accuracy))"
   ]
  },
  {
   "cell_type": "code",
   "execution_count": 506,
   "metadata": {},
   "outputs": [
    {
     "data": {
      "image/png": "[encoded data removed]",
      "text/plain": [
       "<Figure size 432x288 with 1 Axes>"
      ]
     },
     "metadata": {
      "needs_background": "light"
     },
     "output_type": "display_data"
    },
    {
     "data": {
      "image/png": "[encoded data removed]",
      "text/plain": [
       "<Figure size 432x288 with 1 Axes>"
      ]
     },
     "metadata": {
      "needs_background": "light"
     },
     "output_type": "display_data"
    }
   ],
   "source": [
    "# Plot train/test loss and accuracy\n",
    "acc = history_3.history['acc']\n",
    "val_acc = history_3.history['val_acc']\n",
    "loss = history_3.history['loss']\n",
    "val_loss = history_3.history['val_loss']\n",
    "\n",
    "epochs = range(len(acc))\n",
    "\n",
    "plt.plot(epochs, acc, 'g', label='Training acc')\n",
    "plt.plot(epochs, val_acc, 'b', label='Validation acc')\n",
    "plt.title('Training and validation accuracy')\n",
    "plt.legend()\n",
    "\n",
    "plt.figure()\n",
    "\n",
    "plt.plot(epochs, loss, 'g', label='Training loss')\n",
    "plt.plot(epochs, val_loss, 'b', label='Validation loss')\n",
    "plt.title('Training and validation loss')\n",
    "plt.legend()\n",
    "\n",
    "plt.show()"
   ]
  },
  {
   "cell_type": "code",
   "execution_count": 507,
   "metadata": {},
   "outputs": [],
   "source": [
    "# Get predicted values\n",
    "y_pred = model_3.predict(X_test)  # outputs probabilities of each sentiment\n",
    "# Create empty numpy array to match length of training observations\n",
    "y_pred_array = np.zeros(X_test.shape[0])\n",
    "\n",
    "# Find class with highest probability\n",
    "for i in range(0, y_pred.shape[0]):\n",
    "    label_predict = np.argmax(y_pred[i]) # column with max probability\n",
    "    y_pred_array[i] = label_predict\n",
    "\n",
    "# convert to integers\n",
    "y_pred_array = y_pred_array.astype(int)"
   ]
  },
  {
   "cell_type": "code",
   "execution_count": 508,
   "metadata": {},
   "outputs": [
    {
     "name": "stdout",
     "output_type": "stream",
     "text": [
      "Confusion matrix, without normalization\n",
      "[[1698  122   50]\n",
      " [ 221  333   60]\n",
      " [  73   40  331]]\n",
      "Normalized confusion matrix\n",
      "[[0.91 0.07 0.03]\n",
      " [0.36 0.54 0.1 ]\n",
      " [0.16 0.09 0.75]]\n"
     ]
    },
    {
     "data": {
      "image/png": "[encoded data removed]",
      "text/plain": [
       "<Figure size 432x288 with 2 Axes>"
      ]
     },
     "metadata": {
      "needs_background": "light"
     },
     "output_type": "display_data"
    },
    {
     "data": {
      "image/png": "[encoded data removed]",
      "text/plain": [
       "<Figure size 432x288 with 2 Axes>"
      ]
     },
     "metadata": {
      "needs_background": "light"
     },
     "output_type": "display_data"
    }
   ],
   "source": [
    "np.set_printoptions(precision=2)\n",
    "\n",
    "# Plot non-normalized confusion matrix\n",
    "plot_confusion_matrix(y_test_array, y_pred_array, classes=class_names,\n",
    "                      title='Confusion matrix, without normalization')\n",
    "\n",
    "# Plot normalized confusion matrix\n",
    "plot_confusion_matrix(y_test_array, y_pred_array, classes=class_names, normalize=True,\n",
    "                      title='Normalized confusion matrix')\n",
    "\n",
    "plt.show()"
   ]
  },
  {
   "cell_type": "markdown",
   "metadata": {},
   "source": [
    "### Obervation for model 3:"
   ]
  },
  {
   "cell_type": "markdown",
   "metadata": {},
   "source": [
    "This third model has experiemented with different LSTM, dropout and recurrent_dropout before being presented with the ones above, acheving a better accuracy of 80%. \n",
    "Stacking the layers helps with adding more units in the LSTM, increasing the number of trainable parameters while improving slightly the accuracy and decreasing overfitting. However, the model doesn't achieve a performance higher than 80% and the classification performance shown in the confusion matrix is very similar to the first and second model."
   ]
  },
  {
   "cell_type": "markdown",
   "metadata": {},
   "source": [
    "# Model 4: GRU Layer Stacking¶"
   ]
  },
  {
   "cell_type": "markdown",
   "metadata": {},
   "source": [
    "For this fourth model, we are going to experiment with the gated recurrent unit (GRU). GRU is similar to LSTM but work in a simpler way. \n",
    "This experiment will allow us to compare its performance with the models before."
   ]
  },
  {
   "cell_type": "code",
   "execution_count": 106,
   "metadata": {},
   "outputs": [],
   "source": [
    "# GRU Model 2: reduce number of epochs\n",
    "model_4 = Sequential()\n",
    "model_4.add(embedding_layer)\n",
    "model_4.add(GRU(50, \n",
    "               dropout = 0.5, \n",
    "               recurrent_dropout = 0.9,\n",
    "                 return_sequences = True))\n",
    "model_4.add(GRU(30,\n",
    "                dropout = 0.5,\n",
    "                recurrent_dropout = 0.9))\n",
    "model_4.add(Dense(3, activation='softmax'))\n",
    "model_4.compile(optimizer='adam', loss='categorical_crossentropy', metrics=['acc'])"
   ]
  },
  {
   "cell_type": "code",
   "execution_count": 107,
   "metadata": {},
   "outputs": [
    {
     "name": "stdout",
     "output_type": "stream",
     "text": [
      "Model: \"sequential_10\"\n",
      "_________________________________________________________________\n",
      "Layer (type)                 Output Shape              Param #   \n",
      "=================================================================\n",
      "embedding (Embedding)        (None, 30, 100)           1576900   \n",
      "_________________________________________________________________\n",
      "gru_20 (GRU)                 (None, 30, 50)            22800     \n",
      "_________________________________________________________________\n",
      "gru_21 (GRU)                 (None, 30)                7380      \n",
      "_________________________________________________________________\n",
      "dense_10 (Dense)             (None, 3)                 93        \n",
      "=================================================================\n",
      "Total params: 1,607,173\n",
      "Trainable params: 30,273\n",
      "Non-trainable params: 1,576,900\n",
      "_________________________________________________________________\n"
     ]
    }
   ],
   "source": [
    "model_4.summary()\n"
   ]
  },
  {
   "cell_type": "code",
   "execution_count": 108,
   "metadata": {},
   "outputs": [],
   "source": [
    "start4 = time.time()"
   ]
  },
  {
   "cell_type": "code",
   "execution_count": 109,
   "metadata": {},
   "outputs": [
    {
     "name": "stdout",
     "output_type": "stream",
     "text": [
      "Epoch 1/100\n",
      "37/37 [==============================] - 9s 121ms/step - loss: 1.0035 - acc: 0.5527 - val_loss: 0.9029 - val_acc: 0.6176\n",
      "Epoch 2/100\n",
      "37/37 [==============================] - 3s 94ms/step - loss: 0.8699 - acc: 0.6318 - val_loss: 0.8980 - val_acc: 0.6176\n",
      "Epoch 3/100\n",
      "37/37 [==============================] - 4s 104ms/step - loss: 0.8598 - acc: 0.6316 - val_loss: 0.9075 - val_acc: 0.6176\n",
      "Epoch 4/100\n",
      "37/37 [==============================] - 3s 93ms/step - loss: 0.8584 - acc: 0.6249 - val_loss: 0.8937 - val_acc: 0.6283\n",
      "Epoch 5/100\n",
      "37/37 [==============================] - 4s 95ms/step - loss: 0.8408 - acc: 0.6401 - val_loss: 0.8788 - val_acc: 0.6449\n",
      "Epoch 6/100\n",
      "37/37 [==============================] - 3s 93ms/step - loss: 0.8433 - acc: 0.6445 - val_loss: 0.8442 - val_acc: 0.6564\n",
      "Epoch 7/100\n",
      "37/37 [==============================] - 4s 95ms/step - loss: 0.8237 - acc: 0.6487 - val_loss: 0.8213 - val_acc: 0.6573\n",
      "Epoch 8/100\n",
      "37/37 [==============================] - 4s 96ms/step - loss: 0.8004 - acc: 0.6568 - val_loss: 0.7574 - val_acc: 0.6833\n",
      "Epoch 9/100\n",
      "37/37 [==============================] - 4s 101ms/step - loss: 0.7920 - acc: 0.6618 - val_loss: 0.7373 - val_acc: 0.6850\n",
      "Epoch 10/100\n",
      "37/37 [==============================] - 4s 100ms/step - loss: 0.7689 - acc: 0.6651 - val_loss: 0.7078 - val_acc: 0.6991\n",
      "Epoch 11/100\n",
      "37/37 [==============================] - 4s 102ms/step - loss: 0.7665 - acc: 0.6777 - val_loss: 0.6924 - val_acc: 0.7064\n",
      "Epoch 12/100\n",
      "37/37 [==============================] - 4s 103ms/step - loss: 0.7370 - acc: 0.6938 - val_loss: 0.6929 - val_acc: 0.7038\n",
      "Epoch 13/100\n",
      "37/37 [==============================] - 4s 102ms/step - loss: 0.7364 - acc: 0.6893 - val_loss: 0.6873 - val_acc: 0.7098\n",
      "Epoch 14/100\n",
      "37/37 [==============================] - 4s 104ms/step - loss: 0.7166 - acc: 0.7017 - val_loss: 0.6719 - val_acc: 0.7157\n",
      "Epoch 15/100\n",
      "37/37 [==============================] - 4s 105ms/step - loss: 0.7225 - acc: 0.6994 - val_loss: 0.6557 - val_acc: 0.7239\n",
      "Epoch 16/100\n",
      "37/37 [==============================] - 4s 105ms/step - loss: 0.7269 - acc: 0.6961 - val_loss: 0.6733 - val_acc: 0.7175\n",
      "Epoch 17/100\n",
      "37/37 [==============================] - 4s 103ms/step - loss: 0.6976 - acc: 0.7089 - val_loss: 0.6432 - val_acc: 0.7397\n",
      "Epoch 18/100\n",
      "37/37 [==============================] - 4s 105ms/step - loss: 0.7014 - acc: 0.7130 - val_loss: 0.6437 - val_acc: 0.7332\n",
      "Epoch 19/100\n",
      "37/37 [==============================] - 4s 108ms/step - loss: 0.6866 - acc: 0.7194 - val_loss: 0.6354 - val_acc: 0.7375\n",
      "Epoch 20/100\n",
      "37/37 [==============================] - 4s 108ms/step - loss: 0.6732 - acc: 0.7259 - val_loss: 0.6144 - val_acc: 0.7525\n",
      "Epoch 21/100\n",
      "37/37 [==============================] - 4s 110ms/step - loss: 0.6749 - acc: 0.7226 - val_loss: 0.6137 - val_acc: 0.7546\n",
      "Epoch 22/100\n",
      "37/37 [==============================] - 4s 114ms/step - loss: 0.6475 - acc: 0.7370 - val_loss: 0.5934 - val_acc: 0.7674\n",
      "Epoch 23/100\n",
      "37/37 [==============================] - 4s 110ms/step - loss: 0.6528 - acc: 0.7361 - val_loss: 0.5930 - val_acc: 0.7614\n",
      "Epoch 24/100\n",
      "37/37 [==============================] - 4s 113ms/step - loss: 0.6474 - acc: 0.7357 - val_loss: 0.5802 - val_acc: 0.7691\n",
      "Epoch 25/100\n",
      "37/37 [==============================] - 4s 113ms/step - loss: 0.6057 - acc: 0.7567 - val_loss: 0.5745 - val_acc: 0.7717\n",
      "Epoch 26/100\n",
      "37/37 [==============================] - 4s 115ms/step - loss: 0.6195 - acc: 0.7425 - val_loss: 0.5767 - val_acc: 0.7682\n",
      "Epoch 27/100\n",
      "37/37 [==============================] - 4s 113ms/step - loss: 0.6178 - acc: 0.7529 - val_loss: 0.5602 - val_acc: 0.7819\n",
      "Epoch 28/100\n",
      "37/37 [==============================] - 4s 114ms/step - loss: 0.6141 - acc: 0.7515 - val_loss: 0.5667 - val_acc: 0.7764\n",
      "Epoch 29/100\n",
      "37/37 [==============================] - 4s 117ms/step - loss: 0.5986 - acc: 0.7531 - val_loss: 0.5621 - val_acc: 0.7776\n",
      "Epoch 30/100\n",
      "37/37 [==============================] - 4s 116ms/step - loss: 0.6131 - acc: 0.7536 - val_loss: 0.5471 - val_acc: 0.7845\n",
      "Epoch 31/100\n",
      "37/37 [==============================] - 4s 117ms/step - loss: 0.5822 - acc: 0.7608 - val_loss: 0.5477 - val_acc: 0.7836\n",
      "Epoch 32/100\n",
      "37/37 [==============================] - 4s 117ms/step - loss: 0.5818 - acc: 0.7664 - val_loss: 0.5442 - val_acc: 0.7853\n",
      "Epoch 33/100\n",
      "37/37 [==============================] - 5s 122ms/step - loss: 0.5716 - acc: 0.7674 - val_loss: 0.5373 - val_acc: 0.7879\n",
      "Epoch 34/100\n",
      "37/37 [==============================] - 4s 118ms/step - loss: 0.5974 - acc: 0.7510 - val_loss: 0.5449 - val_acc: 0.7810\n",
      "Epoch 35/100\n",
      "37/37 [==============================] - 4s 119ms/step - loss: 0.5777 - acc: 0.7622 - val_loss: 0.5337 - val_acc: 0.7892\n",
      "Epoch 36/100\n",
      "37/37 [==============================] - 4s 119ms/step - loss: 0.5609 - acc: 0.7678 - val_loss: 0.5280 - val_acc: 0.7921\n",
      "Epoch 37/100\n",
      "37/37 [==============================] - 4s 121ms/step - loss: 0.5524 - acc: 0.7751 - val_loss: 0.5332 - val_acc: 0.7875\n",
      "Epoch 38/100\n",
      "37/37 [==============================] - 4s 115ms/step - loss: 0.5680 - acc: 0.7708 - val_loss: 0.5260 - val_acc: 0.7921\n",
      "Epoch 39/100\n",
      "37/37 [==============================] - 4s 116ms/step - loss: 0.5642 - acc: 0.7693 - val_loss: 0.5297 - val_acc: 0.7930\n",
      "Epoch 40/100\n",
      "37/37 [==============================] - 4s 116ms/step - loss: 0.5723 - acc: 0.7661 - val_loss: 0.5318 - val_acc: 0.7909\n",
      "Epoch 41/100\n",
      "37/37 [==============================] - 4s 118ms/step - loss: 0.5631 - acc: 0.7738 - val_loss: 0.5385 - val_acc: 0.7909\n",
      "Epoch 42/100\n",
      "37/37 [==============================] - 4s 117ms/step - loss: 0.5532 - acc: 0.7710 - val_loss: 0.5240 - val_acc: 0.7939\n",
      "Epoch 43/100\n",
      "37/37 [==============================] - 4s 115ms/step - loss: 0.5560 - acc: 0.7704 - val_loss: 0.5184 - val_acc: 0.7930\n",
      "Epoch 44/100\n",
      "37/37 [==============================] - 4s 119ms/step - loss: 0.5378 - acc: 0.7779 - val_loss: 0.5253 - val_acc: 0.7909\n",
      "Epoch 45/100\n",
      "37/37 [==============================] - 4s 116ms/step - loss: 0.5466 - acc: 0.7790 - val_loss: 0.5178 - val_acc: 0.7930\n",
      "Epoch 46/100\n",
      "37/37 [==============================] - 4s 118ms/step - loss: 0.5407 - acc: 0.7854 - val_loss: 0.5167 - val_acc: 0.7964\n",
      "Epoch 47/100\n",
      "37/37 [==============================] - 4s 118ms/step - loss: 0.5374 - acc: 0.7760 - val_loss: 0.5230 - val_acc: 0.7943\n",
      "Epoch 48/100\n",
      "37/37 [==============================] - 4s 117ms/step - loss: 0.5431 - acc: 0.7768 - val_loss: 0.5242 - val_acc: 0.7900\n",
      "Epoch 49/100\n",
      "37/37 [==============================] - 4s 117ms/step - loss: 0.5262 - acc: 0.7859 - val_loss: 0.5148 - val_acc: 0.7968\n",
      "Epoch 50/100\n",
      "37/37 [==============================] - 4s 118ms/step - loss: 0.5461 - acc: 0.7801 - val_loss: 0.5129 - val_acc: 0.7930\n",
      "Epoch 51/100\n",
      "37/37 [==============================] - 4s 110ms/step - loss: 0.5308 - acc: 0.7899 - val_loss: 0.5142 - val_acc: 0.7943\n",
      "Epoch 52/100\n",
      "37/37 [==============================] - 4s 113ms/step - loss: 0.5459 - acc: 0.7725 - val_loss: 0.5174 - val_acc: 0.7951\n",
      "Epoch 53/100\n",
      "37/37 [==============================] - 4s 113ms/step - loss: 0.5395 - acc: 0.7797 - val_loss: 0.5108 - val_acc: 0.7934\n",
      "Epoch 54/100\n",
      "37/37 [==============================] - 4s 114ms/step - loss: 0.5393 - acc: 0.7844 - val_loss: 0.5095 - val_acc: 0.7964\n",
      "Epoch 55/100\n",
      "37/37 [==============================] - 4s 111ms/step - loss: 0.5292 - acc: 0.7822 - val_loss: 0.5116 - val_acc: 0.8020\n",
      "Epoch 56/100\n",
      "37/37 [==============================] - 4s 111ms/step - loss: 0.5424 - acc: 0.7814 - val_loss: 0.5056 - val_acc: 0.8011\n",
      "Epoch 57/100\n",
      "37/37 [==============================] - 4s 116ms/step - loss: 0.5287 - acc: 0.7871 - val_loss: 0.5080 - val_acc: 0.8020\n",
      "Epoch 58/100\n",
      "37/37 [==============================] - 4s 116ms/step - loss: 0.5266 - acc: 0.7924 - val_loss: 0.5101 - val_acc: 0.7951\n",
      "Epoch 59/100\n",
      "37/37 [==============================] - 4s 117ms/step - loss: 0.5267 - acc: 0.7816 - val_loss: 0.5038 - val_acc: 0.8007\n",
      "Epoch 60/100\n",
      "37/37 [==============================] - 4s 117ms/step - loss: 0.5196 - acc: 0.7910 - val_loss: 0.5152 - val_acc: 0.7960\n",
      "Epoch 61/100\n",
      "37/37 [==============================] - 4s 113ms/step - loss: 0.5347 - acc: 0.7876 - val_loss: 0.5011 - val_acc: 0.8041\n",
      "Epoch 62/100\n",
      "37/37 [==============================] - 4s 113ms/step - loss: 0.5253 - acc: 0.7938 - val_loss: 0.5120 - val_acc: 0.7964\n",
      "Epoch 63/100\n",
      "37/37 [==============================] - 5s 126ms/step - loss: 0.5236 - acc: 0.7909 - val_loss: 0.5073 - val_acc: 0.8028\n",
      "Epoch 64/100\n",
      "37/37 [==============================] - 5s 126ms/step - loss: 0.5249 - acc: 0.7907 - val_loss: 0.5044 - val_acc: 0.8007\n",
      "Epoch 65/100\n",
      "37/37 [==============================] - 4s 111ms/step - loss: 0.5174 - acc: 0.7914 - val_loss: 0.5026 - val_acc: 0.7998\n",
      "Epoch 66/100\n",
      "37/37 [==============================] - 4s 115ms/step - loss: 0.5062 - acc: 0.7919 - val_loss: 0.5028 - val_acc: 0.8024\n",
      "Epoch 67/100\n",
      "37/37 [==============================] - 4s 113ms/step - loss: 0.5017 - acc: 0.8031 - val_loss: 0.4998 - val_acc: 0.8028\n",
      "Epoch 68/100\n",
      "37/37 [==============================] - 5s 122ms/step - loss: 0.5236 - acc: 0.7896 - val_loss: 0.4981 - val_acc: 0.8015\n",
      "Epoch 69/100\n",
      "37/37 [==============================] - 4s 121ms/step - loss: 0.5078 - acc: 0.7965 - val_loss: 0.5033 - val_acc: 0.7985\n",
      "Epoch 70/100\n",
      "37/37 [==============================] - 4s 116ms/step - loss: 0.5020 - acc: 0.7957 - val_loss: 0.5060 - val_acc: 0.8041\n",
      "Epoch 71/100\n",
      "37/37 [==============================] - 5s 123ms/step - loss: 0.5353 - acc: 0.7815 - val_loss: 0.5022 - val_acc: 0.8028\n",
      "Epoch 72/100\n",
      "37/37 [==============================] - 4s 116ms/step - loss: 0.5005 - acc: 0.7980 - val_loss: 0.5052 - val_acc: 0.8020\n",
      "Epoch 73/100\n",
      "37/37 [==============================] - 4s 116ms/step - loss: 0.5124 - acc: 0.7948 - val_loss: 0.5017 - val_acc: 0.8003\n",
      "Epoch 74/100\n",
      "37/37 [==============================] - 5s 126ms/step - loss: 0.5237 - acc: 0.7948 - val_loss: 0.5030 - val_acc: 0.8054\n",
      "Epoch 75/100\n",
      "37/37 [==============================] - 5s 123ms/step - loss: 0.5002 - acc: 0.7975 - val_loss: 0.5010 - val_acc: 0.8015\n",
      "Epoch 76/100\n",
      "37/37 [==============================] - 4s 116ms/step - loss: 0.5046 - acc: 0.7960 - val_loss: 0.4991 - val_acc: 0.8028\n",
      "Epoch 77/100\n",
      "37/37 [==============================] - 4s 120ms/step - loss: 0.5172 - acc: 0.7921 - val_loss: 0.5034 - val_acc: 0.7985\n",
      "Epoch 78/100\n",
      "37/37 [==============================] - 4s 117ms/step - loss: 0.5047 - acc: 0.7955 - val_loss: 0.4980 - val_acc: 0.8024\n",
      "Epoch 79/100\n",
      "37/37 [==============================] - 4s 117ms/step - loss: 0.5032 - acc: 0.7955 - val_loss: 0.4995 - val_acc: 0.8020\n",
      "Epoch 80/100\n",
      "37/37 [==============================] - 4s 117ms/step - loss: 0.4968 - acc: 0.8046 - val_loss: 0.4946 - val_acc: 0.8054\n",
      "Epoch 81/100\n",
      "37/37 [==============================] - 4s 118ms/step - loss: 0.5129 - acc: 0.7903 - val_loss: 0.4977 - val_acc: 0.8024\n",
      "Epoch 82/100\n",
      "37/37 [==============================] - 4s 119ms/step - loss: 0.4978 - acc: 0.8005 - val_loss: 0.4956 - val_acc: 0.8050\n",
      "Epoch 83/100\n",
      "37/37 [==============================] - 4s 119ms/step - loss: 0.5053 - acc: 0.7951 - val_loss: 0.4934 - val_acc: 0.8062\n",
      "Epoch 84/100\n",
      "37/37 [==============================] - 4s 115ms/step - loss: 0.5044 - acc: 0.7937 - val_loss: 0.4950 - val_acc: 0.8058\n",
      "Epoch 85/100\n",
      "37/37 [==============================] - 4s 114ms/step - loss: 0.4948 - acc: 0.7971 - val_loss: 0.4913 - val_acc: 0.8084\n",
      "Epoch 86/100\n",
      "37/37 [==============================] - 5s 123ms/step - loss: 0.4856 - acc: 0.8068 - val_loss: 0.4936 - val_acc: 0.8071\n",
      "Epoch 87/100\n",
      "37/37 [==============================] - 4s 114ms/step - loss: 0.4974 - acc: 0.7963 - val_loss: 0.4935 - val_acc: 0.8088\n",
      "Epoch 88/100\n",
      "37/37 [==============================] - 4s 116ms/step - loss: 0.4945 - acc: 0.8037 - val_loss: 0.4928 - val_acc: 0.8058\n",
      "Epoch 89/100\n",
      "37/37 [==============================] - 4s 115ms/step - loss: 0.4838 - acc: 0.8051 - val_loss: 0.4922 - val_acc: 0.8058\n",
      "Epoch 90/100\n",
      "37/37 [==============================] - 4s 118ms/step - loss: 0.4950 - acc: 0.7971 - val_loss: 0.4945 - val_acc: 0.8079\n",
      "Epoch 91/100\n",
      "37/37 [==============================] - 5s 124ms/step - loss: 0.4835 - acc: 0.8080 - val_loss: 0.4974 - val_acc: 0.8075\n",
      "Epoch 92/100\n",
      "37/37 [==============================] - 4s 117ms/step - loss: 0.4798 - acc: 0.8075 - val_loss: 0.5005 - val_acc: 0.8067\n",
      "Epoch 93/100\n",
      "37/37 [==============================] - 5s 135ms/step - loss: 0.5031 - acc: 0.7892 - val_loss: 0.4991 - val_acc: 0.8079\n",
      "Epoch 94/100\n",
      "37/37 [==============================] - 5s 130ms/step - loss: 0.4806 - acc: 0.8066 - val_loss: 0.4991 - val_acc: 0.8075\n",
      "Epoch 95/100\n",
      "37/37 [==============================] - 5s 128ms/step - loss: 0.4940 - acc: 0.7996 - val_loss: 0.4916 - val_acc: 0.8118\n",
      "Epoch 96/100\n",
      "37/37 [==============================] - 5s 131ms/step - loss: 0.4848 - acc: 0.7974 - val_loss: 0.4890 - val_acc: 0.8079\n",
      "Epoch 97/100\n",
      "37/37 [==============================] - 5s 126ms/step - loss: 0.4941 - acc: 0.8036 - val_loss: 0.4955 - val_acc: 0.8118\n",
      "Epoch 98/100\n",
      "37/37 [==============================] - 4s 118ms/step - loss: 0.4859 - acc: 0.8021 - val_loss: 0.4973 - val_acc: 0.8071\n",
      "Epoch 99/100\n",
      "37/37 [==============================] - 4s 115ms/step - loss: 0.5036 - acc: 0.7975 - val_loss: 0.5051 - val_acc: 0.8003\n",
      "Epoch 100/100\n",
      "37/37 [==============================] - 4s 116ms/step - loss: 0.4746 - acc: 0.8063 - val_loss: 0.4896 - val_acc: 0.8058\n"
     ]
    }
   ],
   "source": [
    "history_4 = model_4.fit(X_train, y_train,\n",
    "                    validation_split = 0.2,\n",
    "                    epochs=100, batch_size=256)"
   ]
  },
  {
   "cell_type": "code",
   "execution_count": 110,
   "metadata": {},
   "outputs": [
    {
     "name": "stdout",
     "output_type": "stream",
     "text": [
      "Time of execution =  0:7:9\n"
     ]
    }
   ],
   "source": [
    "FourthModelTimeOfExecution = time.time()-start4\n",
    "print(\"Time of execution = \", convert(FourthModelTimeOfExecution)) "
   ]
  },
  {
   "cell_type": "code",
   "execution_count": 111,
   "metadata": {},
   "outputs": [
    {
     "name": "stdout",
     "output_type": "stream",
     "text": [
      "Training Accuracy: 0.8335\n",
      "Testing Accuracy:  0.7992\n"
     ]
    }
   ],
   "source": [
    "loss, accuracy = model_4.evaluate(X_train, y_train, verbose=False)\n",
    "print(\"Training Accuracy: {:.4f}\".format(accuracy))\n",
    "loss, accuracy = model_4.evaluate(X_test, y_test, verbose=False)\n",
    "print(\"Testing Accuracy:  {:.4f}\".format(accuracy))"
   ]
  },
  {
   "cell_type": "code",
   "execution_count": 112,
   "metadata": {},
   "outputs": [
    {
     "data": {
      "image/png": "[encoded data removed]",
      "text/plain": [
       "<Figure size 432x288 with 1 Axes>"
      ]
     },
     "metadata": {
      "needs_background": "light"
     },
     "output_type": "display_data"
    },
    {
     "data": {
      "image/png": "[encoded data removed]",
      "text/plain": [
       "<Figure size 432x288 with 1 Axes>"
      ]
     },
     "metadata": {
      "needs_background": "light"
     },
     "output_type": "display_data"
    }
   ],
   "source": [
    "acc = history_4.history['acc']\n",
    "val_acc = history_4.history['val_acc']\n",
    "loss = history_4.history['loss']\n",
    "val_loss = history_4.history['val_loss']\n",
    "\n",
    "epochs = range(len(acc))\n",
    "\n",
    "plt.plot(epochs, acc, 'g', label='Training acc')\n",
    "plt.plot(epochs, val_acc, 'b', label='Validation acc')\n",
    "plt.title('Training and validation accuracy')\n",
    "plt.legend()\n",
    "\n",
    "plt.figure()\n",
    "\n",
    "plt.plot(epochs, loss, 'g', label='Training loss')\n",
    "plt.plot(epochs, val_loss, 'b', label='Validation loss')\n",
    "plt.title('Training and validation loss')\n",
    "plt.legend()\n",
    "\n",
    "plt.show()"
   ]
  },
  {
   "cell_type": "code",
   "execution_count": 113,
   "metadata": {},
   "outputs": [],
   "source": [
    "# Get predicted values\n",
    "y_pred = model_4.predict(X_test)  # outputs probabilities of each sentiment\n",
    "# Create empty numpy array to match length of training observations\n",
    "y_pred_array = np.zeros(X_test.shape[0])\n",
    "\n",
    "# Find class with highest probability\n",
    "for i in range(0, y_pred.shape[0]):\n",
    "    label_predict = np.argmax(y_pred[i]) # column with max probability\n",
    "    y_pred_array[i] = label_predict\n",
    "\n",
    "# convert to integers\n",
    "y_pred_array = y_pred_array.astype(int)"
   ]
  },
  {
   "cell_type": "code",
   "execution_count": 114,
   "metadata": {},
   "outputs": [
    {
     "name": "stdout",
     "output_type": "stream",
     "text": [
      "Confusion matrix, without normalization\n",
      "[[1673  140   57]\n",
      " [ 207  352   55]\n",
      " [  76   53  315]]\n",
      "Normalized confusion matrix\n",
      "[[0.89 0.07 0.03]\n",
      " [0.34 0.57 0.09]\n",
      " [0.17 0.12 0.71]]\n"
     ]
    },
    {
     "data": {
      "image/png": "[encoded data removed]",
      "text/plain": [
       "<Figure size 432x288 with 2 Axes>"
      ]
     },
     "metadata": {
      "needs_background": "light"
     },
     "output_type": "display_data"
    },
    {
     "data": {
      "image/png": "[encoded data removed]",
      "text/plain": [
       "<Figure size 432x288 with 2 Axes>"
      ]
     },
     "metadata": {
      "needs_background": "light"
     },
     "output_type": "display_data"
    }
   ],
   "source": [
    "np.set_printoptions(precision=2)\n",
    "\n",
    "# Plot non-normalized confusion matrix\n",
    "plot_confusion_matrix(y_test_array, y_pred_array, classes=class_names,\n",
    "                      title='Confusion matrix, without normalization')\n",
    "\n",
    "# Plot normalized confusion matrix\n",
    "plot_confusion_matrix(y_test_array, y_pred_array, classes=class_names, normalize=True,\n",
    "                      title='Normalized confusion matrix')\n",
    "\n",
    "plt.show()"
   ]
  },
  {
   "cell_type": "markdown",
   "metadata": {},
   "source": [
    "### Obervation for model 4:"
   ]
  },
  {
   "cell_type": "markdown",
   "metadata": {},
   "source": [
    "On this fourth model, we used GRU with the same settings as for model 3. We notice that the number of trainable parameters is reduced in comparison to model 3 using LSTM. \n",
    "The time for training is shorter than model 3 but the accuracy is slightly lower. \n",
    "\n",
    "Regarding the performance of the model from the confusion matrix, it seems like it does a very slightly better job at classifying neutral tweets but performs slightly worse on negative and positive tweets."
   ]
  },
  {
   "cell_type": "markdown",
   "metadata": {},
   "source": [
    "## Model 5: GRU with Different Regularization and Increased Dimension"
   ]
  },
  {
   "cell_type": "markdown",
   "metadata": {},
   "source": [
    "After comparing a model using LSTM and GRU with the same setting, let's try to get a better performance using GRU by modifying the number of GRU, dropout and recurrent_dropout, increasing the complexity of the model."
   ]
  },
  {
   "cell_type": "code",
   "execution_count": 397,
   "metadata": {},
   "outputs": [],
   "source": [
    "model_5 = Sequential()\n",
    "model_5.add(embedding_layer)\n",
    "model_5.add(GRU(100, \n",
    "               dropout = 0.5, \n",
    "               recurrent_dropout = 0.8,\n",
    "                 return_sequences = True))\n",
    "model_5.add(GRU(70,\n",
    "                dropout = 0.5,\n",
    "                recurrent_dropout = 0.8))\n",
    "model_5.add(Dense(3, activation='softmax'))\n",
    "model_5.compile(optimizer='adam', loss='categorical_crossentropy', metrics=['acc'])"
   ]
  },
  {
   "cell_type": "code",
   "execution_count": 398,
   "metadata": {},
   "outputs": [
    {
     "name": "stdout",
     "output_type": "stream",
     "text": [
      "Model: \"sequential_44\"\n",
      "_________________________________________________________________\n",
      "Layer (type)                 Output Shape              Param #   \n",
      "=================================================================\n",
      "embedding (Embedding)        (None, 30, 100)           1576900   \n",
      "_________________________________________________________________\n",
      "gru_88 (GRU)                 (None, 30, 100)           60600     \n",
      "_________________________________________________________________\n",
      "gru_89 (GRU)                 (None, 70)                36120     \n",
      "_________________________________________________________________\n",
      "dense_44 (Dense)             (None, 3)                 213       \n",
      "=================================================================\n",
      "Total params: 1,673,833\n",
      "Trainable params: 96,933\n",
      "Non-trainable params: 1,576,900\n",
      "_________________________________________________________________\n"
     ]
    }
   ],
   "source": [
    "model_5.summary()"
   ]
  },
  {
   "cell_type": "code",
   "execution_count": 399,
   "metadata": {},
   "outputs": [],
   "source": [
    "start5 = time.time()"
   ]
  },
  {
   "cell_type": "code",
   "execution_count": 400,
   "metadata": {},
   "outputs": [
    {
     "name": "stdout",
     "output_type": "stream",
     "text": [
      "Epoch 1/100\n",
      "37/37 [==============================] - 17s 316ms/step - loss: 0.9487 - acc: 0.5991 - val_loss: 0.8696 - val_acc: 0.6176\n",
      "Epoch 2/100\n",
      "37/37 [==============================] - 10s 263ms/step - loss: 0.8451 - acc: 0.6351 - val_loss: 0.8433 - val_acc: 0.6462\n",
      "Epoch 3/100\n",
      "37/37 [==============================] - 11s 307ms/step - loss: 0.8154 - acc: 0.6566 - val_loss: 0.7843 - val_acc: 0.6803\n",
      "Epoch 4/100\n",
      "37/37 [==============================] - 12s 336ms/step - loss: 0.7767 - acc: 0.6733 - val_loss: 0.7156 - val_acc: 0.7064\n",
      "Epoch 5/100\n",
      "37/37 [==============================] - 11s 299ms/step - loss: 0.7540 - acc: 0.6768 - val_loss: 0.7056 - val_acc: 0.7098\n",
      "Epoch 6/100\n",
      "37/37 [==============================] - 8s 209ms/step - loss: 0.7351 - acc: 0.6943 - val_loss: 0.6822 - val_acc: 0.7222\n",
      "Epoch 7/100\n",
      "37/37 [==============================] - 7s 195ms/step - loss: 0.7262 - acc: 0.7017 - val_loss: 0.6711 - val_acc: 0.7290\n",
      "Epoch 8/100\n",
      "37/37 [==============================] - 7s 189ms/step - loss: 0.6991 - acc: 0.7200 - val_loss: 0.6433 - val_acc: 0.7448\n",
      "Epoch 9/100\n",
      "37/37 [==============================] - 7s 192ms/step - loss: 0.6779 - acc: 0.7204 - val_loss: 0.6125 - val_acc: 0.7589\n",
      "Epoch 10/100\n",
      "37/37 [==============================] - 7s 190ms/step - loss: 0.6763 - acc: 0.7243 - val_loss: 0.6058 - val_acc: 0.7618\n",
      "Epoch 11/100\n",
      "37/37 [==============================] - 7s 198ms/step - loss: 0.6466 - acc: 0.7380 - val_loss: 0.5960 - val_acc: 0.7601\n",
      "Epoch 12/100\n",
      "37/37 [==============================] - 7s 194ms/step - loss: 0.6373 - acc: 0.7374 - val_loss: 0.5690 - val_acc: 0.7678\n",
      "Epoch 13/100\n",
      "37/37 [==============================] - 7s 195ms/step - loss: 0.6216 - acc: 0.7483 - val_loss: 0.5760 - val_acc: 0.7665\n",
      "Epoch 14/100\n",
      "37/37 [==============================] - 7s 199ms/step - loss: 0.6185 - acc: 0.7529 - val_loss: 0.5619 - val_acc: 0.7764\n",
      "Epoch 15/100\n",
      "37/37 [==============================] - 7s 197ms/step - loss: 0.6166 - acc: 0.7479 - val_loss: 0.5611 - val_acc: 0.7759\n",
      "Epoch 16/100\n",
      "37/37 [==============================] - 7s 197ms/step - loss: 0.6076 - acc: 0.7525 - val_loss: 0.5630 - val_acc: 0.7806\n",
      "Epoch 17/100\n",
      "37/37 [==============================] - 7s 194ms/step - loss: 0.6022 - acc: 0.7546 - val_loss: 0.5516 - val_acc: 0.7764\n",
      "Epoch 18/100\n",
      "37/37 [==============================] - 7s 197ms/step - loss: 0.5909 - acc: 0.7621 - val_loss: 0.5403 - val_acc: 0.7840\n",
      "Epoch 19/100\n",
      "37/37 [==============================] - 7s 195ms/step - loss: 0.5862 - acc: 0.7585 - val_loss: 0.5412 - val_acc: 0.7849\n",
      "Epoch 20/100\n",
      "37/37 [==============================] - 7s 201ms/step - loss: 0.5712 - acc: 0.7708 - val_loss: 0.5351 - val_acc: 0.7840\n",
      "Epoch 21/100\n",
      "37/37 [==============================] - 7s 196ms/step - loss: 0.5693 - acc: 0.7718 - val_loss: 0.5412 - val_acc: 0.7806\n",
      "Epoch 22/100\n",
      "37/37 [==============================] - 7s 198ms/step - loss: 0.5807 - acc: 0.7600 - val_loss: 0.5453 - val_acc: 0.7810\n",
      "Epoch 23/100\n",
      "37/37 [==============================] - 8s 206ms/step - loss: 0.5827 - acc: 0.7610 - val_loss: 0.5570 - val_acc: 0.7725\n",
      "Epoch 24/100\n",
      "37/37 [==============================] - 8s 214ms/step - loss: 0.5571 - acc: 0.7718 - val_loss: 0.5251 - val_acc: 0.7900\n",
      "Epoch 25/100\n",
      "37/37 [==============================] - 8s 212ms/step - loss: 0.5644 - acc: 0.7710 - val_loss: 0.5222 - val_acc: 0.7921\n",
      "Epoch 26/100\n",
      "37/37 [==============================] - 8s 222ms/step - loss: 0.5544 - acc: 0.7805 - val_loss: 0.5189 - val_acc: 0.7930\n",
      "Epoch 27/100\n",
      "37/37 [==============================] - 8s 224ms/step - loss: 0.5581 - acc: 0.7780 - val_loss: 0.5152 - val_acc: 0.7921\n",
      "Epoch 28/100\n",
      "37/37 [==============================] - 8s 210ms/step - loss: 0.5429 - acc: 0.7803 - val_loss: 0.5167 - val_acc: 0.7956\n",
      "Epoch 29/100\n",
      "37/37 [==============================] - 7s 197ms/step - loss: 0.5286 - acc: 0.7880 - val_loss: 0.5116 - val_acc: 0.7985\n",
      "Epoch 30/100\n",
      "37/37 [==============================] - 7s 197ms/step - loss: 0.5457 - acc: 0.7813 - val_loss: 0.5111 - val_acc: 0.7998\n",
      "Epoch 31/100\n",
      "37/37 [==============================] - 7s 199ms/step - loss: 0.5249 - acc: 0.7929 - val_loss: 0.5098 - val_acc: 0.7930\n",
      "Epoch 32/100\n",
      "37/37 [==============================] - 7s 196ms/step - loss: 0.5336 - acc: 0.7835 - val_loss: 0.5084 - val_acc: 0.8020\n",
      "Epoch 33/100\n",
      "37/37 [==============================] - 7s 195ms/step - loss: 0.5280 - acc: 0.7898 - val_loss: 0.5051 - val_acc: 0.8007\n",
      "Epoch 34/100\n",
      "37/37 [==============================] - 7s 200ms/step - loss: 0.5273 - acc: 0.7857 - val_loss: 0.5069 - val_acc: 0.8032\n",
      "Epoch 35/100\n",
      "37/37 [==============================] - 8s 214ms/step - loss: 0.5191 - acc: 0.7931 - val_loss: 0.4994 - val_acc: 0.8079\n",
      "Epoch 36/100\n",
      "37/37 [==============================] - 8s 213ms/step - loss: 0.5121 - acc: 0.8015 - val_loss: 0.4988 - val_acc: 0.8041\n",
      "Epoch 37/100\n",
      "37/37 [==============================] - 8s 215ms/step - loss: 0.5181 - acc: 0.7917 - val_loss: 0.5000 - val_acc: 0.8071\n",
      "Epoch 38/100\n",
      "37/37 [==============================] - 8s 212ms/step - loss: 0.5090 - acc: 0.7954 - val_loss: 0.5106 - val_acc: 0.7985\n",
      "Epoch 39/100\n",
      "37/37 [==============================] - 8s 212ms/step - loss: 0.5325 - acc: 0.7877 - val_loss: 0.5105 - val_acc: 0.8045\n",
      "Epoch 40/100\n",
      "37/37 [==============================] - 8s 212ms/step - loss: 0.5070 - acc: 0.7966 - val_loss: 0.5059 - val_acc: 0.7973\n",
      "Epoch 41/100\n",
      "37/37 [==============================] - 8s 215ms/step - loss: 0.5174 - acc: 0.7865 - val_loss: 0.5042 - val_acc: 0.7939\n",
      "Epoch 42/100\n",
      "37/37 [==============================] - 8s 212ms/step - loss: 0.5179 - acc: 0.7904 - val_loss: 0.4931 - val_acc: 0.8079\n",
      "Epoch 43/100\n",
      "37/37 [==============================] - 9s 258ms/step - loss: 0.5085 - acc: 0.7953 - val_loss: 0.5008 - val_acc: 0.8037\n",
      "Epoch 44/100\n",
      "37/37 [==============================] - 8s 215ms/step - loss: 0.5134 - acc: 0.7917 - val_loss: 0.4927 - val_acc: 0.8135\n",
      "Epoch 45/100\n",
      "37/37 [==============================] - 8s 216ms/step - loss: 0.5011 - acc: 0.7928 - val_loss: 0.5018 - val_acc: 0.8071\n",
      "Epoch 46/100\n",
      "37/37 [==============================] - 8s 216ms/step - loss: 0.5058 - acc: 0.7996 - val_loss: 0.4970 - val_acc: 0.8079\n",
      "Epoch 47/100\n",
      "37/37 [==============================] - 8s 214ms/step - loss: 0.4934 - acc: 0.8061 - val_loss: 0.4982 - val_acc: 0.7990\n",
      "Epoch 48/100\n",
      "37/37 [==============================] - 8s 213ms/step - loss: 0.4870 - acc: 0.8030 - val_loss: 0.5032 - val_acc: 0.7951\n",
      "Epoch 49/100\n",
      "37/37 [==============================] - 8s 215ms/step - loss: 0.5060 - acc: 0.7939 - val_loss: 0.4976 - val_acc: 0.8109\n",
      "Epoch 50/100\n",
      "37/37 [==============================] - 8s 216ms/step - loss: 0.5026 - acc: 0.7987 - val_loss: 0.5025 - val_acc: 0.8092\n",
      "Epoch 51/100\n",
      "37/37 [==============================] - 8s 224ms/step - loss: 0.4813 - acc: 0.8089 - val_loss: 0.4989 - val_acc: 0.7973\n",
      "Epoch 52/100\n",
      "37/37 [==============================] - 10s 271ms/step - loss: 0.4979 - acc: 0.7940 - val_loss: 0.4899 - val_acc: 0.8084\n",
      "Epoch 53/100\n",
      "37/37 [==============================] - 8s 209ms/step - loss: 0.4715 - acc: 0.8142 - val_loss: 0.4879 - val_acc: 0.8156\n",
      "Epoch 54/100\n",
      "37/37 [==============================] - 8s 218ms/step - loss: 0.4951 - acc: 0.8037 - val_loss: 0.4953 - val_acc: 0.8109\n",
      "Epoch 55/100\n",
      "37/37 [==============================] - 7s 198ms/step - loss: 0.4964 - acc: 0.7982 - val_loss: 0.4933 - val_acc: 0.8105\n",
      "Epoch 56/100\n",
      "37/37 [==============================] - 7s 196ms/step - loss: 0.4722 - acc: 0.8120 - val_loss: 0.4867 - val_acc: 0.8135\n",
      "Epoch 57/100\n",
      "37/37 [==============================] - 7s 194ms/step - loss: 0.4828 - acc: 0.8051 - val_loss: 0.4891 - val_acc: 0.8088\n",
      "Epoch 58/100\n",
      "37/37 [==============================] - 7s 198ms/step - loss: 0.4633 - acc: 0.8185 - val_loss: 0.4936 - val_acc: 0.8071\n",
      "Epoch 59/100\n",
      "37/37 [==============================] - 7s 196ms/step - loss: 0.4794 - acc: 0.8045 - val_loss: 0.4839 - val_acc: 0.8131\n",
      "Epoch 60/100\n",
      "37/37 [==============================] - 7s 196ms/step - loss: 0.4867 - acc: 0.8017 - val_loss: 0.4915 - val_acc: 0.8139\n",
      "Epoch 61/100\n",
      "37/37 [==============================] - 7s 198ms/step - loss: 0.4768 - acc: 0.8032 - val_loss: 0.4858 - val_acc: 0.8122\n",
      "Epoch 62/100\n",
      "37/37 [==============================] - 7s 193ms/step - loss: 0.4838 - acc: 0.8105 - val_loss: 0.4858 - val_acc: 0.8131\n",
      "Epoch 63/100\n",
      "37/37 [==============================] - 7s 192ms/step - loss: 0.4807 - acc: 0.8008 - val_loss: 0.5011 - val_acc: 0.8101\n",
      "Epoch 64/100\n",
      "37/37 [==============================] - 7s 193ms/step - loss: 0.4664 - acc: 0.8089 - val_loss: 0.4951 - val_acc: 0.7998\n",
      "Epoch 65/100\n",
      "37/37 [==============================] - 7s 193ms/step - loss: 0.4820 - acc: 0.8028 - val_loss: 0.4859 - val_acc: 0.8160\n",
      "Epoch 66/100\n",
      "37/37 [==============================] - 7s 195ms/step - loss: 0.4623 - acc: 0.8144 - val_loss: 0.4884 - val_acc: 0.8084\n",
      "Epoch 67/100\n",
      "37/37 [==============================] - 7s 193ms/step - loss: 0.4827 - acc: 0.8041 - val_loss: 0.4893 - val_acc: 0.8143\n",
      "Epoch 68/100\n",
      "37/37 [==============================] - 7s 194ms/step - loss: 0.4589 - acc: 0.8189 - val_loss: 0.4900 - val_acc: 0.8088\n",
      "Epoch 69/100\n",
      "37/37 [==============================] - 7s 194ms/step - loss: 0.4717 - acc: 0.8079 - val_loss: 0.4966 - val_acc: 0.8169\n",
      "Epoch 70/100\n",
      "37/37 [==============================] - 7s 193ms/step - loss: 0.4633 - acc: 0.8167 - val_loss: 0.4948 - val_acc: 0.8148\n",
      "Epoch 71/100\n",
      "37/37 [==============================] - 7s 194ms/step - loss: 0.4654 - acc: 0.8123 - val_loss: 0.4811 - val_acc: 0.8169\n",
      "Epoch 72/100\n",
      "37/37 [==============================] - 7s 192ms/step - loss: 0.4612 - acc: 0.8166 - val_loss: 0.4965 - val_acc: 0.8075\n",
      "Epoch 73/100\n",
      "37/37 [==============================] - 7s 194ms/step - loss: 0.4566 - acc: 0.8192 - val_loss: 0.4868 - val_acc: 0.8135\n",
      "Epoch 74/100\n",
      "37/37 [==============================] - 7s 193ms/step - loss: 0.4464 - acc: 0.8201 - val_loss: 0.4842 - val_acc: 0.8135\n",
      "Epoch 75/100\n",
      "37/37 [==============================] - 7s 194ms/step - loss: 0.4600 - acc: 0.8146 - val_loss: 0.4954 - val_acc: 0.8096\n",
      "Epoch 76/100\n",
      "37/37 [==============================] - 7s 193ms/step - loss: 0.4559 - acc: 0.8186 - val_loss: 0.4918 - val_acc: 0.8173\n",
      "Epoch 77/100\n",
      "37/37 [==============================] - 9s 252ms/step - loss: 0.4624 - acc: 0.8131 - val_loss: 0.4846 - val_acc: 0.8105\n",
      "Epoch 78/100\n",
      "37/37 [==============================] - 8s 210ms/step - loss: 0.4501 - acc: 0.8226 - val_loss: 0.4854 - val_acc: 0.8156\n",
      "Epoch 79/100\n",
      "37/37 [==============================] - 7s 196ms/step - loss: 0.4630 - acc: 0.8130 - val_loss: 0.4845 - val_acc: 0.8101\n",
      "Epoch 80/100\n",
      "37/37 [==============================] - 7s 195ms/step - loss: 0.4408 - acc: 0.8261 - val_loss: 0.4921 - val_acc: 0.8118\n",
      "Epoch 81/100\n",
      "37/37 [==============================] - 7s 197ms/step - loss: 0.4623 - acc: 0.8129 - val_loss: 0.4886 - val_acc: 0.8165\n",
      "Epoch 82/100\n",
      "37/37 [==============================] - 9s 235ms/step - loss: 0.4626 - acc: 0.8178 - val_loss: 0.4875 - val_acc: 0.8148\n",
      "Epoch 83/100\n",
      "37/37 [==============================] - 9s 236ms/step - loss: 0.4513 - acc: 0.8145 - val_loss: 0.4908 - val_acc: 0.8131\n",
      "Epoch 84/100\n",
      "37/37 [==============================] - 10s 270ms/step - loss: 0.4533 - acc: 0.8170 - val_loss: 0.4979 - val_acc: 0.8143\n",
      "Epoch 85/100\n",
      "37/37 [==============================] - 7s 191ms/step - loss: 0.4459 - acc: 0.8229 - val_loss: 0.4879 - val_acc: 0.8075\n",
      "Epoch 86/100\n",
      "37/37 [==============================] - 9s 250ms/step - loss: 0.4397 - acc: 0.8229 - val_loss: 0.4849 - val_acc: 0.8114\n",
      "Epoch 87/100\n",
      "37/37 [==============================] - 8s 221ms/step - loss: 0.4384 - acc: 0.8221 - val_loss: 0.4912 - val_acc: 0.8084\n",
      "Epoch 88/100\n",
      "37/37 [==============================] - 9s 232ms/step - loss: 0.4446 - acc: 0.8205 - val_loss: 0.4895 - val_acc: 0.8058\n",
      "Epoch 89/100\n",
      "37/37 [==============================] - 8s 205ms/step - loss: 0.4511 - acc: 0.8200 - val_loss: 0.4855 - val_acc: 0.8084\n",
      "Epoch 90/100\n",
      "37/37 [==============================] - 7s 200ms/step - loss: 0.4291 - acc: 0.8210 - val_loss: 0.4908 - val_acc: 0.8131\n",
      "Epoch 91/100\n",
      "37/37 [==============================] - 7s 199ms/step - loss: 0.4426 - acc: 0.8234 - val_loss: 0.4910 - val_acc: 0.8148\n",
      "Epoch 92/100\n",
      "37/37 [==============================] - 7s 201ms/step - loss: 0.4333 - acc: 0.8294 - val_loss: 0.4844 - val_acc: 0.8109\n",
      "Epoch 93/100\n",
      "37/37 [==============================] - 7s 201ms/step - loss: 0.4360 - acc: 0.8279 - val_loss: 0.4923 - val_acc: 0.8207\n",
      "Epoch 94/100\n",
      "37/37 [==============================] - 7s 198ms/step - loss: 0.4334 - acc: 0.8224 - val_loss: 0.4939 - val_acc: 0.8169\n",
      "Epoch 95/100\n",
      "37/37 [==============================] - 7s 197ms/step - loss: 0.4444 - acc: 0.8252 - val_loss: 0.4857 - val_acc: 0.8079\n",
      "Epoch 96/100\n",
      "37/37 [==============================] - 7s 198ms/step - loss: 0.4366 - acc: 0.8203 - val_loss: 0.4843 - val_acc: 0.8143\n",
      "Epoch 97/100\n",
      "37/37 [==============================] - 7s 198ms/step - loss: 0.4422 - acc: 0.8234 - val_loss: 0.4831 - val_acc: 0.8118\n",
      "Epoch 98/100\n",
      "37/37 [==============================] - 7s 200ms/step - loss: 0.4375 - acc: 0.8219 - val_loss: 0.4919 - val_acc: 0.8199\n",
      "Epoch 99/100\n",
      "37/37 [==============================] - 7s 198ms/step - loss: 0.4332 - acc: 0.8242 - val_loss: 0.4874 - val_acc: 0.8165\n",
      "Epoch 100/100\n",
      "37/37 [==============================] - 7s 199ms/step - loss: 0.4319 - acc: 0.8267 - val_loss: 0.4997 - val_acc: 0.8169\n"
     ]
    }
   ],
   "source": [
    "history_5 = model_5.fit(X_train, y_train,\n",
    "                    validation_split = 0.2,\n",
    "                    epochs=100, batch_size=256)"
   ]
  },
  {
   "cell_type": "code",
   "execution_count": 401,
   "metadata": {},
   "outputs": [
    {
     "name": "stdout",
     "output_type": "stream",
     "text": [
      "Time of execution =  0:13:3\n"
     ]
    }
   ],
   "source": [
    "FithModelTimeOfExecution = time.time()-start5\n",
    "print(\"Time of execution = \", convert(FithModelTimeOfExecution)) "
   ]
  },
  {
   "cell_type": "code",
   "execution_count": 402,
   "metadata": {},
   "outputs": [
    {
     "name": "stdout",
     "output_type": "stream",
     "text": [
      "Training Accuracy: 0.8560\n",
      "Testing Accuracy:  0.8019\n"
     ]
    }
   ],
   "source": [
    "loss, accuracy = model_5.evaluate(X_train, y_train, verbose=False)\n",
    "print(\"Training Accuracy: {:.4f}\".format(accuracy))\n",
    "loss, accuracy = model_5.evaluate(X_test, y_test, verbose=False)\n",
    "print(\"Testing Accuracy:  {:.4f}\".format(accuracy))"
   ]
  },
  {
   "cell_type": "code",
   "execution_count": 403,
   "metadata": {},
   "outputs": [
    {
     "data": {
      "image/png": "[encoded data removed]",
      "text/plain": [
       "<Figure size 432x288 with 1 Axes>"
      ]
     },
     "metadata": {
      "needs_background": "light"
     },
     "output_type": "display_data"
    },
    {
     "data": {
      "image/png": "[encoded data removed]",
      "text/plain": [
       "<Figure size 432x288 with 1 Axes>"
      ]
     },
     "metadata": {
      "needs_background": "light"
     },
     "output_type": "display_data"
    }
   ],
   "source": [
    "acc = history_5.history['acc']\n",
    "val_acc = history_5.history['val_acc']\n",
    "loss = history_5.history['loss']\n",
    "val_loss = history_5.history['val_loss']\n",
    "\n",
    "epochs = range(len(acc))\n",
    "\n",
    "plt.plot(epochs, acc, 'g', label='Training acc')\n",
    "plt.plot(epochs, val_acc, 'b', label='Validation acc')\n",
    "plt.title('Training and validation accuracy')\n",
    "plt.legend()\n",
    "\n",
    "plt.figure()\n",
    "\n",
    "plt.plot(epochs, loss, 'g', label='Training loss')\n",
    "plt.plot(epochs, val_loss, 'b', label='Validation loss')\n",
    "plt.title('Training and validation loss')\n",
    "plt.legend()\n",
    "\n",
    "plt.show()"
   ]
  },
  {
   "cell_type": "code",
   "execution_count": 404,
   "metadata": {},
   "outputs": [],
   "source": [
    "# Get predicted values\n",
    "y_pred = model_5.predict(X_test)  # outputs probabilities of each sentiment\n",
    "# Create empty numpy array to match length of training observations\n",
    "y_pred_array = np.zeros(X_test.shape[0])\n",
    "\n",
    "# Find class with highest probability\n",
    "for i in range(0, y_pred.shape[0]):\n",
    "    label_predict = np.argmax(y_pred[i]) # column with max probability\n",
    "    y_pred_array[i] = label_predict\n",
    "\n",
    "# convert to integers\n",
    "y_pred_array = y_pred_array.astype(int)"
   ]
  },
  {
   "cell_type": "code",
   "execution_count": 405,
   "metadata": {},
   "outputs": [
    {
     "name": "stdout",
     "output_type": "stream",
     "text": [
      "Confusion matrix, without normalization\n",
      "[[1688  118   64]\n",
      " [ 219  335   60]\n",
      " [  69   50  325]]\n",
      "Normalized confusion matrix\n",
      "[[0.9  0.06 0.03]\n",
      " [0.36 0.55 0.1 ]\n",
      " [0.16 0.11 0.73]]\n"
     ]
    },
    {
     "data": {
      "image/png": "[encoded data removed]",
      "text/plain": [
       "<Figure size 432x288 with 2 Axes>"
      ]
     },
     "metadata": {
      "needs_background": "light"
     },
     "output_type": "display_data"
    },
    {
     "data": {
      "image/png": "[encoded data removed]",
      "text/plain": [
       "<Figure size 432x288 with 2 Axes>"
      ]
     },
     "metadata": {
      "needs_background": "light"
     },
     "output_type": "display_data"
    }
   ],
   "source": [
    "np.set_printoptions(precision=2)\n",
    "\n",
    "# Plot non-normalized confusion matrix\n",
    "plot_confusion_matrix(y_test_array, y_pred_array, classes=class_names,\n",
    "                      title='Confusion matrix, without normalization')\n",
    "\n",
    "# Plot normalized confusion matrix\n",
    "plot_confusion_matrix(y_test_array, y_pred_array, classes=class_names, normalize=True,\n",
    "                      title='Normalized confusion matrix')\n",
    "\n",
    "plt.show()"
   ]
  },
  {
   "cell_type": "markdown",
   "metadata": {},
   "source": [
    "### Obervation for model 5:"
   ]
  },
  {
   "cell_type": "markdown",
   "metadata": {},
   "source": [
    "In model 5, we increased the dimensionality by increasing the first GRU to 100 and the second layer to 70. This increase helps in achieving an accuracy of around 80%, a result slightly higher than model 4, while avoiding model overfitting. The fact that the model didn't overfit, even after the increase of GRU and decrease of recurrent_dropout demonstrates that a model using GRU might be less keen on overfitting than one using LSTM.\n",
    "\n",
    "Regarding the result observed on the confusion matrix, model 5 performed slightly better on negative and positive tweets classification but was less sucessful at classifying neutral tweets than model 4. "
   ]
  },
  {
   "cell_type": "markdown",
   "metadata": {},
   "source": [
    "## Model 6: Bidirectional RNN"
   ]
  },
  {
   "cell_type": "markdown",
   "metadata": {},
   "source": [
    "For our last model, we are going to experiment with a Bidirectional RNN. The difference with other networks is that they usually tend to be unidirectional in the way they process the time steps in a sequential order. Bidirectional RNNs process sequences in both direction which can make it useful to pick up patterns that wouldn’t be captured by unidirectional networks. Therefore, using unidirectional RNNs could improve the performance of a model. \n",
    "\n",
    "Let's apply it to this work with 80 units."
   ]
  },
  {
   "cell_type": "code",
   "execution_count": 30,
   "metadata": {},
   "outputs": [],
   "source": [
    "from tensorflow.keras.layers import Bidirectional"
   ]
  },
  {
   "cell_type": "code",
   "execution_count": 94,
   "metadata": {},
   "outputs": [
    {
     "name": "stdout",
     "output_type": "stream",
     "text": [
      "Model: \"sequential_7\"\n",
      "_________________________________________________________________\n",
      "Layer (type)                 Output Shape              Param #   \n",
      "=================================================================\n",
      "embedding (Embedding)        (None, 30, 100)           1576900   \n",
      "_________________________________________________________________\n",
      "bidirectional_7 (Bidirection (None, 160)               115840    \n",
      "_________________________________________________________________\n",
      "dense_7 (Dense)              (None, 3)                 483       \n",
      "=================================================================\n",
      "Total params: 1,693,223\n",
      "Trainable params: 116,323\n",
      "Non-trainable params: 1,576,900\n",
      "_________________________________________________________________\n"
     ]
    }
   ],
   "source": [
    "# Bidirectional RNNs\n",
    "model_6 = Sequential()\n",
    "model_6.add(embedding_layer)\n",
    "model_6.add(Bidirectional(LSTM(80,\n",
    "                              dropout=0.6,\n",
    "                              recurrent_dropout=0.9)))\n",
    "model_6.add(Dense(3,activation='softmax'))\n",
    "model_6.summary()"
   ]
  },
  {
   "cell_type": "code",
   "execution_count": 95,
   "metadata": {},
   "outputs": [],
   "source": [
    "model_6.compile(optimizer='adam', loss='categorical_crossentropy', metrics=['acc'])"
   ]
  },
  {
   "cell_type": "code",
   "execution_count": 96,
   "metadata": {},
   "outputs": [],
   "source": [
    "start6 = time.time()"
   ]
  },
  {
   "cell_type": "code",
   "execution_count": 97,
   "metadata": {},
   "outputs": [
    {
     "name": "stdout",
     "output_type": "stream",
     "text": [
      "Epoch 1/100\n",
      "37/37 [==============================] - 15s 260ms/step - loss: 0.9051 - acc: 0.6032 - val_loss: 0.9037 - val_acc: 0.6359\n",
      "Epoch 2/100\n",
      "37/37 [==============================] - 11s 306ms/step - loss: 0.7905 - acc: 0.6689 - val_loss: 0.8582 - val_acc: 0.6837\n",
      "Epoch 3/100\n",
      "37/37 [==============================] - 9s 229ms/step - loss: 0.7510 - acc: 0.6950 - val_loss: 0.7294 - val_acc: 0.7277\n",
      "Epoch 4/100\n",
      "37/37 [==============================] - 7s 178ms/step - loss: 0.7096 - acc: 0.7156 - val_loss: 0.7949 - val_acc: 0.7234\n",
      "Epoch 5/100\n",
      "37/37 [==============================] - 7s 180ms/step - loss: 0.6730 - acc: 0.7217 - val_loss: 0.6807 - val_acc: 0.7490\n",
      "Epoch 6/100\n",
      "37/37 [==============================] - 7s 180ms/step - loss: 0.6767 - acc: 0.7191 - val_loss: 0.6315 - val_acc: 0.7559\n",
      "Epoch 7/100\n",
      "37/37 [==============================] - 7s 185ms/step - loss: 0.6733 - acc: 0.7144 - val_loss: 0.6606 - val_acc: 0.7525\n",
      "Epoch 8/100\n",
      "37/37 [==============================] - 7s 185ms/step - loss: 0.6439 - acc: 0.7341 - val_loss: 0.7182 - val_acc: 0.7431\n",
      "Epoch 9/100\n",
      "37/37 [==============================] - 7s 187ms/step - loss: 0.6494 - acc: 0.7299 - val_loss: 0.6457 - val_acc: 0.7593\n",
      "Epoch 10/100\n",
      "37/37 [==============================] - 7s 194ms/step - loss: 0.6374 - acc: 0.7355 - val_loss: 0.6682 - val_acc: 0.7520\n",
      "Epoch 11/100\n",
      "37/37 [==============================] - 7s 192ms/step - loss: 0.6323 - acc: 0.7395 - val_loss: 0.6531 - val_acc: 0.7542\n",
      "Epoch 12/100\n",
      "37/37 [==============================] - 7s 193ms/step - loss: 0.6345 - acc: 0.7338 - val_loss: 0.6300 - val_acc: 0.7644\n",
      "Epoch 13/100\n",
      "37/37 [==============================] - 7s 188ms/step - loss: 0.6197 - acc: 0.7450 - val_loss: 0.6038 - val_acc: 0.7648\n",
      "Epoch 14/100\n",
      "37/37 [==============================] - 7s 197ms/step - loss: 0.6166 - acc: 0.7451 - val_loss: 0.5904 - val_acc: 0.7755\n",
      "Epoch 15/100\n",
      "37/37 [==============================] - 7s 191ms/step - loss: 0.6231 - acc: 0.7464 - val_loss: 0.5843 - val_acc: 0.7725\n",
      "Epoch 16/100\n",
      "37/37 [==============================] - 7s 198ms/step - loss: 0.6048 - acc: 0.7461 - val_loss: 0.6198 - val_acc: 0.7636\n",
      "Epoch 17/100\n",
      "37/37 [==============================] - 7s 190ms/step - loss: 0.6143 - acc: 0.7468 - val_loss: 0.5960 - val_acc: 0.7687\n",
      "Epoch 18/100\n",
      "37/37 [==============================] - 7s 195ms/step - loss: 0.5936 - acc: 0.7581 - val_loss: 0.5550 - val_acc: 0.7789\n",
      "Epoch 19/100\n",
      "37/37 [==============================] - 7s 192ms/step - loss: 0.6010 - acc: 0.7479 - val_loss: 0.5848 - val_acc: 0.7746\n",
      "Epoch 20/100\n",
      "37/37 [==============================] - 7s 190ms/step - loss: 0.5900 - acc: 0.7628 - val_loss: 0.5854 - val_acc: 0.7793\n",
      "Epoch 21/100\n",
      "37/37 [==============================] - 7s 194ms/step - loss: 0.5784 - acc: 0.7609 - val_loss: 0.5652 - val_acc: 0.7836\n",
      "Epoch 22/100\n",
      "37/37 [==============================] - 7s 190ms/step - loss: 0.5820 - acc: 0.7618 - val_loss: 0.5724 - val_acc: 0.7802\n",
      "Epoch 23/100\n",
      "37/37 [==============================] - 7s 195ms/step - loss: 0.5801 - acc: 0.7642 - val_loss: 0.5495 - val_acc: 0.7819\n",
      "Epoch 24/100\n",
      "37/37 [==============================] - 7s 194ms/step - loss: 0.5790 - acc: 0.7601 - val_loss: 0.5623 - val_acc: 0.7793\n",
      "Epoch 25/100\n",
      "37/37 [==============================] - 8s 209ms/step - loss: 0.5677 - acc: 0.7676 - val_loss: 0.5683 - val_acc: 0.7785\n",
      "Epoch 26/100\n",
      "37/37 [==============================] - 7s 186ms/step - loss: 0.5577 - acc: 0.7744 - val_loss: 0.5435 - val_acc: 0.7883\n",
      "Epoch 27/100\n",
      "37/37 [==============================] - 7s 191ms/step - loss: 0.5657 - acc: 0.7648 - val_loss: 0.5988 - val_acc: 0.7776\n",
      "Epoch 28/100\n",
      "37/37 [==============================] - 7s 184ms/step - loss: 0.5760 - acc: 0.7636 - val_loss: 0.5575 - val_acc: 0.7823\n",
      "Epoch 29/100\n",
      "37/37 [==============================] - 7s 189ms/step - loss: 0.5553 - acc: 0.7761 - val_loss: 0.5575 - val_acc: 0.7828\n",
      "Epoch 30/100\n",
      "37/37 [==============================] - 7s 188ms/step - loss: 0.5581 - acc: 0.7787 - val_loss: 0.5529 - val_acc: 0.7853\n",
      "Epoch 31/100\n",
      "37/37 [==============================] - 7s 179ms/step - loss: 0.5546 - acc: 0.7782 - val_loss: 0.5784 - val_acc: 0.7810\n",
      "Epoch 32/100\n",
      "37/37 [==============================] - 7s 182ms/step - loss: 0.5579 - acc: 0.7791 - val_loss: 0.5617 - val_acc: 0.7857\n",
      "Epoch 33/100\n",
      "37/37 [==============================] - 7s 178ms/step - loss: 0.5520 - acc: 0.7758 - val_loss: 0.5358 - val_acc: 0.7892\n",
      "Epoch 34/100\n",
      "37/37 [==============================] - 7s 178ms/step - loss: 0.5537 - acc: 0.7727 - val_loss: 0.5370 - val_acc: 0.7913\n",
      "Epoch 35/100\n",
      "37/37 [==============================] - 7s 181ms/step - loss: 0.5378 - acc: 0.7832 - val_loss: 0.5442 - val_acc: 0.7904\n",
      "Epoch 36/100\n",
      "37/37 [==============================] - 7s 185ms/step - loss: 0.5413 - acc: 0.7847 - val_loss: 0.5429 - val_acc: 0.7879\n",
      "Epoch 37/100\n",
      "37/37 [==============================] - 7s 183ms/step - loss: 0.5455 - acc: 0.7786 - val_loss: 0.5398 - val_acc: 0.7900\n",
      "Epoch 38/100\n",
      "37/37 [==============================] - 7s 177ms/step - loss: 0.5468 - acc: 0.7835 - val_loss: 0.5520 - val_acc: 0.7883\n",
      "Epoch 39/100\n",
      "37/37 [==============================] - 7s 179ms/step - loss: 0.5298 - acc: 0.7875 - val_loss: 0.5445 - val_acc: 0.7956\n",
      "Epoch 40/100\n",
      "37/37 [==============================] - 6s 174ms/step - loss: 0.5556 - acc: 0.7738 - val_loss: 0.5409 - val_acc: 0.7930\n",
      "Epoch 41/100\n",
      "37/37 [==============================] - 7s 191ms/step - loss: 0.5351 - acc: 0.7844 - val_loss: 0.5275 - val_acc: 0.7947\n",
      "Epoch 42/100\n",
      "37/37 [==============================] - 7s 197ms/step - loss: 0.5284 - acc: 0.7856 - val_loss: 0.5417 - val_acc: 0.7939\n",
      "Epoch 43/100\n",
      "37/37 [==============================] - 9s 245ms/step - loss: 0.5338 - acc: 0.7867 - val_loss: 0.5286 - val_acc: 0.7968\n",
      "Epoch 44/100\n",
      "37/37 [==============================] - 7s 186ms/step - loss: 0.5375 - acc: 0.7828 - val_loss: 0.5282 - val_acc: 0.7939\n",
      "Epoch 45/100\n",
      "37/37 [==============================] - 7s 181ms/step - loss: 0.5136 - acc: 0.7917 - val_loss: 0.5386 - val_acc: 0.7977\n",
      "Epoch 46/100\n",
      "37/37 [==============================] - 9s 257ms/step - loss: 0.5146 - acc: 0.7911 - val_loss: 0.5251 - val_acc: 0.7947\n",
      "Epoch 47/100\n",
      "37/37 [==============================] - 10s 275ms/step - loss: 0.5183 - acc: 0.7918 - val_loss: 0.5359 - val_acc: 0.7892\n",
      "Epoch 48/100\n",
      "37/37 [==============================] - 10s 273ms/step - loss: 0.5243 - acc: 0.7845 - val_loss: 0.5303 - val_acc: 0.7968\n",
      "Epoch 49/100\n",
      "37/37 [==============================] - 8s 221ms/step - loss: 0.5058 - acc: 0.7903 - val_loss: 0.5239 - val_acc: 0.8003\n",
      "Epoch 50/100\n",
      "37/37 [==============================] - 9s 231ms/step - loss: 0.5029 - acc: 0.7994 - val_loss: 0.5324 - val_acc: 0.7981\n",
      "Epoch 51/100\n",
      "37/37 [==============================] - 8s 203ms/step - loss: 0.5174 - acc: 0.7915 - val_loss: 0.5214 - val_acc: 0.7994\n",
      "Epoch 52/100\n",
      "37/37 [==============================] - 7s 195ms/step - loss: 0.5102 - acc: 0.7953 - val_loss: 0.5383 - val_acc: 0.7998\n",
      "Epoch 53/100\n",
      "37/37 [==============================] - 8s 216ms/step - loss: 0.5069 - acc: 0.7939 - val_loss: 0.5547 - val_acc: 0.7994\n",
      "Epoch 54/100\n",
      "37/37 [==============================] - 8s 229ms/step - loss: 0.5081 - acc: 0.7983 - val_loss: 0.5058 - val_acc: 0.7960\n",
      "Epoch 55/100\n",
      "37/37 [==============================] - 8s 224ms/step - loss: 0.5161 - acc: 0.7944 - val_loss: 0.5543 - val_acc: 0.7981\n",
      "Epoch 56/100\n",
      "37/37 [==============================] - 8s 222ms/step - loss: 0.4955 - acc: 0.8067 - val_loss: 0.5258 - val_acc: 0.7990\n",
      "Epoch 57/100\n",
      "37/37 [==============================] - 8s 207ms/step - loss: 0.5068 - acc: 0.7927 - val_loss: 0.5324 - val_acc: 0.8050\n",
      "Epoch 58/100\n",
      "37/37 [==============================] - 8s 216ms/step - loss: 0.5054 - acc: 0.7985 - val_loss: 0.5334 - val_acc: 0.8062\n",
      "Epoch 59/100\n",
      "37/37 [==============================] - 9s 258ms/step - loss: 0.5061 - acc: 0.7982 - val_loss: 0.5137 - val_acc: 0.8041\n",
      "Epoch 60/100\n",
      "37/37 [==============================] - 8s 209ms/step - loss: 0.4948 - acc: 0.8019 - val_loss: 0.5219 - val_acc: 0.8011\n",
      "Epoch 61/100\n",
      "37/37 [==============================] - 7s 192ms/step - loss: 0.4949 - acc: 0.7973 - val_loss: 0.5195 - val_acc: 0.8037\n",
      "Epoch 62/100\n",
      "37/37 [==============================] - 8s 209ms/step - loss: 0.4821 - acc: 0.8075 - val_loss: 0.5078 - val_acc: 0.8007\n",
      "Epoch 63/100\n",
      "37/37 [==============================] - 8s 228ms/step - loss: 0.5013 - acc: 0.7972 - val_loss: 0.5236 - val_acc: 0.8079\n",
      "Epoch 64/100\n",
      "37/37 [==============================] - 8s 215ms/step - loss: 0.4908 - acc: 0.8012 - val_loss: 0.5161 - val_acc: 0.8092\n",
      "Epoch 65/100\n",
      "37/37 [==============================] - 7s 195ms/step - loss: 0.4957 - acc: 0.8066 - val_loss: 0.5169 - val_acc: 0.8028\n",
      "Epoch 66/100\n",
      "37/37 [==============================] - 7s 181ms/step - loss: 0.4946 - acc: 0.8006 - val_loss: 0.5108 - val_acc: 0.8041\n",
      "Epoch 67/100\n",
      "37/37 [==============================] - 6s 171ms/step - loss: 0.4894 - acc: 0.7973 - val_loss: 0.5033 - val_acc: 0.8050\n",
      "Epoch 68/100\n",
      "37/37 [==============================] - 6s 175ms/step - loss: 0.5077 - acc: 0.7932 - val_loss: 0.5594 - val_acc: 0.8024\n",
      "Epoch 69/100\n",
      "37/37 [==============================] - 6s 172ms/step - loss: 0.4894 - acc: 0.8020 - val_loss: 0.5101 - val_acc: 0.8058\n",
      "Epoch 70/100\n",
      "37/37 [==============================] - 6s 174ms/step - loss: 0.4887 - acc: 0.8029 - val_loss: 0.5364 - val_acc: 0.8075\n",
      "Epoch 71/100\n",
      "37/37 [==============================] - 6s 170ms/step - loss: 0.4947 - acc: 0.7976 - val_loss: 0.5143 - val_acc: 0.8024\n",
      "Epoch 72/100\n",
      "37/37 [==============================] - 6s 173ms/step - loss: 0.4943 - acc: 0.7985 - val_loss: 0.5167 - val_acc: 0.8050\n",
      "Epoch 73/100\n",
      "37/37 [==============================] - 6s 176ms/step - loss: 0.4824 - acc: 0.8044 - val_loss: 0.5186 - val_acc: 0.8092\n",
      "Epoch 74/100\n",
      "37/37 [==============================] - 6s 173ms/step - loss: 0.4835 - acc: 0.8093 - val_loss: 0.5126 - val_acc: 0.8096\n",
      "Epoch 75/100\n",
      "37/37 [==============================] - 6s 174ms/step - loss: 0.4858 - acc: 0.8070 - val_loss: 0.5084 - val_acc: 0.8032\n",
      "Epoch 76/100\n",
      "37/37 [==============================] - 7s 191ms/step - loss: 0.4827 - acc: 0.8051 - val_loss: 0.5480 - val_acc: 0.8054\n",
      "Epoch 77/100\n",
      "37/37 [==============================] - 7s 188ms/step - loss: 0.4920 - acc: 0.8017 - val_loss: 0.5085 - val_acc: 0.8096\n",
      "Epoch 78/100\n",
      "37/37 [==============================] - 7s 192ms/step - loss: 0.4895 - acc: 0.8011 - val_loss: 0.5243 - val_acc: 0.8088\n",
      "Epoch 79/100\n",
      "37/37 [==============================] - 7s 188ms/step - loss: 0.4795 - acc: 0.8106 - val_loss: 0.5108 - val_acc: 0.8092\n",
      "Epoch 80/100\n",
      "37/37 [==============================] - 7s 202ms/step - loss: 0.4730 - acc: 0.8097 - val_loss: 0.5189 - val_acc: 0.8096\n",
      "Epoch 81/100\n",
      "37/37 [==============================] - 7s 189ms/step - loss: 0.4830 - acc: 0.8067 - val_loss: 0.5218 - val_acc: 0.8096\n",
      "Epoch 82/100\n",
      "37/37 [==============================] - 7s 191ms/step - loss: 0.4576 - acc: 0.8184 - val_loss: 0.5195 - val_acc: 0.8139\n",
      "Epoch 83/100\n",
      "37/37 [==============================] - 7s 185ms/step - loss: 0.4731 - acc: 0.8127 - val_loss: 0.5152 - val_acc: 0.8109\n",
      "Epoch 84/100\n",
      "37/37 [==============================] - 7s 199ms/step - loss: 0.4714 - acc: 0.8078 - val_loss: 0.5120 - val_acc: 0.8084\n",
      "Epoch 85/100\n",
      "37/37 [==============================] - 7s 202ms/step - loss: 0.4726 - acc: 0.8112 - val_loss: 0.5239 - val_acc: 0.8126\n",
      "Epoch 86/100\n",
      "37/37 [==============================] - 10s 272ms/step - loss: 0.4596 - acc: 0.8180 - val_loss: 0.5268 - val_acc: 0.8122\n",
      "Epoch 87/100\n",
      "37/37 [==============================] - 7s 195ms/step - loss: 0.4668 - acc: 0.8121 - val_loss: 0.5189 - val_acc: 0.8143\n",
      "Epoch 88/100\n",
      "37/37 [==============================] - 8s 208ms/step - loss: 0.4753 - acc: 0.8066 - val_loss: 0.5014 - val_acc: 0.8122\n",
      "Epoch 89/100\n",
      "37/37 [==============================] - 8s 221ms/step - loss: 0.4548 - acc: 0.8234 - val_loss: 0.5199 - val_acc: 0.8148\n",
      "Epoch 90/100\n",
      "37/37 [==============================] - 9s 256ms/step - loss: 0.4716 - acc: 0.8067 - val_loss: 0.5352 - val_acc: 0.8118\n",
      "Epoch 91/100\n",
      "37/37 [==============================] - 8s 219ms/step - loss: 0.4713 - acc: 0.8077 - val_loss: 0.5240 - val_acc: 0.8126\n",
      "Epoch 92/100\n",
      "37/37 [==============================] - 9s 237ms/step - loss: 0.4669 - acc: 0.8101 - val_loss: 0.5175 - val_acc: 0.8143\n",
      "Epoch 93/100\n",
      "37/37 [==============================] - 9s 241ms/step - loss: 0.4498 - acc: 0.8237 - val_loss: 0.5231 - val_acc: 0.8173\n",
      "Epoch 94/100\n",
      "37/37 [==============================] - 9s 246ms/step - loss: 0.4541 - acc: 0.8210 - val_loss: 0.5086 - val_acc: 0.8131\n",
      "Epoch 95/100\n",
      "37/37 [==============================] - 8s 224ms/step - loss: 0.4550 - acc: 0.8159 - val_loss: 0.5243 - val_acc: 0.8135\n",
      "Epoch 96/100\n",
      "37/37 [==============================] - 8s 220ms/step - loss: 0.4658 - acc: 0.8130 - val_loss: 0.5061 - val_acc: 0.8114\n",
      "Epoch 97/100\n",
      "37/37 [==============================] - 8s 217ms/step - loss: 0.4598 - acc: 0.8164 - val_loss: 0.5142 - val_acc: 0.8160\n",
      "Epoch 98/100\n",
      "37/37 [==============================] - 8s 217ms/step - loss: 0.4428 - acc: 0.8193 - val_loss: 0.5078 - val_acc: 0.8126\n",
      "Epoch 99/100\n",
      "37/37 [==============================] - 8s 216ms/step - loss: 0.4515 - acc: 0.8128 - val_loss: 0.5246 - val_acc: 0.8139\n",
      "Epoch 100/100\n",
      "37/37 [==============================] - 8s 219ms/step - loss: 0.4413 - acc: 0.8207 - val_loss: 0.5156 - val_acc: 0.8160\n"
     ]
    }
   ],
   "source": [
    "history_6 = model_6.fit(X_train, y_train,\n",
    "                    validation_split = 0.2,\n",
    "                    epochs=100, batch_size=256)"
   ]
  },
  {
   "cell_type": "code",
   "execution_count": 98,
   "metadata": {},
   "outputs": [
    {
     "name": "stdout",
     "output_type": "stream",
     "text": [
      "Time of execution =  0:12:35\n"
     ]
    }
   ],
   "source": [
    "sixModelTimeOfExecution = time.time()-start6\n",
    "print(\"Time of execution = \", convert(sixModelTimeOfExecution)) "
   ]
  },
  {
   "cell_type": "code",
   "execution_count": 99,
   "metadata": {},
   "outputs": [
    {
     "name": "stdout",
     "output_type": "stream",
     "text": [
      "Training Accuracy: 0.8507\n",
      "Testing Accuracy:  0.7975\n"
     ]
    }
   ],
   "source": [
    "loss, accuracy = model_6.evaluate(X_train, y_train, verbose=False)\n",
    "print(\"Training Accuracy: {:.4f}\".format(accuracy))\n",
    "loss, accuracy = model_6.evaluate(X_test, y_test, verbose=False)\n",
    "print(\"Testing Accuracy:  {:.4f}\".format(accuracy))"
   ]
  },
  {
   "cell_type": "code",
   "execution_count": 100,
   "metadata": {},
   "outputs": [
    {
     "data": {
      "image/png": "[encoded data removed]",
      "text/plain": [
       "<Figure size 432x288 with 1 Axes>"
      ]
     },
     "metadata": {
      "needs_background": "light"
     },
     "output_type": "display_data"
    },
    {
     "data": {
      "image/png": "[encoded data removed]",
      "text/plain": [
       "<Figure size 432x288 with 1 Axes>"
      ]
     },
     "metadata": {
      "needs_background": "light"
     },
     "output_type": "display_data"
    }
   ],
   "source": [
    "acc = history_6.history['acc']\n",
    "val_acc = history_6.history['val_acc']\n",
    "loss = history_6.history['loss']\n",
    "val_loss = history_6.history['val_loss']\n",
    "\n",
    "epochs = range(len(acc))\n",
    "\n",
    "plt.plot(epochs, acc, 'g', label='Training acc')\n",
    "plt.plot(epochs, val_acc, 'b', label='Validation acc')\n",
    "plt.title('Training and validation accuracy')\n",
    "plt.legend()\n",
    "\n",
    "plt.figure()\n",
    "\n",
    "plt.plot(epochs, loss, 'g', label='Training loss')\n",
    "plt.plot(epochs, val_loss, 'b', label='Validation loss')\n",
    "plt.title('Training and validation loss')\n",
    "plt.legend()\n",
    "\n",
    "plt.show()"
   ]
  },
  {
   "cell_type": "code",
   "execution_count": 101,
   "metadata": {},
   "outputs": [],
   "source": [
    "# Get predicted values\n",
    "y_pred = model_6.predict(X_test)  # outputs probabilities of each sentiment\n",
    "# Create empty numpy array to match length of training observations\n",
    "y_pred_array = np.zeros(X_test.shape[0])\n",
    "\n",
    "# Find class with highest probability\n",
    "for i in range(0, y_pred.shape[0]):\n",
    "    label_predict = np.argmax(y_pred[i]) # column with max probability\n",
    "    y_pred_array[i] = label_predict\n",
    "\n",
    "# convert to integers\n",
    "y_pred_array = y_pred_array.astype(int)"
   ]
  },
  {
   "cell_type": "code",
   "execution_count": 102,
   "metadata": {},
   "outputs": [
    {
     "name": "stdout",
     "output_type": "stream",
     "text": [
      "Confusion matrix, without normalization\n",
      "[[1682  136   52]\n",
      " [ 215  348   51]\n",
      " [  86   53  305]]\n",
      "Normalized confusion matrix\n",
      "[[0.9  0.07 0.03]\n",
      " [0.35 0.57 0.08]\n",
      " [0.19 0.12 0.69]]\n"
     ]
    },
    {
     "data": {
      "image/png": "[encoded data removed]",
      "text/plain": [
       "<Figure size 432x288 with 2 Axes>"
      ]
     },
     "metadata": {
      "needs_background": "light"
     },
     "output_type": "display_data"
    },
    {
     "data": {
      "image/png": "[encoded data removed]",
      "text/plain": [
       "<Figure size 432x288 with 2 Axes>"
      ]
     },
     "metadata": {
      "needs_background": "light"
     },
     "output_type": "display_data"
    }
   ],
   "source": [
    "np.set_printoptions(precision=2)\n",
    "\n",
    "# Plot non-normalized confusion matrix\n",
    "plot_confusion_matrix(y_test_array, y_pred_array, classes=class_names,\n",
    "                      title='Confusion matrix, without normalization')\n",
    "\n",
    "# Plot normalized confusion matrix\n",
    "plot_confusion_matrix(y_test_array, y_pred_array, classes=class_names, normalize=True,\n",
    "                      title='Normalized confusion matrix')\n",
    "\n",
    "plt.show()"
   ]
  },
  {
   "cell_type": "markdown",
   "metadata": {},
   "source": [
    "### Obervation for model 6:"
   ]
  },
  {
   "cell_type": "markdown",
   "metadata": {},
   "source": [
    "After trying different combinations between the number of units in the bidirectional network, the dropout and reccurent_dropout, we achieve an accuracy of 79%, close to 80% with little overfitting. Something to notice is that, during experimentation with different combinations, this model seems to overfit very quickly. This can be due to the high numbers of trainable paramaters generated. \n",
    "\n",
    "On the confusion matrix, the model performs worse at classifying positive tweets in comparison with all the others models previously run. Though, it still did a better job in comparison with some of them at classifying neutral tweets."
   ]
  },
  {
   "cell_type": "markdown",
   "metadata": {},
   "source": [
    "# Issues and Conclusion"
   ]
  },
  {
   "cell_type": "markdown",
   "metadata": {},
   "source": [
    "While building RNN models using LSTM, GRU or even Bidirectionality represent many advantages, it also represents some issues.\n",
    "\n",
    "We first noticed that the models tend to overfit easily and quickly, especially with a complex dimension architecture. A reduction of the dimension, as well as increasing the dropout and recurrent_dropout, helped with overfitting, but had an impact on the accuracy in the validation set. Therefore when using LSTM, GRU or Bidirectionality, the challenge was to increase the units to the point of getting the best accuracy possible while managing the recurrent_dropout and dropout to handle the overfit.\n",
    "\n",
    "The models can take between 5 to a little over 10 minutes to train. The time of training increase with a more complex dimension architecture. \n",
    "\n",
    "Through all the models implemented and observed we can draw some conclusions on what model to use on this specific dataset to get the best performance in this classification problem. Overall, we saw that the models managed to classify negative tweets best followed by positive tweets. Neutral tweets were the most challenging kind. On a dataset dominated by only negative or positive tweets, models such as model 3 or model 5 can be a good choice. \n",
    "\n",
    "However, when the dataset contains neutral tweets, such as the dataset we are using in this work, model 4, using GRU, appears to be a good choice. Indeed, this model achieves one of the best results on neutral tweets classification while also giving good results in negative and positive classification with an accuracy of around 80% and low overfit. \n",
    "\n",
    "In this work, we used RNNs to perform a text classification problem. Other solutions are used for similar problem such as Naive Bayes. The issue with that algorithm on a task such as the one in this work is that Naive Bayes doesn't perform very well with a large number of features. Though, popular solutions used on similar datasets include SVM and Random Forest. \n"
   ]
  }
 ],
 "metadata": {
  "kernelspec": {
   "display_name": "Python 3",
   "language": "python",
   "name": "python3"
  },
  "language_info": {
   "codemirror_mode": {
    "name": "ipython",
    "version": 3
   },
   "file_extension": ".py",
   "mimetype": "text/x-python",
   "name": "python",
   "nbconvert_exporter": "python",
   "pygments_lexer": "ipython3",
   "version": "3.8.3"
  }
 },
 "nbformat": 4,
 "nbformat_minor": 2
}
