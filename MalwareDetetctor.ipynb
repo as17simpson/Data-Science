{
 "cells": [
  {
   "cell_type": "code",
   "execution_count": 340,
   "metadata": {},
   "outputs": [],
   "source": [
    "import numpy as np\n",
    "import pandas as pd\n",
    "import math as m\n",
    "from mlxtend.plotting import plot_confusion_matrix\n",
    "from sklearn.metrics import confusion_matrix"
   ]
  },
  {
   "cell_type": "code",
   "execution_count": 131,
   "metadata": {},
   "outputs": [],
   "source": [
    "data = pd.read_csv(\"C:\\\\Users\\\\as17s\\\\OneDrive\\\\Documents\\\\MSc Data Science\\\\Semester 2\\\\Cyber Security\\\\CW2\\\\Mastering-Machine-Learning-for-Penetration-Testing-master\\\\Chapter03\\\\malwaredata.csv\", sep = '|')"
   ]
  },
  {
   "cell_type": "code",
   "execution_count": 133,
   "metadata": {},
   "outputs": [
    {
     "data": {
      "text/html": [
       "<div>\n",
       "<style scoped>\n",
       "    .dataframe tbody tr th:only-of-type {\n",
       "        vertical-align: middle;\n",
       "    }\n",
       "\n",
       "    .dataframe tbody tr th {\n",
       "        vertical-align: top;\n",
       "    }\n",
       "\n",
       "    .dataframe thead th {\n",
       "        text-align: right;\n",
       "    }\n",
       "</style>\n",
       "<table border=\"1\" class=\"dataframe\">\n",
       "  <thead>\n",
       "    <tr style=\"text-align: right;\">\n",
       "      <th></th>\n",
       "      <th>Name</th>\n",
       "      <th>md5</th>\n",
       "      <th>Machine</th>\n",
       "      <th>SizeOfOptionalHeader</th>\n",
       "      <th>Characteristics</th>\n",
       "      <th>MajorLinkerVersion</th>\n",
       "      <th>MinorLinkerVersion</th>\n",
       "      <th>SizeOfCode</th>\n",
       "      <th>SizeOfInitializedData</th>\n",
       "      <th>SizeOfUninitializedData</th>\n",
       "      <th>...</th>\n",
       "      <th>ResourcesNb</th>\n",
       "      <th>ResourcesMeanEntropy</th>\n",
       "      <th>ResourcesMinEntropy</th>\n",
       "      <th>ResourcesMaxEntropy</th>\n",
       "      <th>ResourcesMeanSize</th>\n",
       "      <th>ResourcesMinSize</th>\n",
       "      <th>ResourcesMaxSize</th>\n",
       "      <th>LoadConfigurationSize</th>\n",
       "      <th>VersionInformationSize</th>\n",
       "      <th>legitimate</th>\n",
       "    </tr>\n",
       "  </thead>\n",
       "  <tbody>\n",
       "    <tr>\n",
       "      <th>0</th>\n",
       "      <td>memtest.exe</td>\n",
       "      <td>631ea355665f28d4707448e442fbf5b8</td>\n",
       "      <td>332</td>\n",
       "      <td>224</td>\n",
       "      <td>258</td>\n",
       "      <td>9</td>\n",
       "      <td>0</td>\n",
       "      <td>361984</td>\n",
       "      <td>115712</td>\n",
       "      <td>0</td>\n",
       "      <td>...</td>\n",
       "      <td>4</td>\n",
       "      <td>3.262823</td>\n",
       "      <td>2.568844</td>\n",
       "      <td>3.537939</td>\n",
       "      <td>8797.000000</td>\n",
       "      <td>216</td>\n",
       "      <td>18032</td>\n",
       "      <td>0</td>\n",
       "      <td>16</td>\n",
       "      <td>1</td>\n",
       "    </tr>\n",
       "    <tr>\n",
       "      <th>1</th>\n",
       "      <td>ose.exe</td>\n",
       "      <td>9d10f99a6712e28f8acd5641e3a7ea6b</td>\n",
       "      <td>332</td>\n",
       "      <td>224</td>\n",
       "      <td>3330</td>\n",
       "      <td>9</td>\n",
       "      <td>0</td>\n",
       "      <td>130560</td>\n",
       "      <td>19968</td>\n",
       "      <td>0</td>\n",
       "      <td>...</td>\n",
       "      <td>2</td>\n",
       "      <td>4.250461</td>\n",
       "      <td>3.420744</td>\n",
       "      <td>5.080177</td>\n",
       "      <td>837.000000</td>\n",
       "      <td>518</td>\n",
       "      <td>1156</td>\n",
       "      <td>72</td>\n",
       "      <td>18</td>\n",
       "      <td>1</td>\n",
       "    </tr>\n",
       "    <tr>\n",
       "      <th>2</th>\n",
       "      <td>setup.exe</td>\n",
       "      <td>4d92f518527353c0db88a70fddcfd390</td>\n",
       "      <td>332</td>\n",
       "      <td>224</td>\n",
       "      <td>3330</td>\n",
       "      <td>9</td>\n",
       "      <td>0</td>\n",
       "      <td>517120</td>\n",
       "      <td>621568</td>\n",
       "      <td>0</td>\n",
       "      <td>...</td>\n",
       "      <td>11</td>\n",
       "      <td>4.426324</td>\n",
       "      <td>2.846449</td>\n",
       "      <td>5.271813</td>\n",
       "      <td>31102.272727</td>\n",
       "      <td>104</td>\n",
       "      <td>270376</td>\n",
       "      <td>72</td>\n",
       "      <td>18</td>\n",
       "      <td>1</td>\n",
       "    </tr>\n",
       "    <tr>\n",
       "      <th>3</th>\n",
       "      <td>DW20.EXE</td>\n",
       "      <td>a41e524f8d45f0074fd07805ff0c9b12</td>\n",
       "      <td>332</td>\n",
       "      <td>224</td>\n",
       "      <td>258</td>\n",
       "      <td>9</td>\n",
       "      <td>0</td>\n",
       "      <td>585728</td>\n",
       "      <td>369152</td>\n",
       "      <td>0</td>\n",
       "      <td>...</td>\n",
       "      <td>10</td>\n",
       "      <td>4.364291</td>\n",
       "      <td>2.669314</td>\n",
       "      <td>6.400720</td>\n",
       "      <td>1457.000000</td>\n",
       "      <td>90</td>\n",
       "      <td>4264</td>\n",
       "      <td>72</td>\n",
       "      <td>18</td>\n",
       "      <td>1</td>\n",
       "    </tr>\n",
       "    <tr>\n",
       "      <th>4</th>\n",
       "      <td>dwtrig20.exe</td>\n",
       "      <td>c87e561258f2f8650cef999bf643a731</td>\n",
       "      <td>332</td>\n",
       "      <td>224</td>\n",
       "      <td>258</td>\n",
       "      <td>9</td>\n",
       "      <td>0</td>\n",
       "      <td>294912</td>\n",
       "      <td>247296</td>\n",
       "      <td>0</td>\n",
       "      <td>...</td>\n",
       "      <td>2</td>\n",
       "      <td>4.306100</td>\n",
       "      <td>3.421598</td>\n",
       "      <td>5.190603</td>\n",
       "      <td>1074.500000</td>\n",
       "      <td>849</td>\n",
       "      <td>1300</td>\n",
       "      <td>72</td>\n",
       "      <td>18</td>\n",
       "      <td>1</td>\n",
       "    </tr>\n",
       "    <tr>\n",
       "      <th>...</th>\n",
       "      <td>...</td>\n",
       "      <td>...</td>\n",
       "      <td>...</td>\n",
       "      <td>...</td>\n",
       "      <td>...</td>\n",
       "      <td>...</td>\n",
       "      <td>...</td>\n",
       "      <td>...</td>\n",
       "      <td>...</td>\n",
       "      <td>...</td>\n",
       "      <td>...</td>\n",
       "      <td>...</td>\n",
       "      <td>...</td>\n",
       "      <td>...</td>\n",
       "      <td>...</td>\n",
       "      <td>...</td>\n",
       "      <td>...</td>\n",
       "      <td>...</td>\n",
       "      <td>...</td>\n",
       "      <td>...</td>\n",
       "      <td>...</td>\n",
       "    </tr>\n",
       "    <tr>\n",
       "      <th>138042</th>\n",
       "      <td>VirusShare_8e292b418568d6e7b87f2a32aee7074b</td>\n",
       "      <td>8e292b418568d6e7b87f2a32aee7074b</td>\n",
       "      <td>332</td>\n",
       "      <td>224</td>\n",
       "      <td>258</td>\n",
       "      <td>11</td>\n",
       "      <td>0</td>\n",
       "      <td>205824</td>\n",
       "      <td>223744</td>\n",
       "      <td>0</td>\n",
       "      <td>...</td>\n",
       "      <td>7</td>\n",
       "      <td>4.122736</td>\n",
       "      <td>1.370260</td>\n",
       "      <td>7.677091</td>\n",
       "      <td>14900.714286</td>\n",
       "      <td>16</td>\n",
       "      <td>81654</td>\n",
       "      <td>72</td>\n",
       "      <td>0</td>\n",
       "      <td>0</td>\n",
       "    </tr>\n",
       "    <tr>\n",
       "      <th>138043</th>\n",
       "      <td>VirusShare_260d9e2258aed4c8a3bbd703ec895822</td>\n",
       "      <td>260d9e2258aed4c8a3bbd703ec895822</td>\n",
       "      <td>332</td>\n",
       "      <td>224</td>\n",
       "      <td>33167</td>\n",
       "      <td>2</td>\n",
       "      <td>25</td>\n",
       "      <td>37888</td>\n",
       "      <td>185344</td>\n",
       "      <td>0</td>\n",
       "      <td>...</td>\n",
       "      <td>26</td>\n",
       "      <td>3.377663</td>\n",
       "      <td>2.031619</td>\n",
       "      <td>5.050074</td>\n",
       "      <td>6905.846154</td>\n",
       "      <td>44</td>\n",
       "      <td>67624</td>\n",
       "      <td>0</td>\n",
       "      <td>15</td>\n",
       "      <td>0</td>\n",
       "    </tr>\n",
       "    <tr>\n",
       "      <th>138044</th>\n",
       "      <td>VirusShare_8d088a51b7d225c9f5d11d239791ec3f</td>\n",
       "      <td>8d088a51b7d225c9f5d11d239791ec3f</td>\n",
       "      <td>332</td>\n",
       "      <td>224</td>\n",
       "      <td>258</td>\n",
       "      <td>10</td>\n",
       "      <td>0</td>\n",
       "      <td>118272</td>\n",
       "      <td>380416</td>\n",
       "      <td>0</td>\n",
       "      <td>...</td>\n",
       "      <td>22</td>\n",
       "      <td>6.825406</td>\n",
       "      <td>2.617026</td>\n",
       "      <td>7.990487</td>\n",
       "      <td>14981.909091</td>\n",
       "      <td>48</td>\n",
       "      <td>22648</td>\n",
       "      <td>72</td>\n",
       "      <td>14</td>\n",
       "      <td>0</td>\n",
       "    </tr>\n",
       "    <tr>\n",
       "      <th>138045</th>\n",
       "      <td>VirusShare_4286dccf67ca220fe67635388229a9f3</td>\n",
       "      <td>4286dccf67ca220fe67635388229a9f3</td>\n",
       "      <td>332</td>\n",
       "      <td>224</td>\n",
       "      <td>33166</td>\n",
       "      <td>2</td>\n",
       "      <td>25</td>\n",
       "      <td>49152</td>\n",
       "      <td>16896</td>\n",
       "      <td>0</td>\n",
       "      <td>...</td>\n",
       "      <td>10</td>\n",
       "      <td>3.421627</td>\n",
       "      <td>2.060964</td>\n",
       "      <td>4.739744</td>\n",
       "      <td>601.600000</td>\n",
       "      <td>16</td>\n",
       "      <td>2216</td>\n",
       "      <td>0</td>\n",
       "      <td>0</td>\n",
       "      <td>0</td>\n",
       "    </tr>\n",
       "    <tr>\n",
       "      <th>138046</th>\n",
       "      <td>VirusShare_d7648eae45f09b3adb75127f43be6d11</td>\n",
       "      <td>d7648eae45f09b3adb75127f43be6d11</td>\n",
       "      <td>332</td>\n",
       "      <td>224</td>\n",
       "      <td>258</td>\n",
       "      <td>11</td>\n",
       "      <td>0</td>\n",
       "      <td>111616</td>\n",
       "      <td>468480</td>\n",
       "      <td>0</td>\n",
       "      <td>...</td>\n",
       "      <td>4</td>\n",
       "      <td>4.407252</td>\n",
       "      <td>1.980482</td>\n",
       "      <td>6.115374</td>\n",
       "      <td>96625.000000</td>\n",
       "      <td>20</td>\n",
       "      <td>318464</td>\n",
       "      <td>72</td>\n",
       "      <td>0</td>\n",
       "      <td>0</td>\n",
       "    </tr>\n",
       "  </tbody>\n",
       "</table>\n",
       "<p>138047 rows × 57 columns</p>\n",
       "</div>"
      ],
      "text/plain": [
       "                                               Name  \\\n",
       "0                                       memtest.exe   \n",
       "1                                           ose.exe   \n",
       "2                                         setup.exe   \n",
       "3                                          DW20.EXE   \n",
       "4                                      dwtrig20.exe   \n",
       "...                                             ...   \n",
       "138042  VirusShare_8e292b418568d6e7b87f2a32aee7074b   \n",
       "138043  VirusShare_260d9e2258aed4c8a3bbd703ec895822   \n",
       "138044  VirusShare_8d088a51b7d225c9f5d11d239791ec3f   \n",
       "138045  VirusShare_4286dccf67ca220fe67635388229a9f3   \n",
       "138046  VirusShare_d7648eae45f09b3adb75127f43be6d11   \n",
       "\n",
       "                                     md5  Machine  SizeOfOptionalHeader  \\\n",
       "0       631ea355665f28d4707448e442fbf5b8      332                   224   \n",
       "1       9d10f99a6712e28f8acd5641e3a7ea6b      332                   224   \n",
       "2       4d92f518527353c0db88a70fddcfd390      332                   224   \n",
       "3       a41e524f8d45f0074fd07805ff0c9b12      332                   224   \n",
       "4       c87e561258f2f8650cef999bf643a731      332                   224   \n",
       "...                                  ...      ...                   ...   \n",
       "138042  8e292b418568d6e7b87f2a32aee7074b      332                   224   \n",
       "138043  260d9e2258aed4c8a3bbd703ec895822      332                   224   \n",
       "138044  8d088a51b7d225c9f5d11d239791ec3f      332                   224   \n",
       "138045  4286dccf67ca220fe67635388229a9f3      332                   224   \n",
       "138046  d7648eae45f09b3adb75127f43be6d11      332                   224   \n",
       "\n",
       "        Characteristics  MajorLinkerVersion  MinorLinkerVersion  SizeOfCode  \\\n",
       "0                   258                   9                   0      361984   \n",
       "1                  3330                   9                   0      130560   \n",
       "2                  3330                   9                   0      517120   \n",
       "3                   258                   9                   0      585728   \n",
       "4                   258                   9                   0      294912   \n",
       "...                 ...                 ...                 ...         ...   \n",
       "138042              258                  11                   0      205824   \n",
       "138043            33167                   2                  25       37888   \n",
       "138044              258                  10                   0      118272   \n",
       "138045            33166                   2                  25       49152   \n",
       "138046              258                  11                   0      111616   \n",
       "\n",
       "        SizeOfInitializedData  SizeOfUninitializedData  ...  ResourcesNb  \\\n",
       "0                      115712                        0  ...            4   \n",
       "1                       19968                        0  ...            2   \n",
       "2                      621568                        0  ...           11   \n",
       "3                      369152                        0  ...           10   \n",
       "4                      247296                        0  ...            2   \n",
       "...                       ...                      ...  ...          ...   \n",
       "138042                 223744                        0  ...            7   \n",
       "138043                 185344                        0  ...           26   \n",
       "138044                 380416                        0  ...           22   \n",
       "138045                  16896                        0  ...           10   \n",
       "138046                 468480                        0  ...            4   \n",
       "\n",
       "        ResourcesMeanEntropy  ResourcesMinEntropy  ResourcesMaxEntropy  \\\n",
       "0                   3.262823             2.568844             3.537939   \n",
       "1                   4.250461             3.420744             5.080177   \n",
       "2                   4.426324             2.846449             5.271813   \n",
       "3                   4.364291             2.669314             6.400720   \n",
       "4                   4.306100             3.421598             5.190603   \n",
       "...                      ...                  ...                  ...   \n",
       "138042              4.122736             1.370260             7.677091   \n",
       "138043              3.377663             2.031619             5.050074   \n",
       "138044              6.825406             2.617026             7.990487   \n",
       "138045              3.421627             2.060964             4.739744   \n",
       "138046              4.407252             1.980482             6.115374   \n",
       "\n",
       "        ResourcesMeanSize  ResourcesMinSize  ResourcesMaxSize  \\\n",
       "0             8797.000000               216             18032   \n",
       "1              837.000000               518              1156   \n",
       "2            31102.272727               104            270376   \n",
       "3             1457.000000                90              4264   \n",
       "4             1074.500000               849              1300   \n",
       "...                   ...               ...               ...   \n",
       "138042       14900.714286                16             81654   \n",
       "138043        6905.846154                44             67624   \n",
       "138044       14981.909091                48             22648   \n",
       "138045         601.600000                16              2216   \n",
       "138046       96625.000000                20            318464   \n",
       "\n",
       "        LoadConfigurationSize  VersionInformationSize  legitimate  \n",
       "0                           0                      16           1  \n",
       "1                          72                      18           1  \n",
       "2                          72                      18           1  \n",
       "3                          72                      18           1  \n",
       "4                          72                      18           1  \n",
       "...                       ...                     ...         ...  \n",
       "138042                     72                       0           0  \n",
       "138043                      0                      15           0  \n",
       "138044                     72                      14           0  \n",
       "138045                      0                       0           0  \n",
       "138046                     72                       0           0  \n",
       "\n",
       "[138047 rows x 57 columns]"
      ]
     },
     "execution_count": 133,
     "metadata": {},
     "output_type": "execute_result"
    }
   ],
   "source": [
    "data"
   ]
  },
  {
   "cell_type": "code",
   "execution_count": 342,
   "metadata": {},
   "outputs": [],
   "source": [
    "data.drop(['Name', 'md5'], axis = 1, inplace = True)"
   ]
  },
  {
   "cell_type": "code",
   "execution_count": 343,
   "metadata": {},
   "outputs": [
    {
     "data": {
      "text/html": [
       "<div>\n",
       "<style scoped>\n",
       "    .dataframe tbody tr th:only-of-type {\n",
       "        vertical-align: middle;\n",
       "    }\n",
       "\n",
       "    .dataframe tbody tr th {\n",
       "        vertical-align: top;\n",
       "    }\n",
       "\n",
       "    .dataframe thead th {\n",
       "        text-align: right;\n",
       "    }\n",
       "</style>\n",
       "<table border=\"1\" class=\"dataframe\">\n",
       "  <thead>\n",
       "    <tr style=\"text-align: right;\">\n",
       "      <th></th>\n",
       "      <th>Machine</th>\n",
       "      <th>SizeOfOptionalHeader</th>\n",
       "      <th>Characteristics</th>\n",
       "      <th>MajorLinkerVersion</th>\n",
       "      <th>MinorLinkerVersion</th>\n",
       "      <th>SizeOfCode</th>\n",
       "      <th>SizeOfInitializedData</th>\n",
       "      <th>SizeOfUninitializedData</th>\n",
       "      <th>AddressOfEntryPoint</th>\n",
       "      <th>BaseOfCode</th>\n",
       "      <th>...</th>\n",
       "      <th>ResourcesNb</th>\n",
       "      <th>ResourcesMeanEntropy</th>\n",
       "      <th>ResourcesMinEntropy</th>\n",
       "      <th>ResourcesMaxEntropy</th>\n",
       "      <th>ResourcesMeanSize</th>\n",
       "      <th>ResourcesMinSize</th>\n",
       "      <th>ResourcesMaxSize</th>\n",
       "      <th>LoadConfigurationSize</th>\n",
       "      <th>VersionInformationSize</th>\n",
       "      <th>legitimate</th>\n",
       "    </tr>\n",
       "  </thead>\n",
       "  <tbody>\n",
       "    <tr>\n",
       "      <th>0</th>\n",
       "      <td>332</td>\n",
       "      <td>224</td>\n",
       "      <td>258</td>\n",
       "      <td>9</td>\n",
       "      <td>0</td>\n",
       "      <td>361984</td>\n",
       "      <td>115712</td>\n",
       "      <td>0</td>\n",
       "      <td>6135</td>\n",
       "      <td>4096</td>\n",
       "      <td>...</td>\n",
       "      <td>4</td>\n",
       "      <td>3.262823</td>\n",
       "      <td>2.568844</td>\n",
       "      <td>3.537939</td>\n",
       "      <td>8797.000000</td>\n",
       "      <td>216</td>\n",
       "      <td>18032</td>\n",
       "      <td>0</td>\n",
       "      <td>16</td>\n",
       "      <td>1</td>\n",
       "    </tr>\n",
       "    <tr>\n",
       "      <th>1</th>\n",
       "      <td>332</td>\n",
       "      <td>224</td>\n",
       "      <td>3330</td>\n",
       "      <td>9</td>\n",
       "      <td>0</td>\n",
       "      <td>130560</td>\n",
       "      <td>19968</td>\n",
       "      <td>0</td>\n",
       "      <td>81778</td>\n",
       "      <td>4096</td>\n",
       "      <td>...</td>\n",
       "      <td>2</td>\n",
       "      <td>4.250461</td>\n",
       "      <td>3.420744</td>\n",
       "      <td>5.080177</td>\n",
       "      <td>837.000000</td>\n",
       "      <td>518</td>\n",
       "      <td>1156</td>\n",
       "      <td>72</td>\n",
       "      <td>18</td>\n",
       "      <td>1</td>\n",
       "    </tr>\n",
       "    <tr>\n",
       "      <th>2</th>\n",
       "      <td>332</td>\n",
       "      <td>224</td>\n",
       "      <td>3330</td>\n",
       "      <td>9</td>\n",
       "      <td>0</td>\n",
       "      <td>517120</td>\n",
       "      <td>621568</td>\n",
       "      <td>0</td>\n",
       "      <td>350896</td>\n",
       "      <td>4096</td>\n",
       "      <td>...</td>\n",
       "      <td>11</td>\n",
       "      <td>4.426324</td>\n",
       "      <td>2.846449</td>\n",
       "      <td>5.271813</td>\n",
       "      <td>31102.272727</td>\n",
       "      <td>104</td>\n",
       "      <td>270376</td>\n",
       "      <td>72</td>\n",
       "      <td>18</td>\n",
       "      <td>1</td>\n",
       "    </tr>\n",
       "    <tr>\n",
       "      <th>3</th>\n",
       "      <td>332</td>\n",
       "      <td>224</td>\n",
       "      <td>258</td>\n",
       "      <td>9</td>\n",
       "      <td>0</td>\n",
       "      <td>585728</td>\n",
       "      <td>369152</td>\n",
       "      <td>0</td>\n",
       "      <td>451258</td>\n",
       "      <td>4096</td>\n",
       "      <td>...</td>\n",
       "      <td>10</td>\n",
       "      <td>4.364291</td>\n",
       "      <td>2.669314</td>\n",
       "      <td>6.400720</td>\n",
       "      <td>1457.000000</td>\n",
       "      <td>90</td>\n",
       "      <td>4264</td>\n",
       "      <td>72</td>\n",
       "      <td>18</td>\n",
       "      <td>1</td>\n",
       "    </tr>\n",
       "    <tr>\n",
       "      <th>4</th>\n",
       "      <td>332</td>\n",
       "      <td>224</td>\n",
       "      <td>258</td>\n",
       "      <td>9</td>\n",
       "      <td>0</td>\n",
       "      <td>294912</td>\n",
       "      <td>247296</td>\n",
       "      <td>0</td>\n",
       "      <td>217381</td>\n",
       "      <td>4096</td>\n",
       "      <td>...</td>\n",
       "      <td>2</td>\n",
       "      <td>4.306100</td>\n",
       "      <td>3.421598</td>\n",
       "      <td>5.190603</td>\n",
       "      <td>1074.500000</td>\n",
       "      <td>849</td>\n",
       "      <td>1300</td>\n",
       "      <td>72</td>\n",
       "      <td>18</td>\n",
       "      <td>1</td>\n",
       "    </tr>\n",
       "    <tr>\n",
       "      <th>...</th>\n",
       "      <td>...</td>\n",
       "      <td>...</td>\n",
       "      <td>...</td>\n",
       "      <td>...</td>\n",
       "      <td>...</td>\n",
       "      <td>...</td>\n",
       "      <td>...</td>\n",
       "      <td>...</td>\n",
       "      <td>...</td>\n",
       "      <td>...</td>\n",
       "      <td>...</td>\n",
       "      <td>...</td>\n",
       "      <td>...</td>\n",
       "      <td>...</td>\n",
       "      <td>...</td>\n",
       "      <td>...</td>\n",
       "      <td>...</td>\n",
       "      <td>...</td>\n",
       "      <td>...</td>\n",
       "      <td>...</td>\n",
       "      <td>...</td>\n",
       "    </tr>\n",
       "    <tr>\n",
       "      <th>138042</th>\n",
       "      <td>332</td>\n",
       "      <td>224</td>\n",
       "      <td>258</td>\n",
       "      <td>11</td>\n",
       "      <td>0</td>\n",
       "      <td>205824</td>\n",
       "      <td>223744</td>\n",
       "      <td>0</td>\n",
       "      <td>123291</td>\n",
       "      <td>4096</td>\n",
       "      <td>...</td>\n",
       "      <td>7</td>\n",
       "      <td>4.122736</td>\n",
       "      <td>1.370260</td>\n",
       "      <td>7.677091</td>\n",
       "      <td>14900.714286</td>\n",
       "      <td>16</td>\n",
       "      <td>81654</td>\n",
       "      <td>72</td>\n",
       "      <td>0</td>\n",
       "      <td>0</td>\n",
       "    </tr>\n",
       "    <tr>\n",
       "      <th>138043</th>\n",
       "      <td>332</td>\n",
       "      <td>224</td>\n",
       "      <td>33167</td>\n",
       "      <td>2</td>\n",
       "      <td>25</td>\n",
       "      <td>37888</td>\n",
       "      <td>185344</td>\n",
       "      <td>0</td>\n",
       "      <td>40000</td>\n",
       "      <td>4096</td>\n",
       "      <td>...</td>\n",
       "      <td>26</td>\n",
       "      <td>3.377663</td>\n",
       "      <td>2.031619</td>\n",
       "      <td>5.050074</td>\n",
       "      <td>6905.846154</td>\n",
       "      <td>44</td>\n",
       "      <td>67624</td>\n",
       "      <td>0</td>\n",
       "      <td>15</td>\n",
       "      <td>0</td>\n",
       "    </tr>\n",
       "    <tr>\n",
       "      <th>138044</th>\n",
       "      <td>332</td>\n",
       "      <td>224</td>\n",
       "      <td>258</td>\n",
       "      <td>10</td>\n",
       "      <td>0</td>\n",
       "      <td>118272</td>\n",
       "      <td>380416</td>\n",
       "      <td>0</td>\n",
       "      <td>59610</td>\n",
       "      <td>4096</td>\n",
       "      <td>...</td>\n",
       "      <td>22</td>\n",
       "      <td>6.825406</td>\n",
       "      <td>2.617026</td>\n",
       "      <td>7.990487</td>\n",
       "      <td>14981.909091</td>\n",
       "      <td>48</td>\n",
       "      <td>22648</td>\n",
       "      <td>72</td>\n",
       "      <td>14</td>\n",
       "      <td>0</td>\n",
       "    </tr>\n",
       "    <tr>\n",
       "      <th>138045</th>\n",
       "      <td>332</td>\n",
       "      <td>224</td>\n",
       "      <td>33166</td>\n",
       "      <td>2</td>\n",
       "      <td>25</td>\n",
       "      <td>49152</td>\n",
       "      <td>16896</td>\n",
       "      <td>0</td>\n",
       "      <td>51216</td>\n",
       "      <td>4096</td>\n",
       "      <td>...</td>\n",
       "      <td>10</td>\n",
       "      <td>3.421627</td>\n",
       "      <td>2.060964</td>\n",
       "      <td>4.739744</td>\n",
       "      <td>601.600000</td>\n",
       "      <td>16</td>\n",
       "      <td>2216</td>\n",
       "      <td>0</td>\n",
       "      <td>0</td>\n",
       "      <td>0</td>\n",
       "    </tr>\n",
       "    <tr>\n",
       "      <th>138046</th>\n",
       "      <td>332</td>\n",
       "      <td>224</td>\n",
       "      <td>258</td>\n",
       "      <td>11</td>\n",
       "      <td>0</td>\n",
       "      <td>111616</td>\n",
       "      <td>468480</td>\n",
       "      <td>0</td>\n",
       "      <td>22731</td>\n",
       "      <td>4096</td>\n",
       "      <td>...</td>\n",
       "      <td>4</td>\n",
       "      <td>4.407252</td>\n",
       "      <td>1.980482</td>\n",
       "      <td>6.115374</td>\n",
       "      <td>96625.000000</td>\n",
       "      <td>20</td>\n",
       "      <td>318464</td>\n",
       "      <td>72</td>\n",
       "      <td>0</td>\n",
       "      <td>0</td>\n",
       "    </tr>\n",
       "  </tbody>\n",
       "</table>\n",
       "<p>138047 rows × 55 columns</p>\n",
       "</div>"
      ],
      "text/plain": [
       "        Machine  SizeOfOptionalHeader  Characteristics  MajorLinkerVersion  \\\n",
       "0           332                   224              258                   9   \n",
       "1           332                   224             3330                   9   \n",
       "2           332                   224             3330                   9   \n",
       "3           332                   224              258                   9   \n",
       "4           332                   224              258                   9   \n",
       "...         ...                   ...              ...                 ...   \n",
       "138042      332                   224              258                  11   \n",
       "138043      332                   224            33167                   2   \n",
       "138044      332                   224              258                  10   \n",
       "138045      332                   224            33166                   2   \n",
       "138046      332                   224              258                  11   \n",
       "\n",
       "        MinorLinkerVersion  SizeOfCode  SizeOfInitializedData  \\\n",
       "0                        0      361984                 115712   \n",
       "1                        0      130560                  19968   \n",
       "2                        0      517120                 621568   \n",
       "3                        0      585728                 369152   \n",
       "4                        0      294912                 247296   \n",
       "...                    ...         ...                    ...   \n",
       "138042                   0      205824                 223744   \n",
       "138043                  25       37888                 185344   \n",
       "138044                   0      118272                 380416   \n",
       "138045                  25       49152                  16896   \n",
       "138046                   0      111616                 468480   \n",
       "\n",
       "        SizeOfUninitializedData  AddressOfEntryPoint  BaseOfCode  ...  \\\n",
       "0                             0                 6135        4096  ...   \n",
       "1                             0                81778        4096  ...   \n",
       "2                             0               350896        4096  ...   \n",
       "3                             0               451258        4096  ...   \n",
       "4                             0               217381        4096  ...   \n",
       "...                         ...                  ...         ...  ...   \n",
       "138042                        0               123291        4096  ...   \n",
       "138043                        0                40000        4096  ...   \n",
       "138044                        0                59610        4096  ...   \n",
       "138045                        0                51216        4096  ...   \n",
       "138046                        0                22731        4096  ...   \n",
       "\n",
       "        ResourcesNb  ResourcesMeanEntropy  ResourcesMinEntropy  \\\n",
       "0                 4              3.262823             2.568844   \n",
       "1                 2              4.250461             3.420744   \n",
       "2                11              4.426324             2.846449   \n",
       "3                10              4.364291             2.669314   \n",
       "4                 2              4.306100             3.421598   \n",
       "...             ...                   ...                  ...   \n",
       "138042            7              4.122736             1.370260   \n",
       "138043           26              3.377663             2.031619   \n",
       "138044           22              6.825406             2.617026   \n",
       "138045           10              3.421627             2.060964   \n",
       "138046            4              4.407252             1.980482   \n",
       "\n",
       "        ResourcesMaxEntropy  ResourcesMeanSize  ResourcesMinSize  \\\n",
       "0                  3.537939        8797.000000               216   \n",
       "1                  5.080177         837.000000               518   \n",
       "2                  5.271813       31102.272727               104   \n",
       "3                  6.400720        1457.000000                90   \n",
       "4                  5.190603        1074.500000               849   \n",
       "...                     ...                ...               ...   \n",
       "138042             7.677091       14900.714286                16   \n",
       "138043             5.050074        6905.846154                44   \n",
       "138044             7.990487       14981.909091                48   \n",
       "138045             4.739744         601.600000                16   \n",
       "138046             6.115374       96625.000000                20   \n",
       "\n",
       "        ResourcesMaxSize  LoadConfigurationSize  VersionInformationSize  \\\n",
       "0                  18032                      0                      16   \n",
       "1                   1156                     72                      18   \n",
       "2                 270376                     72                      18   \n",
       "3                   4264                     72                      18   \n",
       "4                   1300                     72                      18   \n",
       "...                  ...                    ...                     ...   \n",
       "138042             81654                     72                       0   \n",
       "138043             67624                      0                      15   \n",
       "138044             22648                     72                      14   \n",
       "138045              2216                      0                       0   \n",
       "138046            318464                     72                       0   \n",
       "\n",
       "        legitimate  \n",
       "0                1  \n",
       "1                1  \n",
       "2                1  \n",
       "3                1  \n",
       "4                1  \n",
       "...            ...  \n",
       "138042           0  \n",
       "138043           0  \n",
       "138044           0  \n",
       "138045           0  \n",
       "138046           0  \n",
       "\n",
       "[138047 rows x 55 columns]"
      ]
     },
     "execution_count": 343,
     "metadata": {},
     "output_type": "execute_result"
    }
   ],
   "source": [
    "data"
   ]
  },
  {
   "cell_type": "code",
   "execution_count": 344,
   "metadata": {},
   "outputs": [],
   "source": [
    "data_input = data.drop(['legitimate'], axis = 1)\n",
    "target = data['legitimate']"
   ]
  },
  {
   "cell_type": "code",
   "execution_count": 377,
   "metadata": {},
   "outputs": [
    {
     "name": "stdout",
     "output_type": "stream",
     "text": [
      "Malicious files make up 70.06599201721153% of the dataset\n",
      "Legitimate files make up 29.93400798278847% of the dataset\n"
     ]
    }
   ],
   "source": [
    "t =  target.value_counts()/len(target)*100\n",
    "print('Malicious files make up ' + str(t[0]) + '% of the dataset')\n",
    "print('Legitimate files make up ' + str(t[1]) + '% of the dataset')"
   ]
  },
  {
   "cell_type": "code",
   "execution_count": 346,
   "metadata": {},
   "outputs": [],
   "source": [
    "import matplotlib.pyplot as plt\n",
    "import math\n",
    "from sklearn.model_selection import train_test_split\n",
    "from sklearn import metrics\n",
    "from sklearn.preprocessing import StandardScaler\n",
    "from sklearn.decomposition import PCA"
   ]
  },
  {
   "cell_type": "code",
   "execution_count": 347,
   "metadata": {},
   "outputs": [],
   "source": [
    "train_data, test_data, train_label, test_label = train_test_split(data_input, target, test_size = 0.2)"
   ]
  },
  {
   "cell_type": "code",
   "execution_count": 348,
   "metadata": {},
   "outputs": [],
   "source": [
    "scaler = StandardScaler()\n",
    "scaler.fit(train_data)\n",
    "\n",
    "train_datas = scaler.transform(train_data)\n",
    "test_datas = scaler.transform(test_data)"
   ]
  },
  {
   "cell_type": "code",
   "execution_count": 349,
   "metadata": {},
   "outputs": [],
   "source": [
    "import tensorflow as tf\n",
    "from tensorflow import keras\n",
    "from tensorflow.keras import layers, models, Sequential\n",
    "from tensorflow.keras.layers import Dense, Dropout, Flatten, Conv2D, MaxPooling2D\n",
    "from tensorflow.keras.callbacks import EarlyStopping\n",
    "from tensorflow.keras.layers import BatchNormalization\n",
    "from tensorflow.keras import initializers\n",
    "from tensorflow.keras.optimizers import SGD, Adam"
   ]
  },
  {
   "cell_type": "code",
   "execution_count": 350,
   "metadata": {},
   "outputs": [],
   "source": [
    "monitor_val_acc = EarlyStopping(monitor = 'val_accuracy', patience = 10)"
   ]
  },
  {
   "cell_type": "code",
   "execution_count": 351,
   "metadata": {},
   "outputs": [
    {
     "name": "stdout",
     "output_type": "stream",
     "text": [
      "Model: \"sequential_46\"\n",
      "_________________________________________________________________\n",
      "Layer (type)                 Output Shape              Param #   \n",
      "=================================================================\n",
      "dense_47 (Dense)             (None, 27)                1485      \n",
      "_________________________________________________________________\n",
      "dense_48 (Dense)             (None, 1)                 28        \n",
      "=================================================================\n",
      "Total params: 1,513\n",
      "Trainable params: 1,513\n",
      "Non-trainable params: 0\n",
      "_________________________________________________________________\n"
     ]
    }
   ],
   "source": [
    "model = Sequential()\n",
    "model.add(Dense(27, input_shape = (54,), activation = 'relu'))\n",
    "model.add(Dense(1, activation = 'sigmoid'))\n",
    "model.compile(loss = 'binary_crossentropy', optimizer = 'adam', metrics = ['accuracy'])\n",
    "model.summary()"
   ]
  },
  {
   "cell_type": "code",
   "execution_count": 352,
   "metadata": {},
   "outputs": [
    {
     "name": "stdout",
     "output_type": "stream",
     "text": [
      "Epoch 1/2000\n",
      "3107/3107 [==============================] - 5s 1ms/step - loss: 0.0701 - accuracy: 0.9793 - val_loss: 0.0374 - val_accuracy: 0.9889\n",
      "Epoch 2/2000\n",
      "3107/3107 [==============================] - 5s 1ms/step - loss: 0.0431 - accuracy: 0.9877 - val_loss: 0.0354 - val_accuracy: 0.9892\n",
      "Epoch 3/2000\n",
      "3107/3107 [==============================] - 5s 2ms/step - loss: 0.0396 - accuracy: 0.9884 - val_loss: 0.0336 - val_accuracy: 0.9895\n",
      "Epoch 4/2000\n",
      "3107/3107 [==============================] - 6s 2ms/step - loss: 0.0370 - accuracy: 0.9888 - val_loss: 0.0335 - val_accuracy: 0.9896\n",
      "Epoch 5/2000\n",
      "3107/3107 [==============================] - 5s 2ms/step - loss: 0.0357 - accuracy: 0.9889 - val_loss: 0.0322 - val_accuracy: 0.9893\n",
      "Epoch 6/2000\n",
      "3107/3107 [==============================] - 3s 810us/step - loss: 0.0339 - accuracy: 0.9891 - val_loss: 0.0326 - val_accuracy: 0.9899\n",
      "Epoch 7/2000\n",
      "3107/3107 [==============================] - 2s 631us/step - loss: 0.0331 - accuracy: 0.9891 - val_loss: 0.0322 - val_accuracy: 0.9896\n",
      "Epoch 8/2000\n",
      "3107/3107 [==============================] - 2s 610us/step - loss: 0.0326 - accuracy: 0.9894 - val_loss: 0.0318 - val_accuracy: 0.9899\n",
      "Epoch 9/2000\n",
      "3107/3107 [==============================] - 2s 658us/step - loss: 0.0317 - accuracy: 0.9895 - val_loss: 0.0313 - val_accuracy: 0.9899\n",
      "Epoch 10/2000\n",
      "3107/3107 [==============================] - 2s 676us/step - loss: 0.0312 - accuracy: 0.9896 - val_loss: 0.0304 - val_accuracy: 0.9905\n",
      "Epoch 11/2000\n",
      "3107/3107 [==============================] - 2s 628us/step - loss: 0.0308 - accuracy: 0.9898 - val_loss: 0.0307 - val_accuracy: 0.9905\n",
      "Epoch 12/2000\n",
      "3107/3107 [==============================] - 2s 618us/step - loss: 0.0302 - accuracy: 0.9899 - val_loss: 0.0304 - val_accuracy: 0.9909\n",
      "Epoch 13/2000\n",
      "3107/3107 [==============================] - 2s 618us/step - loss: 0.0300 - accuracy: 0.9901 - val_loss: 0.0306 - val_accuracy: 0.9902\n",
      "Epoch 14/2000\n",
      "3107/3107 [==============================] - 2s 675us/step - loss: 0.0296 - accuracy: 0.9898 - val_loss: 0.0308 - val_accuracy: 0.9904\n",
      "Epoch 15/2000\n",
      "3107/3107 [==============================] - 2s 659us/step - loss: 0.0293 - accuracy: 0.9902 - val_loss: 0.0306 - val_accuracy: 0.9913\n",
      "Epoch 16/2000\n",
      "3107/3107 [==============================] - 2s 628us/step - loss: 0.0288 - accuracy: 0.9903 - val_loss: 0.0313 - val_accuracy: 0.9907\n",
      "Epoch 17/2000\n",
      "3107/3107 [==============================] - 2s 635us/step - loss: 0.0286 - accuracy: 0.9902 - val_loss: 0.0308 - val_accuracy: 0.9909\n",
      "Epoch 18/2000\n",
      "3107/3107 [==============================] - 2s 618us/step - loss: 0.0285 - accuracy: 0.9903 - val_loss: 0.0301 - val_accuracy: 0.9908\n",
      "Epoch 19/2000\n",
      "3107/3107 [==============================] - 2s 636us/step - loss: 0.0282 - accuracy: 0.9904 - val_loss: 0.0292 - val_accuracy: 0.9907\n",
      "Epoch 20/2000\n",
      "3107/3107 [==============================] - 2s 618us/step - loss: 0.0277 - accuracy: 0.9907 - val_loss: 0.0291 - val_accuracy: 0.9911\n",
      "Epoch 21/2000\n",
      "3107/3107 [==============================] - 2s 613us/step - loss: 0.0277 - accuracy: 0.9906 - val_loss: 0.0292 - val_accuracy: 0.9912\n",
      "Epoch 22/2000\n",
      "3107/3107 [==============================] - 2s 641us/step - loss: 0.0273 - accuracy: 0.9907 - val_loss: 0.0293 - val_accuracy: 0.9909\n",
      "Epoch 23/2000\n",
      "3107/3107 [==============================] - 2s 625us/step - loss: 0.0273 - accuracy: 0.9909 - val_loss: 0.0295 - val_accuracy: 0.9915\n",
      "Epoch 24/2000\n",
      "3107/3107 [==============================] - 2s 631us/step - loss: 0.0271 - accuracy: 0.9909 - val_loss: 0.0296 - val_accuracy: 0.9907\n",
      "Epoch 25/2000\n",
      "3107/3107 [==============================] - 2s 620us/step - loss: 0.0268 - accuracy: 0.9908 - val_loss: 0.0297 - val_accuracy: 0.9909\n",
      "Epoch 26/2000\n",
      "3107/3107 [==============================] - 2s 673us/step - loss: 0.0266 - accuracy: 0.9908 - val_loss: 0.0298 - val_accuracy: 0.9909\n",
      "Epoch 27/2000\n",
      "3107/3107 [==============================] - 2s 747us/step - loss: 0.0266 - accuracy: 0.9910 - val_loss: 0.0293 - val_accuracy: 0.9909\n",
      "Epoch 28/2000\n",
      "3107/3107 [==============================] - 2s 646us/step - loss: 0.0264 - accuracy: 0.9910 - val_loss: 0.0288 - val_accuracy: 0.9916\n",
      "Epoch 29/2000\n",
      "3107/3107 [==============================] - 2s 672us/step - loss: 0.0262 - accuracy: 0.9911 - val_loss: 0.0306 - val_accuracy: 0.9910\n",
      "Epoch 30/2000\n",
      "3107/3107 [==============================] - 2s 655us/step - loss: 0.0261 - accuracy: 0.9911 - val_loss: 0.0287 - val_accuracy: 0.9914\n",
      "Epoch 31/2000\n",
      "3107/3107 [==============================] - 2s 639us/step - loss: 0.0266 - accuracy: 0.9909 - val_loss: 0.0282 - val_accuracy: 0.9919\n",
      "Epoch 32/2000\n",
      "3107/3107 [==============================] - 2s 622us/step - loss: 0.0259 - accuracy: 0.9915 - val_loss: 0.0277 - val_accuracy: 0.9911\n",
      "Epoch 33/2000\n",
      "3107/3107 [==============================] - 2s 617us/step - loss: 0.0256 - accuracy: 0.9911 - val_loss: 0.0286 - val_accuracy: 0.9913\n",
      "Epoch 34/2000\n",
      "3107/3107 [==============================] - 2s 656us/step - loss: 0.0258 - accuracy: 0.9913 - val_loss: 0.0287 - val_accuracy: 0.9916\n",
      "Epoch 35/2000\n",
      "3107/3107 [==============================] - 2s 650us/step - loss: 0.0254 - accuracy: 0.9912 - val_loss: 0.0288 - val_accuracy: 0.9920\n",
      "Epoch 36/2000\n",
      "3107/3107 [==============================] - 2s 638us/step - loss: 0.0252 - accuracy: 0.9915 - val_loss: 0.0313 - val_accuracy: 0.9910\n",
      "Epoch 37/2000\n",
      "3107/3107 [==============================] - 2s 627us/step - loss: 0.0253 - accuracy: 0.9912 - val_loss: 0.0288 - val_accuracy: 0.9908\n",
      "Epoch 38/2000\n",
      "3107/3107 [==============================] - 2s 657us/step - loss: 0.0252 - accuracy: 0.9913 - val_loss: 0.0288 - val_accuracy: 0.9913\n",
      "Epoch 39/2000\n",
      "3107/3107 [==============================] - 2s 650us/step - loss: 0.0249 - accuracy: 0.9914 - val_loss: 0.0294 - val_accuracy: 0.9916\n",
      "Epoch 40/2000\n",
      "3107/3107 [==============================] - 2s 645us/step - loss: 0.0251 - accuracy: 0.9914 - val_loss: 0.0285 - val_accuracy: 0.9918\n",
      "Epoch 41/2000\n",
      "3107/3107 [==============================] - 2s 651us/step - loss: 0.0248 - accuracy: 0.9914 - val_loss: 0.0282 - val_accuracy: 0.9917\n",
      "Epoch 42/2000\n",
      "3107/3107 [==============================] - 2s 652us/step - loss: 0.0247 - accuracy: 0.9915 - val_loss: 0.0291 - val_accuracy: 0.9919\n",
      "Epoch 43/2000\n",
      "3107/3107 [==============================] - 2s 648us/step - loss: 0.0246 - accuracy: 0.9915 - val_loss: 0.0291 - val_accuracy: 0.9923\n",
      "Epoch 44/2000\n",
      "3107/3107 [==============================] - 2s 644us/step - loss: 0.0244 - accuracy: 0.9914 - val_loss: 0.0299 - val_accuracy: 0.9914\n",
      "Epoch 45/2000\n",
      "3107/3107 [==============================] - 2s 652us/step - loss: 0.0249 - accuracy: 0.9916 - val_loss: 0.0291 - val_accuracy: 0.9916\n",
      "Epoch 46/2000\n",
      "3107/3107 [==============================] - 2s 649us/step - loss: 0.0250 - accuracy: 0.9916 - val_loss: 0.0287 - val_accuracy: 0.9909\n",
      "Epoch 47/2000\n",
      "3107/3107 [==============================] - 2s 644us/step - loss: 0.0244 - accuracy: 0.9919 - val_loss: 0.0289 - val_accuracy: 0.9922\n",
      "Epoch 48/2000\n",
      "3107/3107 [==============================] - 2s 660us/step - loss: 0.0241 - accuracy: 0.9919 - val_loss: 0.0295 - val_accuracy: 0.9915\n",
      "Epoch 49/2000\n",
      "3107/3107 [==============================] - 2s 675us/step - loss: 0.0245 - accuracy: 0.9916 - val_loss: 0.0290 - val_accuracy: 0.9918\n",
      "Epoch 50/2000\n",
      "3107/3107 [==============================] - 2s 761us/step - loss: 0.0239 - accuracy: 0.9918 - val_loss: 0.0289 - val_accuracy: 0.9918\n",
      "Epoch 51/2000\n",
      "3107/3107 [==============================] - 2s 677us/step - loss: 0.0243 - accuracy: 0.9918 - val_loss: 0.0290 - val_accuracy: 0.9917\n",
      "Epoch 52/2000\n",
      "3107/3107 [==============================] - 2s 779us/step - loss: 0.0243 - accuracy: 0.9916 - val_loss: 0.0295 - val_accuracy: 0.9915\n",
      "Epoch 53/2000\n",
      "3107/3107 [==============================] - 2s 665us/step - loss: 0.0240 - accuracy: 0.9918 - val_loss: 0.0291 - val_accuracy: 0.9922\n"
     ]
    },
    {
     "data": {
      "text/plain": [
       "<tensorflow.python.keras.callbacks.History at 0x2c100180d30>"
      ]
     },
     "execution_count": 352,
     "metadata": {},
     "output_type": "execute_result"
    }
   ],
   "source": [
    "model.fit(train_datas, train_label, epochs = 2000, validation_split = 0.1,\n",
    "                 callbacks = [monitor_val_acc])"
   ]
  },
  {
   "cell_type": "code",
   "execution_count": 353,
   "metadata": {},
   "outputs": [
    {
     "name": "stdout",
     "output_type": "stream",
     "text": [
      "863/863 [==============================] - 0s 427us/step - loss: 0.0353 - accuracy: 0.9893\n"
     ]
    },
    {
     "data": {
      "text/plain": [
       "[0.03533048555254936, 0.9893154501914978]"
      ]
     },
     "execution_count": 353,
     "metadata": {},
     "output_type": "execute_result"
    }
   ],
   "source": [
    "model.evaluate(test_datas, test_label)"
   ]
  },
  {
   "cell_type": "code",
   "execution_count": 354,
   "metadata": {},
   "outputs": [
    {
     "data": {
      "image/png": "[encoded data removed]",
      "text/plain": [
       "<Figure size 432x288 with 2 Axes>"
      ]
     },
     "metadata": {
      "needs_background": "light"
     },
     "output_type": "display_data"
    },
    {
     "data": {
      "image/png": "[encoded data removed]",
      "text/plain": [
       "<Figure size 432x288 with 2 Axes>"
      ]
     },
     "metadata": {
      "needs_background": "light"
     },
     "output_type": "display_data"
    }
   ],
   "source": [
    "preds = np.round(model.predict(test_datas))\n",
    "\n",
    "class_names = np.array(['Malware', ' Legit'])\n",
    "\n",
    "cm = confusion_matrix(np.array(test_label), preds)\n",
    "\n",
    "plot_confusion_matrix(conf_mat = cm, class_names = class_names, colorbar = True)\n",
    "plot_confusion_matrix(conf_mat = cm, class_names = class_names, show_absolute = False, show_normed = True, colorbar = True)\n",
    "plt.show()"
   ]
  },
  {
   "cell_type": "code",
   "execution_count": 355,
   "metadata": {},
   "outputs": [],
   "source": [
    "def img_convert(data, length, width): \n",
    "    final = np.zeros((len(data), length, width))\n",
    "    for i in range(len(data)):\n",
    "        new = np.reshape(data[i], (length, width))\n",
    "        final[i] = new\n",
    "    return final\n",
    "\n",
    "def plot(data, x):\n",
    "    plt.figure(figsize =(20, 20))\n",
    "    for i in range(x):\n",
    "        plt.subplot(m.ceil(m.sqrt(x)), m.ceil(m.sqrt(x)), i+1)\n",
    "        try: \n",
    "            plt.imshow(data[i])\n",
    "        except:\n",
    "            plt.imshow(data[i].squeeze())\n",
    "        plt.colorbar()\n",
    "        plt.grid(False)\n",
    "    plt.show()"
   ]
  },
  {
   "cell_type": "code",
   "execution_count": 356,
   "metadata": {},
   "outputs": [],
   "source": [
    "final_train = img_convert(train_datas, 9, 6)\n",
    "final_test  = img_convert(test_datas, 9, 6)\n",
    "\n",
    "final_train = np.expand_dims(final_train, -1)\n",
    "final_test  = np.expand_dims(final_test, -1)"
   ]
  },
  {
   "cell_type": "code",
   "execution_count": 357,
   "metadata": {},
   "outputs": [
    {
     "data": {
      "image/png": "[encoded data removed]",
      "text/plain": [
       "<Figure size 1440x1440 with 20 Axes>"
      ]
     },
     "metadata": {
      "needs_background": "light"
     },
     "output_type": "display_data"
    }
   ],
   "source": [
    "plot(final_train, 10)"
   ]
  },
  {
   "cell_type": "code",
   "execution_count": 358,
   "metadata": {},
   "outputs": [
    {
     "name": "stdout",
     "output_type": "stream",
     "text": [
      "Model: \"sequential_47\"\n",
      "_________________________________________________________________\n",
      "Layer (type)                 Output Shape              Param #   \n",
      "=================================================================\n",
      "conv2d_75 (Conv2D)           (None, 9, 6, 128)         2176      \n",
      "_________________________________________________________________\n",
      "conv2d_76 (Conv2D)           (None, 7, 4, 64)          73792     \n",
      "_________________________________________________________________\n",
      "flatten_34 (Flatten)         (None, 1792)              0         \n",
      "_________________________________________________________________\n",
      "dropout_28 (Dropout)         (None, 1792)              0         \n",
      "_________________________________________________________________\n",
      "dense_49 (Dense)             (None, 1)                 1793      \n",
      "=================================================================\n",
      "Total params: 77,761\n",
      "Trainable params: 77,761\n",
      "Non-trainable params: 0\n",
      "_________________________________________________________________\n"
     ]
    }
   ],
   "source": [
    "model3 = Sequential()\n",
    "model3.add(Conv2D(128, kernel_size = (4,4), input_shape = (9, 6, 1), activation = 'relu', padding = 'same'))\n",
    "model3.add(Conv2D(64, kernel_size = (3,3), activation = 'relu'))\n",
    "model3.add(Flatten())\n",
    "model3.add(Dropout(0.1))\n",
    "model3.add(Dense(1, activation='sigmoid'))\n",
    "model3.compile(loss='binary_crossentropy', optimizer='adam', metrics=['accuracy'])\n",
    "model3.summary()"
   ]
  },
  {
   "cell_type": "code",
   "execution_count": 359,
   "metadata": {},
   "outputs": [
    {
     "name": "stdout",
     "output_type": "stream",
     "text": [
      "Epoch 1/100\n",
      "3107/3107 [==============================] - 29s 9ms/step - loss: 0.0564 - accuracy: 0.9839 - val_loss: 0.0374 - val_accuracy: 0.9887\n",
      "Epoch 2/100\n",
      "3107/3107 [==============================] - 33s 11ms/step - loss: 0.0416 - accuracy: 0.9875 - val_loss: 0.0328 - val_accuracy: 0.9893\n",
      "Epoch 3/100\n",
      "3107/3107 [==============================] - 33s 11ms/step - loss: 0.0384 - accuracy: 0.9881 - val_loss: 0.0308 - val_accuracy: 0.9903\n",
      "Epoch 4/100\n",
      "3107/3107 [==============================] - 34s 11ms/step - loss: 0.0342 - accuracy: 0.9887 - val_loss: 0.0286 - val_accuracy: 0.9898\n",
      "Epoch 5/100\n",
      "3107/3107 [==============================] - 33s 11ms/step - loss: 0.0319 - accuracy: 0.9896 - val_loss: 0.0294 - val_accuracy: 0.9916\n",
      "Epoch 6/100\n",
      "3107/3107 [==============================] - 33s 11ms/step - loss: 0.0306 - accuracy: 0.9903 - val_loss: 0.0269 - val_accuracy: 0.9911\n",
      "Epoch 7/100\n",
      "3107/3107 [==============================] - 34s 11ms/step - loss: 0.0287 - accuracy: 0.9908 - val_loss: 0.0271 - val_accuracy: 0.9906\n",
      "Epoch 8/100\n",
      "3107/3107 [==============================] - 36s 11ms/step - loss: 0.0269 - accuracy: 0.9913 - val_loss: 0.0268 - val_accuracy: 0.9913\n",
      "Epoch 9/100\n",
      "3107/3107 [==============================] - 37s 12ms/step - loss: 0.0264 - accuracy: 0.9914 - val_loss: 0.0274 - val_accuracy: 0.9910\n",
      "Epoch 10/100\n",
      "3107/3107 [==============================] - 34s 11ms/step - loss: 0.0260 - accuracy: 0.9917 - val_loss: 0.0280 - val_accuracy: 0.9914\n",
      "Epoch 11/100\n",
      "3107/3107 [==============================] - 35s 11ms/step - loss: 0.0239 - accuracy: 0.9922 - val_loss: 0.0259 - val_accuracy: 0.9915\n",
      "Epoch 12/100\n",
      "3107/3107 [==============================] - 34s 11ms/step - loss: 0.0244 - accuracy: 0.9923 - val_loss: 0.0270 - val_accuracy: 0.9925\n",
      "Epoch 13/100\n",
      "3107/3107 [==============================] - 34s 11ms/step - loss: 0.0238 - accuracy: 0.9924 - val_loss: 0.0250 - val_accuracy: 0.9920\n",
      "Epoch 14/100\n",
      "3107/3107 [==============================] - 34s 11ms/step - loss: 0.0228 - accuracy: 0.9927 - val_loss: 0.0259 - val_accuracy: 0.9926\n",
      "Epoch 15/100\n",
      "3107/3107 [==============================] - 34s 11ms/step - loss: 0.0218 - accuracy: 0.9925 - val_loss: 0.0291 - val_accuracy: 0.9909\n",
      "Epoch 16/100\n",
      "3107/3107 [==============================] - 33s 11ms/step - loss: 0.0219 - accuracy: 0.9930 - val_loss: 0.0290 - val_accuracy: 0.9923\n",
      "Epoch 17/100\n",
      "3107/3107 [==============================] - 32s 10ms/step - loss: 0.0209 - accuracy: 0.9933 - val_loss: 0.0288 - val_accuracy: 0.9916\n",
      "Epoch 18/100\n",
      "3107/3107 [==============================] - 32s 10ms/step - loss: 0.0209 - accuracy: 0.9932 - val_loss: 0.0301 - val_accuracy: 0.9921\n",
      "Epoch 19/100\n",
      "3107/3107 [==============================] - 33s 11ms/step - loss: 0.0186 - accuracy: 0.9937 - val_loss: 0.0299 - val_accuracy: 0.9919\n",
      "Epoch 20/100\n",
      "3107/3107 [==============================] - 33s 11ms/step - loss: 0.0196 - accuracy: 0.9939 - val_loss: 0.0297 - val_accuracy: 0.9913\n",
      "Epoch 21/100\n",
      "3107/3107 [==============================] - 31s 10ms/step - loss: 0.0175 - accuracy: 0.9940 - val_loss: 0.0371 - val_accuracy: 0.9922\n",
      "Epoch 22/100\n",
      "3107/3107 [==============================] - 32s 10ms/step - loss: 0.0183 - accuracy: 0.9942 - val_loss: 0.0391 - val_accuracy: 0.9924\n",
      "Epoch 23/100\n",
      "3107/3107 [==============================] - 31s 10ms/step - loss: 0.0194 - accuracy: 0.9943 - val_loss: 0.0307 - val_accuracy: 0.9921\n",
      "Epoch 24/100\n",
      "3107/3107 [==============================] - 32s 10ms/step - loss: 0.0164 - accuracy: 0.9945 - val_loss: 0.0304 - val_accuracy: 0.9930\n",
      "Epoch 25/100\n",
      "3107/3107 [==============================] - 31s 10ms/step - loss: 0.0192 - accuracy: 0.9942 - val_loss: 0.0361 - val_accuracy: 0.9930\n",
      "Epoch 26/100\n",
      "3107/3107 [==============================] - 33s 11ms/step - loss: 0.0166 - accuracy: 0.9946 - val_loss: 0.0298 - val_accuracy: 0.9926\n",
      "Epoch 27/100\n",
      "3107/3107 [==============================] - 34s 11ms/step - loss: 0.0162 - accuracy: 0.9946 - val_loss: 0.0310 - val_accuracy: 0.9919\n",
      "Epoch 28/100\n",
      "3107/3107 [==============================] - 34s 11ms/step - loss: 0.0168 - accuracy: 0.9949 - val_loss: 0.0337 - val_accuracy: 0.9921\n",
      "Epoch 29/100\n",
      "3107/3107 [==============================] - 33s 11ms/step - loss: 0.0174 - accuracy: 0.9950 - val_loss: 0.0323 - val_accuracy: 0.9922\n",
      "Epoch 30/100\n",
      "3107/3107 [==============================] - 35s 11ms/step - loss: 0.0170 - accuracy: 0.9950 - val_loss: 0.0322 - val_accuracy: 0.9932\n",
      "Epoch 31/100\n",
      "3107/3107 [==============================] - 32s 10ms/step - loss: 0.0158 - accuracy: 0.9952 - val_loss: 0.0434 - val_accuracy: 0.9925\n",
      "Epoch 32/100\n",
      "3107/3107 [==============================] - 31s 10ms/step - loss: 0.0162 - accuracy: 0.9953 - val_loss: 0.0367 - val_accuracy: 0.9929\n",
      "Epoch 33/100\n",
      "3107/3107 [==============================] - 30s 10ms/step - loss: 0.0141 - accuracy: 0.9954 - val_loss: 0.0492 - val_accuracy: 0.9921\n",
      "Epoch 34/100\n",
      "3107/3107 [==============================] - 32s 10ms/step - loss: 0.0147 - accuracy: 0.9954 - val_loss: 0.0438 - val_accuracy: 0.9922\n",
      "Epoch 35/100\n",
      "3107/3107 [==============================] - 32s 10ms/step - loss: 0.0159 - accuracy: 0.9955 - val_loss: 0.0371 - val_accuracy: 0.9919\n",
      "Epoch 36/100\n",
      "3107/3107 [==============================] - 32s 10ms/step - loss: 0.0137 - accuracy: 0.9955 - val_loss: 0.0353 - val_accuracy: 0.9930\n",
      "Epoch 37/100\n",
      "3107/3107 [==============================] - 32s 10ms/step - loss: 0.0136 - accuracy: 0.9955 - val_loss: 0.0374 - val_accuracy: 0.9926\n",
      "Epoch 38/100\n",
      "3107/3107 [==============================] - 32s 10ms/step - loss: 0.0143 - accuracy: 0.9955 - val_loss: 0.0376 - val_accuracy: 0.9924\n",
      "Epoch 39/100\n",
      "3107/3107 [==============================] - 31s 10ms/step - loss: 0.0145 - accuracy: 0.9956 - val_loss: 0.0353 - val_accuracy: 0.9927\n",
      "Epoch 40/100\n",
      "3107/3107 [==============================] - 31s 10ms/step - loss: 0.0136 - accuracy: 0.9957 - val_loss: 0.0389 - val_accuracy: 0.9923\n"
     ]
    },
    {
     "data": {
      "text/plain": [
       "<tensorflow.python.keras.callbacks.History at 0x2c1162397c0>"
      ]
     },
     "execution_count": 359,
     "metadata": {},
     "output_type": "execute_result"
    }
   ],
   "source": [
    "model3.fit(final_train, train_label, epochs = 100, validation_split = 0.1, callbacks = [monitor_val_acc])"
   ]
  },
  {
   "cell_type": "code",
   "execution_count": 360,
   "metadata": {},
   "outputs": [
    {
     "name": "stdout",
     "output_type": "stream",
     "text": [
      "863/863 [==============================] - 2s 2ms/step - loss: 0.0356 - accuracy: 0.9913\n"
     ]
    },
    {
     "data": {
      "text/plain": [
       "[0.03555348515510559, 0.9913074970245361]"
      ]
     },
     "execution_count": 360,
     "metadata": {},
     "output_type": "execute_result"
    }
   ],
   "source": [
    "model3.evaluate(final_test, test_label)"
   ]
  },
  {
   "cell_type": "code",
   "execution_count": 361,
   "metadata": {},
   "outputs": [
    {
     "data": {
      "text/plain": [
       "(<Figure size 432x288 with 2 Axes>,\n",
       " <matplotlib.axes._subplots.AxesSubplot at 0x2c115e6e400>)"
      ]
     },
     "execution_count": 361,
     "metadata": {},
     "output_type": "execute_result"
    },
    {
     "data": {
      "image/png": "[encoded data removed]",
      "text/plain": [
       "<Figure size 432x288 with 2 Axes>"
      ]
     },
     "metadata": {
      "needs_background": "light"
     },
     "output_type": "display_data"
    },
    {
     "data": {
      "image/png": "[encoded data removed]",
      "text/plain": [
       "<Figure size 432x288 with 2 Axes>"
      ]
     },
     "metadata": {
      "needs_background": "light"
     },
     "output_type": "display_data"
    }
   ],
   "source": [
    "preds = np.round(model3.predict(final_test))\n",
    "\n",
    "class_names = np.array([' Dodgey', ' Legit'])\n",
    "\n",
    "cm = confusion_matrix(np.array(test_label), preds)\n",
    "\n",
    "plot_confusion_matrix(conf_mat = cm, class_names = class_names, colorbar = True)\n",
    "plot_confusion_matrix(conf_mat = cm, class_names = class_names, show_absolute = False, show_normed = True, colorbar = True)"
   ]
  },
  {
   "cell_type": "code",
   "execution_count": 53,
   "metadata": {},
   "outputs": [],
   "source": [
    "def lowest_square(x):\n",
    "    while m.sqrt(x).is_integer() == False:\n",
    "        x = x - 1\n",
    "    return x"
   ]
  },
  {
   "cell_type": "code",
   "execution_count": 364,
   "metadata": {},
   "outputs": [
    {
     "data": {
      "text/plain": [
       "49"
      ]
     },
     "execution_count": 364,
     "metadata": {},
     "output_type": "execute_result"
    }
   ],
   "source": [
    "lowest_square(test_datas.shape[1])"
   ]
  },
  {
   "cell_type": "code",
   "execution_count": 365,
   "metadata": {},
   "outputs": [],
   "source": [
    "pca = PCA(n_components = lowest_square(test_datas.shape[1]))\n",
    "pca.fit(train_datas)\n",
    "pcadata_train = pca.transform(train_datas)\n",
    "pcadata_test = pca.transform(test_datas)"
   ]
  },
  {
   "cell_type": "code",
   "execution_count": 366,
   "metadata": {},
   "outputs": [
    {
     "data": {
      "text/plain": [
       "0.9998808069516535"
      ]
     },
     "execution_count": 366,
     "metadata": {},
     "output_type": "execute_result"
    }
   ],
   "source": [
    "pca.explained_variance_ratio_.sum()"
   ]
  },
  {
   "cell_type": "code",
   "execution_count": 367,
   "metadata": {},
   "outputs": [
    {
     "data": {
      "text/plain": [
       "(27610, 49)"
      ]
     },
     "execution_count": 367,
     "metadata": {},
     "output_type": "execute_result"
    }
   ],
   "source": [
    "pcadata_test.shape"
   ]
  },
  {
   "cell_type": "code",
   "execution_count": 368,
   "metadata": {},
   "outputs": [],
   "source": [
    "pca_train =  img_convert(pcadata_train, 7, 7)\n",
    "pca_test  =  img_convert(pcadata_test , 7, 7)"
   ]
  },
  {
   "cell_type": "code",
   "execution_count": 369,
   "metadata": {},
   "outputs": [
    {
     "data": {
      "image/png": "[encoded data removed]",
      "text/plain": [
       "<Figure size 1440x1440 with 20 Axes>"
      ]
     },
     "metadata": {
      "needs_background": "light"
     },
     "output_type": "display_data"
    }
   ],
   "source": [
    "plot(pca_train, 10)"
   ]
  },
  {
   "cell_type": "code",
   "execution_count": 370,
   "metadata": {},
   "outputs": [],
   "source": [
    "pca_train = np.expand_dims(pca_train, -1)\n",
    "pca_test  = np.expand_dims(pca_test, -1)"
   ]
  },
  {
   "cell_type": "code",
   "execution_count": 371,
   "metadata": {},
   "outputs": [],
   "source": [
    "monitor_val_acc = EarlyStopping(monitor = 'val_accuracy', patience = 10)"
   ]
  },
  {
   "cell_type": "code",
   "execution_count": 372,
   "metadata": {},
   "outputs": [
    {
     "name": "stdout",
     "output_type": "stream",
     "text": [
      "Model: \"sequential_48\"\n",
      "_________________________________________________________________\n",
      "Layer (type)                 Output Shape              Param #   \n",
      "=================================================================\n",
      "conv2d_77 (Conv2D)           (None, 7, 7, 128)         2176      \n",
      "_________________________________________________________________\n",
      "conv2d_78 (Conv2D)           (None, 5, 5, 64)          73792     \n",
      "_________________________________________________________________\n",
      "flatten_35 (Flatten)         (None, 1600)              0         \n",
      "_________________________________________________________________\n",
      "dropout_29 (Dropout)         (None, 1600)              0         \n",
      "_________________________________________________________________\n",
      "dense_50 (Dense)             (None, 1)                 1601      \n",
      "=================================================================\n",
      "Total params: 77,569\n",
      "Trainable params: 77,569\n",
      "Non-trainable params: 0\n",
      "_________________________________________________________________\n"
     ]
    }
   ],
   "source": [
    "model10 = Sequential()\n",
    "model10.add(Conv2D(128, kernel_size = (4,4), input_shape = (7, 7, 1), activation = 'relu', padding = 'same'))\n",
    "model10.add(Conv2D(64, kernel_size = (3,3), activation = 'relu'))\n",
    "model10.add(Flatten())\n",
    "model10.add(Dropout(0.1))\n",
    "model10.add(Dense(1, activation='sigmoid'))\n",
    "model10.compile(loss='binary_crossentropy', optimizer='adam', metrics=['accuracy'])\n",
    "model10.summary()"
   ]
  },
  {
   "cell_type": "code",
   "execution_count": 373,
   "metadata": {},
   "outputs": [
    {
     "name": "stdout",
     "output_type": "stream",
     "text": [
      "Epoch 1/100\n",
      "3107/3107 [==============================] - 25s 8ms/step - loss: 0.0627 - accuracy: 0.9819 - val_loss: 0.0421 - val_accuracy: 0.9865\n",
      "Epoch 2/100\n",
      "3107/3107 [==============================] - 28s 9ms/step - loss: 0.0452 - accuracy: 0.9867 - val_loss: 0.0349 - val_accuracy: 0.9887\n",
      "Epoch 3/100\n",
      "3107/3107 [==============================] - 28s 9ms/step - loss: 0.0387 - accuracy: 0.9880 - val_loss: 0.0340 - val_accuracy: 0.9895\n",
      "Epoch 4/100\n",
      "3107/3107 [==============================] - 28s 9ms/step - loss: 0.0372 - accuracy: 0.9887 - val_loss: 0.0351 - val_accuracy: 0.9907\n",
      "Epoch 5/100\n",
      "3107/3107 [==============================] - 28s 9ms/step - loss: 0.0349 - accuracy: 0.9893 - val_loss: 0.0334 - val_accuracy: 0.9907\n",
      "Epoch 6/100\n",
      "3107/3107 [==============================] - 28s 9ms/step - loss: 0.0311 - accuracy: 0.9900 - val_loss: 0.0280 - val_accuracy: 0.9915\n",
      "Epoch 7/100\n",
      "3107/3107 [==============================] - 29s 9ms/step - loss: 0.0300 - accuracy: 0.9906 - val_loss: 0.0288 - val_accuracy: 0.9910\n",
      "Epoch 8/100\n",
      "3107/3107 [==============================] - 29s 9ms/step - loss: 0.0287 - accuracy: 0.9908 - val_loss: 0.0367 - val_accuracy: 0.9899\n",
      "Epoch 9/100\n",
      "3107/3107 [==============================] - 31s 10ms/step - loss: 0.0279 - accuracy: 0.9910 - val_loss: 0.0306 - val_accuracy: 0.9912\n",
      "Epoch 10/100\n",
      "3107/3107 [==============================] - 30s 10ms/step - loss: 0.0265 - accuracy: 0.9916 - val_loss: 0.0309 - val_accuracy: 0.9913\n",
      "Epoch 11/100\n",
      "3107/3107 [==============================] - 29s 9ms/step - loss: 0.0232 - accuracy: 0.9920 - val_loss: 0.0313 - val_accuracy: 0.9919\n",
      "Epoch 12/100\n",
      "3107/3107 [==============================] - 29s 9ms/step - loss: 0.0237 - accuracy: 0.9921 - val_loss: 0.0281 - val_accuracy: 0.9925\n",
      "Epoch 13/100\n",
      "3107/3107 [==============================] - 30s 10ms/step - loss: 0.0222 - accuracy: 0.9925 - val_loss: 0.0295 - val_accuracy: 0.9917\n",
      "Epoch 14/100\n",
      "3107/3107 [==============================] - 29s 9ms/step - loss: 0.0224 - accuracy: 0.9926 - val_loss: 0.0330 - val_accuracy: 0.9920\n",
      "Epoch 15/100\n",
      "3107/3107 [==============================] - 30s 10ms/step - loss: 0.0205 - accuracy: 0.9932 - val_loss: 0.0312 - val_accuracy: 0.9925\n",
      "Epoch 16/100\n",
      "3107/3107 [==============================] - 29s 9ms/step - loss: 0.0196 - accuracy: 0.9934 - val_loss: 0.0382 - val_accuracy: 0.9917\n",
      "Epoch 17/100\n",
      "3107/3107 [==============================] - 29s 9ms/step - loss: 0.0189 - accuracy: 0.9937 - val_loss: 0.0298 - val_accuracy: 0.9931\n",
      "Epoch 18/100\n",
      "3107/3107 [==============================] - 30s 10ms/step - loss: 0.0183 - accuracy: 0.9938 - val_loss: 0.0298 - val_accuracy: 0.9919\n",
      "Epoch 19/100\n",
      "3107/3107 [==============================] - 28s 9ms/step - loss: 0.0182 - accuracy: 0.9940 - val_loss: 0.0305 - val_accuracy: 0.9930\n",
      "Epoch 20/100\n",
      "3107/3107 [==============================] - 31s 10ms/step - loss: 0.0190 - accuracy: 0.9944 - val_loss: 0.0344 - val_accuracy: 0.9930\n",
      "Epoch 21/100\n",
      "3107/3107 [==============================] - 30s 10ms/step - loss: 0.0156 - accuracy: 0.9947 - val_loss: 0.0289 - val_accuracy: 0.9928\n",
      "Epoch 22/100\n",
      "3107/3107 [==============================] - 30s 10ms/step - loss: 0.0162 - accuracy: 0.9946 - val_loss: 0.0333 - val_accuracy: 0.9923\n",
      "Epoch 23/100\n",
      "3107/3107 [==============================] - 30s 10ms/step - loss: 0.0151 - accuracy: 0.9951 - val_loss: 0.0358 - val_accuracy: 0.9934\n",
      "Epoch 24/100\n",
      "3107/3107 [==============================] - 30s 10ms/step - loss: 0.0166 - accuracy: 0.9946 - val_loss: 0.0541 - val_accuracy: 0.9921\n",
      "Epoch 25/100\n",
      "3107/3107 [==============================] - 29s 9ms/step - loss: 0.0159 - accuracy: 0.9950 - val_loss: 0.0377 - val_accuracy: 0.9922\n",
      "Epoch 26/100\n",
      "3107/3107 [==============================] - 29s 9ms/step - loss: 0.0144 - accuracy: 0.9953 - val_loss: 0.0370 - val_accuracy: 0.9933\n",
      "Epoch 27/100\n",
      "3107/3107 [==============================] - 29s 9ms/step - loss: 0.0137 - accuracy: 0.9956 - val_loss: 0.0387 - val_accuracy: 0.9923\n",
      "Epoch 28/100\n",
      "3107/3107 [==============================] - 30s 10ms/step - loss: 0.0149 - accuracy: 0.9954 - val_loss: 0.0463 - val_accuracy: 0.9922\n",
      "Epoch 29/100\n",
      "3107/3107 [==============================] - 30s 10ms/step - loss: 0.0140 - accuracy: 0.9957 - val_loss: 0.0417 - val_accuracy: 0.9928\n",
      "Epoch 30/100\n",
      "3107/3107 [==============================] - 30s 10ms/step - loss: 0.0125 - accuracy: 0.9959 - val_loss: 0.0395 - val_accuracy: 0.9932\n",
      "Epoch 31/100\n",
      "3107/3107 [==============================] - 30s 10ms/step - loss: 0.0125 - accuracy: 0.9958 - val_loss: 0.0374 - val_accuracy: 0.9931\n",
      "Epoch 32/100\n",
      "3107/3107 [==============================] - 30s 10ms/step - loss: 0.0153 - accuracy: 0.9958 - val_loss: 0.0388 - val_accuracy: 0.9937\n",
      "Epoch 33/100\n",
      "3107/3107 [==============================] - 30s 10ms/step - loss: 0.0128 - accuracy: 0.9958 - val_loss: 0.0456 - val_accuracy: 0.9926\n",
      "Epoch 34/100\n",
      "3107/3107 [==============================] - 29s 9ms/step - loss: 0.0143 - accuracy: 0.9960 - val_loss: 0.0395 - val_accuracy: 0.9927\n",
      "Epoch 35/100\n",
      "3107/3107 [==============================] - 30s 10ms/step - loss: 0.0109 - accuracy: 0.9962 - val_loss: 0.0376 - val_accuracy: 0.9937\n",
      "Epoch 36/100\n",
      "3107/3107 [==============================] - 30s 10ms/step - loss: 0.0149 - accuracy: 0.9958 - val_loss: 0.0428 - val_accuracy: 0.9927\n",
      "Epoch 37/100\n",
      "3107/3107 [==============================] - 30s 10ms/step - loss: 0.0142 - accuracy: 0.9966 - val_loss: 0.0400 - val_accuracy: 0.9932\n",
      "Epoch 38/100\n",
      "3107/3107 [==============================] - 29s 9ms/step - loss: 0.0128 - accuracy: 0.9965 - val_loss: 0.0419 - val_accuracy: 0.9927\n",
      "Epoch 39/100\n",
      "3107/3107 [==============================] - 29s 9ms/step - loss: 0.0110 - accuracy: 0.9963 - val_loss: 0.0438 - val_accuracy: 0.9924\n",
      "Epoch 40/100\n",
      "3107/3107 [==============================] - 29s 9ms/step - loss: 0.0127 - accuracy: 0.9965 - val_loss: 0.0521 - val_accuracy: 0.9926\n",
      "Epoch 41/100\n",
      "3107/3107 [==============================] - 29s 9ms/step - loss: 0.0123 - accuracy: 0.9965 - val_loss: 0.0479 - val_accuracy: 0.9931\n",
      "Epoch 42/100\n",
      "3107/3107 [==============================] - 29s 9ms/step - loss: 0.0118 - accuracy: 0.9964 - val_loss: 0.0453 - val_accuracy: 0.9927\n"
     ]
    },
    {
     "data": {
      "text/plain": [
       "<tensorflow.python.keras.callbacks.History at 0x2c104fe12e0>"
      ]
     },
     "execution_count": 373,
     "metadata": {},
     "output_type": "execute_result"
    }
   ],
   "source": [
    "model10.fit(pca_train, train_label, epochs = 100, validation_split = 0.1, callbacks = [monitor_val_acc])"
   ]
  },
  {
   "cell_type": "code",
   "execution_count": 374,
   "metadata": {},
   "outputs": [
    {
     "name": "stdout",
     "output_type": "stream",
     "text": [
      "863/863 [==============================] - 2s 2ms/step - loss: 0.0501 - accuracy: 0.9914\n"
     ]
    },
    {
     "data": {
      "text/plain": [
       "[0.050069089978933334, 0.9914161562919617]"
      ]
     },
     "execution_count": 374,
     "metadata": {},
     "output_type": "execute_result"
    }
   ],
   "source": [
    "model10.evaluate(pca_test, test_label)"
   ]
  },
  {
   "cell_type": "code",
   "execution_count": 284,
   "metadata": {},
   "outputs": [],
   "source": [
    "class malicious:\n",
    "    \n",
    "    def __init__(self, data, targets):\n",
    "        self.data = data\n",
    "        self.targets = targets\n",
    "        self.split()\n",
    "        self.scale_pca()\n",
    "        self.CNN()\n",
    "        \n",
    "        \n",
    "    def split(self):\n",
    "        \n",
    "        self.train_data, self.test_data, self.train_label, self.test_label = train_test_split(self.data,\n",
    "                                                                                              self.targets, test_size = 0.2)\n",
    "        \n",
    "        return self.train_data, self.test_data, self.train_label, self.test_label\n",
    "\n",
    "    def img_convert(self, data, length, width): \n",
    "        \n",
    "        final = np.zeros((len(data), length, width))\n",
    "        for i in range(len(data)):\n",
    "            new = np.reshape(data[i], (length, width))\n",
    "            final[i] = new\n",
    "        return final\n",
    "\n",
    "    def lowest_square(self, x):\n",
    "        while m.sqrt(x).is_integer() == False:\n",
    "            x = x - 1\n",
    "        return x   \n",
    "\n",
    "    def scale_pca(self):\n",
    "        \n",
    "        self.scaler = StandardScaler()\n",
    "        self.scaler.fit(self.train_data)\n",
    "        train_data_scale = self.scaler.transform(self.train_data)\n",
    "        test_data_scale  = self.scaler.transform(self.test_data)\n",
    "\n",
    "        self.ls = self.lowest_square(self.data.shape[1])\n",
    "        self.sqrt = int(m.sqrt(self.ls))\n",
    "\n",
    "        self.pca = PCA(n_components = self.ls)\n",
    "        self.pca.fit(train_data_scale)\n",
    "        pcadata_train = self.pca.transform(train_data_scale)\n",
    "        pcadata_test  = self.pca.transform(test_data_scale)\n",
    "       \n",
    "        pca_train =  self.img_convert(pcadata_train, self.sqrt, self.sqrt)\n",
    "        pca_test  =  self.img_convert(pcadata_test , self.sqrt, self.sqrt)\n",
    "\n",
    "        self.pca_train = np.expand_dims(pca_train, -1)\n",
    "        self.pca_test  = np.expand_dims(pca_test, -1)\n",
    "    \n",
    "       \n",
    "        return self.pca, self.scaler, self.ls, self.sqrt, self.pca_train, self.pca_test\n",
    "    \n",
    "    def CNN(self):\n",
    "        \n",
    "        monitor_val_acc = EarlyStopping(monitor = 'val_accuracy', patience = 10)\n",
    "    \n",
    "        self.model = Sequential()\n",
    "        self.model.add(Conv2D(128, kernel_size = (int(np.round(m.sqrt(self.sqrt))), int(np.round(m.sqrt(self.sqrt)))),\n",
    "                              input_shape = (self.sqrt, self.sqrt, 1), activation = 'relu', padding = 'same'))\n",
    "        self.model.add(Conv2D(64, kernel_size = (int(np.round(m.sqrt(self.sqrt))) - 1, int(np.round(m.sqrt(self.sqrt))) - 1),\n",
    "                              activation = 'relu'))\n",
    "        self.model.add(Flatten())\n",
    "        self.model.add(Dropout(0.1))\n",
    "        self.model.add(Dense(1, activation='sigmoid'))\n",
    "        self.model.compile(loss='binary_crossentropy', optimizer='adam', metrics=['accuracy'])\n",
    "        self.model.summary()\n",
    "\n",
    "        self.model.fit(self.pca_train, self.train_label, epochs = 100, validation_split = 0.1, callbacks = [monitor_val_acc])\n",
    "        \n",
    "        return self.model\n",
    "    \n",
    "    def evaluate(self):\n",
    "        \n",
    "        self.model.evaluate(self.pca_test, self.test_label)\n",
    "        \n",
    "    def scale_pca_test(self, test):\n",
    "\n",
    "        test = self.scaler.transform(test)      \n",
    "\n",
    "        self.ls = self.lowest_square(self.data.shape[1])\n",
    "        self.sqrt = int(m.sqrt(self.ls))\n",
    "\n",
    "        test = self.pca.transform(test)\n",
    "\n",
    "        test =  self.img_convert(test, self.sqrt, self.sqrt)\n",
    "\n",
    "        test = np.expand_dims(test, -1)\n",
    "\n",
    "        return test\n",
    "    \n",
    "    def plot(self, data, x):\n",
    "        plt.figure(figsize =(20, 20))\n",
    "        for i in range(x):\n",
    "            plt.subplot(m.ceil(m.sqrt(x)), m.ceil(m.sqrt(x)), i+1)\n",
    "            try: \n",
    "                plt.imshow(data[i])\n",
    "            except:\n",
    "                plt.imshow(data[i].squeeze())\n",
    "            plt.colorbar()\n",
    "            plt.grid(False)\n",
    "        plt.show()\n",
    "        \n",
    "\n",
    "    def conf_matrix(self):\n",
    "        \n",
    "        preds = np.round(self.model.predict(self.pca_test))\n",
    "\n",
    "        class_names = np.array([' Dodgey', ' Legit'])\n",
    "\n",
    "        cm = confusion_matrix(np.array(self.test_label), preds)\n",
    "\n",
    "        plot_confusion_matrix(conf_mat = cm, class_names = class_names, colorbar = True)\n",
    "        plot_confusion_matrix(conf_mat = cm, class_names = class_names, show_absolute = False,\n",
    "                              show_normed = True, colorbar = True)\n",
    "\n"
   ]
  },
  {
   "cell_type": "code",
   "execution_count": 280,
   "metadata": {},
   "outputs": [],
   "source": [
    "phishing =  pd.read_csv('C:\\\\Users\\\\as17s\\\\OneDrive\\\\Documents\\\\MSc Data Science\\\\Semester 2\\\\Cyber Security\\\\CW2\\\\Mastering-Machine-Learning-for-Penetration-Testing-master\\\\Chapter02\\\\dataset.csv')"
   ]
  },
  {
   "cell_type": "code",
   "execution_count": 291,
   "metadata": {},
   "outputs": [
    {
     "data": {
      "text/plain": [
       "(11054, 31)"
      ]
     },
     "execution_count": 291,
     "metadata": {},
     "output_type": "execute_result"
    }
   ],
   "source": [
    "phishing.shape"
   ]
  },
  {
   "cell_type": "code",
   "execution_count": 297,
   "metadata": {},
   "outputs": [],
   "source": [
    "phishing_inputs = phishing[phishing.columns[0:-1]]\n",
    "phishing_target = phishing[phishing.columns[-1]]\n",
    "\n",
    "phishing_target = phishing_target.replace([-1], 0)\n",
    "\n",
    "test_inputs = phishing_inputs[0:500]\n",
    "test_target = phishing_target[0:500]\n",
    "\n",
    "phishing_inputs = phishing_inputs[500:]\n",
    "phishing_target = phishing_target[500:]"
   ]
  },
  {
   "cell_type": "code",
   "execution_count": 299,
   "metadata": {},
   "outputs": [
    {
     "name": "stdout",
     "output_type": "stream",
     "text": [
      "Model: \"sequential_40\"\n",
      "_________________________________________________________________\n",
      "Layer (type)                 Output Shape              Param #   \n",
      "=================================================================\n",
      "conv2d_69 (Conv2D)           (None, 5, 5, 128)         640       \n",
      "_________________________________________________________________\n",
      "conv2d_70 (Conv2D)           (None, 5, 5, 64)          8256      \n",
      "_________________________________________________________________\n",
      "flatten_32 (Flatten)         (None, 1600)              0         \n",
      "_________________________________________________________________\n",
      "dropout_26 (Dropout)         (None, 1600)              0         \n",
      "_________________________________________________________________\n",
      "dense_38 (Dense)             (None, 1)                 1601      \n",
      "=================================================================\n",
      "Total params: 10,497\n",
      "Trainable params: 10,497\n",
      "Non-trainable params: 0\n",
      "_________________________________________________________________\n",
      "Epoch 1/100\n",
      "  1/238 [..............................] - ETA: 0s - loss: 0.6895 - accuracy: 0.5625WARNING:tensorflow:Callbacks method `on_train_batch_end` is slow compared to the batch time (batch time: 0.0000s vs `on_train_batch_end` time: 0.0051s). Check your callbacks.\n",
      "238/238 [==============================] - 1s 3ms/step - loss: 0.2661 - accuracy: 0.9073 - val_loss: 0.2028 - val_accuracy: 0.9254\n",
      "Epoch 2/100\n",
      "238/238 [==============================] - 1s 2ms/step - loss: 0.1767 - accuracy: 0.9304 - val_loss: 0.1710 - val_accuracy: 0.9314\n",
      "Epoch 3/100\n",
      "238/238 [==============================] - 1s 2ms/step - loss: 0.1699 - accuracy: 0.9335 - val_loss: 0.1542 - val_accuracy: 0.9432\n",
      "Epoch 4/100\n",
      "238/238 [==============================] - 1s 2ms/step - loss: 0.1634 - accuracy: 0.9333 - val_loss: 0.1555 - val_accuracy: 0.9349\n",
      "Epoch 5/100\n",
      "238/238 [==============================] - 1s 2ms/step - loss: 0.1580 - accuracy: 0.9371 - val_loss: 0.1410 - val_accuracy: 0.9444\n",
      "Epoch 6/100\n",
      "238/238 [==============================] - 1s 2ms/step - loss: 0.1538 - accuracy: 0.9388 - val_loss: 0.1401 - val_accuracy: 0.9408\n",
      "Epoch 7/100\n",
      "238/238 [==============================] - 1s 2ms/step - loss: 0.1497 - accuracy: 0.9397 - val_loss: 0.1342 - val_accuracy: 0.9479\n",
      "Epoch 8/100\n",
      "238/238 [==============================] - 1s 2ms/step - loss: 0.1456 - accuracy: 0.9421 - val_loss: 0.1334 - val_accuracy: 0.9444\n",
      "Epoch 9/100\n",
      "238/238 [==============================] - 1s 2ms/step - loss: 0.1419 - accuracy: 0.9441 - val_loss: 0.1320 - val_accuracy: 0.9467\n",
      "Epoch 10/100\n",
      "238/238 [==============================] - 1s 2ms/step - loss: 0.1443 - accuracy: 0.9412 - val_loss: 0.1230 - val_accuracy: 0.9456\n",
      "Epoch 11/100\n",
      "238/238 [==============================] - 1s 2ms/step - loss: 0.1368 - accuracy: 0.9472 - val_loss: 0.1312 - val_accuracy: 0.9503\n",
      "Epoch 12/100\n",
      "238/238 [==============================] - 1s 2ms/step - loss: 0.1348 - accuracy: 0.9470 - val_loss: 0.1206 - val_accuracy: 0.9491\n",
      "Epoch 13/100\n",
      "238/238 [==============================] - 1s 2ms/step - loss: 0.1330 - accuracy: 0.9481 - val_loss: 0.1238 - val_accuracy: 0.9467\n",
      "Epoch 14/100\n",
      "238/238 [==============================] - 1s 2ms/step - loss: 0.1306 - accuracy: 0.9476 - val_loss: 0.1199 - val_accuracy: 0.9432\n",
      "Epoch 15/100\n",
      "238/238 [==============================] - 1s 2ms/step - loss: 0.1287 - accuracy: 0.9496 - val_loss: 0.1170 - val_accuracy: 0.9479\n",
      "Epoch 16/100\n",
      "238/238 [==============================] - 1s 2ms/step - loss: 0.1248 - accuracy: 0.9499 - val_loss: 0.1125 - val_accuracy: 0.9503\n",
      "Epoch 17/100\n",
      "238/238 [==============================] - 1s 2ms/step - loss: 0.1247 - accuracy: 0.9514 - val_loss: 0.1155 - val_accuracy: 0.9503\n",
      "Epoch 18/100\n",
      "238/238 [==============================] - 1s 2ms/step - loss: 0.1178 - accuracy: 0.9550 - val_loss: 0.1128 - val_accuracy: 0.9562\n",
      "Epoch 19/100\n",
      "238/238 [==============================] - 1s 2ms/step - loss: 0.1190 - accuracy: 0.9521 - val_loss: 0.1130 - val_accuracy: 0.9515\n",
      "Epoch 20/100\n",
      "238/238 [==============================] - 1s 2ms/step - loss: 0.1184 - accuracy: 0.9530 - val_loss: 0.1144 - val_accuracy: 0.9479\n",
      "Epoch 21/100\n",
      "238/238 [==============================] - 1s 2ms/step - loss: 0.1155 - accuracy: 0.9543 - val_loss: 0.1118 - val_accuracy: 0.9503\n",
      "Epoch 22/100\n",
      "238/238 [==============================] - 1s 2ms/step - loss: 0.1139 - accuracy: 0.9550 - val_loss: 0.1067 - val_accuracy: 0.9586\n",
      "Epoch 23/100\n",
      "238/238 [==============================] - 1s 2ms/step - loss: 0.1124 - accuracy: 0.9560 - val_loss: 0.1141 - val_accuracy: 0.9527\n",
      "Epoch 24/100\n",
      "238/238 [==============================] - 1s 2ms/step - loss: 0.1138 - accuracy: 0.9553 - val_loss: 0.1075 - val_accuracy: 0.9538\n",
      "Epoch 25/100\n",
      "238/238 [==============================] - 1s 2ms/step - loss: 0.1075 - accuracy: 0.9560 - val_loss: 0.1072 - val_accuracy: 0.9598\n",
      "Epoch 26/100\n",
      "238/238 [==============================] - 1s 2ms/step - loss: 0.1096 - accuracy: 0.9558 - val_loss: 0.1110 - val_accuracy: 0.9550\n",
      "Epoch 27/100\n",
      "238/238 [==============================] - 1s 2ms/step - loss: 0.1017 - accuracy: 0.9596 - val_loss: 0.1084 - val_accuracy: 0.9503\n",
      "Epoch 28/100\n",
      "238/238 [==============================] - 1s 2ms/step - loss: 0.1042 - accuracy: 0.9610 - val_loss: 0.1151 - val_accuracy: 0.9515\n",
      "Epoch 29/100\n",
      "238/238 [==============================] - 1s 2ms/step - loss: 0.1005 - accuracy: 0.9620 - val_loss: 0.1247 - val_accuracy: 0.9467\n",
      "Epoch 30/100\n",
      "238/238 [==============================] - 1s 2ms/step - loss: 0.1012 - accuracy: 0.9600 - val_loss: 0.1076 - val_accuracy: 0.9550\n",
      "Epoch 31/100\n",
      "238/238 [==============================] - 1s 2ms/step - loss: 0.1022 - accuracy: 0.9585 - val_loss: 0.1058 - val_accuracy: 0.9562\n",
      "Epoch 32/100\n",
      "238/238 [==============================] - 1s 2ms/step - loss: 0.0984 - accuracy: 0.9620 - val_loss: 0.1035 - val_accuracy: 0.9538\n",
      "Epoch 33/100\n",
      "238/238 [==============================] - 1s 2ms/step - loss: 0.0970 - accuracy: 0.9653 - val_loss: 0.1095 - val_accuracy: 0.9527\n",
      "Epoch 34/100\n",
      "238/238 [==============================] - 1s 2ms/step - loss: 0.0961 - accuracy: 0.9625 - val_loss: 0.1041 - val_accuracy: 0.9633\n",
      "Epoch 35/100\n",
      "238/238 [==============================] - 1s 2ms/step - loss: 0.0958 - accuracy: 0.9628 - val_loss: 0.1049 - val_accuracy: 0.9609\n",
      "Epoch 36/100\n",
      "238/238 [==============================] - 1s 2ms/step - loss: 0.0924 - accuracy: 0.9622 - val_loss: 0.0976 - val_accuracy: 0.9598\n",
      "Epoch 37/100\n",
      "238/238 [==============================] - 1s 2ms/step - loss: 0.0938 - accuracy: 0.9624 - val_loss: 0.1027 - val_accuracy: 0.9574\n",
      "Epoch 38/100\n",
      "238/238 [==============================] - 1s 2ms/step - loss: 0.0901 - accuracy: 0.9651 - val_loss: 0.1025 - val_accuracy: 0.9550\n",
      "Epoch 39/100\n",
      "238/238 [==============================] - 1s 2ms/step - loss: 0.0901 - accuracy: 0.9655 - val_loss: 0.1119 - val_accuracy: 0.9515\n",
      "Epoch 40/100\n",
      "238/238 [==============================] - 1s 2ms/step - loss: 0.0895 - accuracy: 0.9649 - val_loss: 0.1052 - val_accuracy: 0.9692\n",
      "Epoch 41/100\n",
      "238/238 [==============================] - 1s 2ms/step - loss: 0.0870 - accuracy: 0.9668 - val_loss: 0.1124 - val_accuracy: 0.9550\n",
      "Epoch 42/100\n",
      "238/238 [==============================] - 1s 2ms/step - loss: 0.0845 - accuracy: 0.9676 - val_loss: 0.1122 - val_accuracy: 0.9562\n",
      "Epoch 43/100\n",
      "238/238 [==============================] - 1s 2ms/step - loss: 0.0875 - accuracy: 0.9663 - val_loss: 0.1060 - val_accuracy: 0.9538\n",
      "Epoch 44/100\n",
      "238/238 [==============================] - 1s 2ms/step - loss: 0.0838 - accuracy: 0.9681 - val_loss: 0.1041 - val_accuracy: 0.9609\n",
      "Epoch 45/100\n",
      "238/238 [==============================] - 1s 2ms/step - loss: 0.0784 - accuracy: 0.9685 - val_loss: 0.1028 - val_accuracy: 0.9609\n",
      "Epoch 46/100\n",
      "238/238 [==============================] - 1s 2ms/step - loss: 0.0823 - accuracy: 0.9687 - val_loss: 0.1082 - val_accuracy: 0.9574\n",
      "Epoch 47/100\n",
      "238/238 [==============================] - 1s 2ms/step - loss: 0.0821 - accuracy: 0.9671 - val_loss: 0.1011 - val_accuracy: 0.9657\n",
      "Epoch 48/100\n",
      "238/238 [==============================] - 1s 2ms/step - loss: 0.0790 - accuracy: 0.9674 - val_loss: 0.1057 - val_accuracy: 0.9598\n",
      "Epoch 49/100\n",
      "238/238 [==============================] - 1s 2ms/step - loss: 0.0770 - accuracy: 0.9687 - val_loss: 0.0975 - val_accuracy: 0.9633\n",
      "Epoch 50/100\n",
      "238/238 [==============================] - 1s 2ms/step - loss: 0.0783 - accuracy: 0.9695 - val_loss: 0.0999 - val_accuracy: 0.9598\n"
     ]
    }
   ],
   "source": [
    "phish = malicious(phishing_inputs, phishing_target)"
   ]
  },
  {
   "cell_type": "code",
   "execution_count": 300,
   "metadata": {},
   "outputs": [
    {
     "name": "stdout",
     "output_type": "stream",
     "text": [
      "66/66 [==============================] - 0s 923us/step - loss: 0.1091 - accuracy: 0.9569\n"
     ]
    }
   ],
   "source": [
    "phish.evaluate()"
   ]
  },
  {
   "cell_type": "code",
   "execution_count": 338,
   "metadata": {},
   "outputs": [
    {
     "data": {
      "image/png": "[encoded data removed]",
      "text/plain": [
       "<Figure size 432x288 with 2 Axes>"
      ]
     },
     "metadata": {
      "needs_background": "light"
     },
     "output_type": "display_data"
    },
    {
     "data": {
      "image/png": "[encoded data removed]",
      "text/plain": [
       "<Figure size 432x288 with 2 Axes>"
      ]
     },
     "metadata": {
      "needs_background": "light"
     },
     "output_type": "display_data"
    }
   ],
   "source": [
    "phish.conf_matrix()"
   ]
  },
  {
   "cell_type": "code",
   "execution_count": 302,
   "metadata": {},
   "outputs": [
    {
     "data": {
      "image/png": "[encoded data removed]",
      "text/plain": [
       "<Figure size 1440x1440 with 20 Axes>"
      ]
     },
     "metadata": {
      "needs_background": "light"
     },
     "output_type": "display_data"
    }
   ],
   "source": [
    "phish.plot(phish.pca_train, 10)"
   ]
  },
  {
   "cell_type": "code",
   "execution_count": 303,
   "metadata": {},
   "outputs": [],
   "source": [
    "new_test = phish.scale_pca_test(test_inputs)"
   ]
  },
  {
   "cell_type": "code",
   "execution_count": 305,
   "metadata": {},
   "outputs": [
    {
     "name": "stdout",
     "output_type": "stream",
     "text": [
      "16/16 [==============================] - 0s 1ms/step - loss: 0.0801 - accuracy: 0.9740\n"
     ]
    },
    {
     "data": {
      "text/plain": [
       "[0.08013078570365906, 0.9739999771118164]"
      ]
     },
     "execution_count": 305,
     "metadata": {},
     "output_type": "execute_result"
    }
   ],
   "source": [
    "phish.model.evaluate(new_test, test_target)"
   ]
  },
  {
   "cell_type": "code",
   "execution_count": 308,
   "metadata": {},
   "outputs": [
    {
     "data": {
      "text/plain": [
       "0.9737885987451659"
      ]
     },
     "execution_count": 308,
     "metadata": {},
     "output_type": "execute_result"
    }
   ],
   "source": [
    "phish.pca.explained_variance_ratio_.sum()"
   ]
  },
  {
   "cell_type": "code",
   "execution_count": null,
   "metadata": {},
   "outputs": [],
   "source": []
  }
 ],
 "metadata": {
  "kernelspec": {
   "display_name": "Python 3",
   "language": "python",
   "name": "python3"
  },
  "language_info": {
   "codemirror_mode": {
    "name": "ipython",
    "version": 3
   },
   "file_extension": ".py",
   "mimetype": "text/x-python",
   "name": "python",
   "nbconvert_exporter": "python",
   "pygments_lexer": "ipython3",
   "version": "3.8.3"
  }
 },
 "nbformat": 4,
 "nbformat_minor": 4
}
