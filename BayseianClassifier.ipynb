{
 "cells": [
  {
   "cell_type": "code",
   "execution_count": 1,
   "metadata": {},
   "outputs": [],
   "source": [
    "import numpy as np\n",
    "import matplotlib.pyplot as plt\n",
    "from numpy import *"
   ]
  },
  {
   "cell_type": "code",
   "execution_count": 2,
   "metadata": {},
   "outputs": [],
   "source": [
    "def GaussSet(mean1, mean2, var, n):\n",
    "    data11 = np.random.multivariate_normal(mean1, var, n)\n",
    "    data12 = np.random.multivariate_normal(mean2, var, n)\n",
    "\n",
    "    data1 = np.array(zeros((2*n, 3)))\n",
    "    for i in range(n):\n",
    "        data1[i,0] = data11[i,0]\n",
    "        data1[i,1] = data11[i,1]\n",
    "        data1[i + n,0] = data12[i,0]\n",
    "        data1[i + n,1] = data12[i,1]\n",
    "        data1[i,2] = 1\n",
    "        data1[i + n,2] = 2\n",
    "        \n",
    "\n",
    "    return data1\n",
    "    "
   ]
  },
  {
   "cell_type": "code",
   "execution_count": 5,
   "metadata": {},
   "outputs": [],
   "source": [
    "m00 = [-2, 0]\n",
    "v00 = np.array([[2 ,0],[0,3]])\n",
    "\n",
    "m01 = [2, 0]\n",
    "v01 = np.array([[2, 0], [0, 3]])\n",
    "\n",
    "\n",
    "\n",
    "data_set_1 = GaussSet(m00, m01, v00, 20)\n",
    "data_set_2 = GaussSet(m00, m01, v00, 100)\n",
    "data_set_3 = GaussSet(m00, m01, v00, 1000)"
   ]
  },
  {
   "cell_type": "code",
   "execution_count": 6,
   "metadata": {},
   "outputs": [
    {
     "data": {
      "text/plain": [
       "[<matplotlib.lines.Line2D at 0x2071e972fd0>]"
      ]
     },
     "execution_count": 6,
     "metadata": {},
     "output_type": "execute_result"
    },
    {
     "data": {
      "image/png": "[encoded data removed]",
      "text/plain": [
       "<Figure size 432x288 with 1 Axes>"
      ]
     },
     "metadata": {
      "needs_background": "light"
     },
     "output_type": "display_data"
    }
   ],
   "source": [
    "plt.plot(data_set_2[:100,0], data_set_2[:100,1], 'x')\n",
    "plt.plot(data_set_2[100:,0], data_set_2[100:,1], 'o')"
   ]
  },
  {
   "cell_type": "code",
   "execution_count": null,
   "metadata": {},
   "outputs": [],
   "source": []
  },
  {
   "cell_type": "code",
   "execution_count": 3,
   "metadata": {},
   "outputs": [],
   "source": [
    "def cross_val(data, n):\n",
    "\n",
    "    fold_array = np.zeros(len(data))\n",
    "    folds = n\n",
    "    size_folds = len(data)/folds\n",
    "\n",
    "    index = np.arange(len(data))\n",
    "    np.random.shuffle(index)\n",
    "\n",
    "    for f in range(n):\n",
    "        start = f*size_folds\n",
    "        end = (f+1)*size_folds\n",
    "        ind = index[int(start):int(end)]\n",
    "\n",
    "        fold_array[ind] = f\n",
    "\n",
    "    acc = np.zeros(n)\n",
    "\n",
    "    for f in range(n):\n",
    "        data_train = data[fold_array != f, :]\n",
    "        data_test = data[fold_array == f, :]\n",
    "\n",
    "        class_train = data_train[:, 2]\n",
    "        class_test = data_test[:, 2]\n",
    "\n",
    "        idx_c1 = np.transpose(np.where(class_train == 1))\n",
    "        idx_c2 = np.transpose(np.where(class_train == 2))\n",
    "\n",
    "        m_1, m_2 = np.zeros(2), np.zeros(2)\n",
    "        s_1, s_2 = np.zeros(2), np.zeros(2)\n",
    "\n",
    "        prior1 = np.sum(class_train == 1)/len(class_train)\n",
    "        prior2 = np.sum(class_train == 2)/len(class_train)\n",
    "        \n",
    "          #Mean & sd for C1\n",
    "        m_1[0], s_1[0] = np.mean(data_train[idx_c1, 0]), np.std(data_train[idx_c1, 0])\n",
    "        m_1[1], s_1[1] = np.mean(data_train[idx_c1, 1]), np.std(data_train[idx_c1, 1])\n",
    "\n",
    "        #Mean & sd for C2\n",
    "        m_2[0], s_2[0] = np.mean(data_train[idx_c2, 0]), np.std(data_train[idx_c2, 0])\n",
    "        m_2[1], s_2[1] = np.mean(data_train[idx_c2, 1]), np.std(data_train[idx_c2, 1])\n",
    "\n",
    "        est_type = np.zeros(len(data_test))\n",
    "\n",
    "        p1 , p2 = np.zeros(2), np.zeros(2)\n",
    "\n",
    "        for i in range(len(data_test)):\n",
    "\n",
    "            for feat in range(2):\n",
    "\n",
    "                x = data_test[i][feat]\n",
    "\n",
    "                p1[feat] =  1/(s_1[feat] * np.sqrt(2 * np.pi)) * np.exp(-0.5*(x - m_1[feat])**2/s_1[feat]**2)\n",
    "\n",
    "                p2[feat] =  1/(s_2[feat] * np.sqrt(2 * np.pi)) * np.exp(-0.5*(x - m_2[feat])**2/s_2[feat]**2)\n",
    "\n",
    "            P1 = prior1 * np.prod(p1)\n",
    "            P2 = prior2 * np.prod(p2)\n",
    "\n",
    "            est_type[i] = np.argmax([P1, P2]) + 1\n",
    "\n",
    "        acc[f] = np.sum(est_type == class_test)/len(data_test)\n",
    "    \n",
    "    \n",
    "    return acc\n"
   ]
  },
  {
   "cell_type": "code",
   "execution_count": 8,
   "metadata": {},
   "outputs": [],
   "source": [
    "acc1 = cross_val(data_set_1, 10)\n",
    "acc2 = cross_val(data_set_2, 10)\n",
    "acc3 = cross_val(data_set_3, 10)\n",
    "avg1 = np.mean(acc1)\n",
    "avg2 = np.mean(acc2)\n",
    "avg3 = np.mean(acc3)"
   ]
  },
  {
   "cell_type": "code",
   "execution_count": 9,
   "metadata": {},
   "outputs": [
    {
     "name": "stdout",
     "output_type": "stream",
     "text": [
      "Average accuracy for Data set 1: 0.95\n",
      "Average accuracy for Data set 2: 0.925\n",
      "Average accuracy for Data set 3: 0.922\n"
     ]
    }
   ],
   "source": [
    "print('Average accuracy for Data set 1: ' + str(avg1))\n",
    "print('Average accuracy for Data set 2: ' + str(avg2))\n",
    "print('Average accuracy for Data set 3: ' + str(avg3))"
   ]
  },
  {
   "cell_type": "code",
   "execution_count": 16,
   "metadata": {},
   "outputs": [],
   "source": [
    "m10 = [-2, 0]\n",
    "v10 = np.array([[2 ,-1.8],[-1.8,3]])\n",
    "\n",
    "m11 = [2, 0]\n",
    "v11 = np.array([[2, -1.8], [-1.8, 3]])\n",
    "\n",
    "data_set_4 = GaussSet(m10, m11, v10, 20)\n",
    "data_set_5 = GaussSet(m10, m11, v10, 100)\n",
    "data_set_6 = GaussSet(m10, m11, v10, 1200)"
   ]
  },
  {
   "cell_type": "code",
   "execution_count": 17,
   "metadata": {},
   "outputs": [
    {
     "data": {
      "text/plain": [
       "[<matplotlib.lines.Line2D at 0x2071eace670>]"
      ]
     },
     "execution_count": 17,
     "metadata": {},
     "output_type": "execute_result"
    },
    {
     "data": {
      "image/png": "[encoded data removed]",
      "text/plain": [
       "<Figure size 432x288 with 1 Axes>"
      ]
     },
     "metadata": {
      "needs_background": "light"
     },
     "output_type": "display_data"
    }
   ],
   "source": [
    "plt.plot(data_set_5[:100,0], data_set_5[:100,1], 'x')\n",
    "plt.plot(data_set_5[100:,0], data_set_5[100:,1], 'o')"
   ]
  },
  {
   "cell_type": "code",
   "execution_count": 18,
   "metadata": {},
   "outputs": [],
   "source": [
    "acc4 = cross_val(data_set_4, 10)\n",
    "acc5 = cross_val(data_set_5, 10)\n",
    "acc6 = cross_val(data_set_6, 10)\n",
    "avg4 = np.mean(acc4)\n",
    "avg5 = np.mean(acc5)\n",
    "avg6 = np.mean(acc6)"
   ]
  },
  {
   "cell_type": "code",
   "execution_count": 19,
   "metadata": {},
   "outputs": [
    {
     "name": "stdout",
     "output_type": "stream",
     "text": [
      "Average accuracy for Data set 1: 0.95\n",
      "Average accuracy for Data set 2: 0.925\n",
      "Average accuracy for Data set 3: 0.922\n"
     ]
    }
   ],
   "source": [
    "print('Average accuracy for Data set 1: ' + str(avg1))\n",
    "print('Average accuracy for Data set 2: ' + str(avg2))\n",
    "print('Average accuracy for Data set 3: ' + str(avg3))"
   ]
  },
  {
   "cell_type": "code",
   "execution_count": null,
   "metadata": {},
   "outputs": [],
   "source": [
    "\n"
   ]
  },
  {
   "cell_type": "code",
   "execution_count": null,
   "metadata": {},
   "outputs": [],
   "source": []
  }
 ],
 "metadata": {
  "kernelspec": {
   "display_name": "Python 3",
   "language": "python",
   "name": "python3"
  },
  "language_info": {
   "codemirror_mode": {
    "name": "ipython",
    "version": 3
   },
   "file_extension": ".py",
   "mimetype": "text/x-python",
   "name": "python",
   "nbconvert_exporter": "python",
   "pygments_lexer": "ipython3",
   "version": "3.8.3"
  }
 },
 "nbformat": 4,
 "nbformat_minor": 4
}
